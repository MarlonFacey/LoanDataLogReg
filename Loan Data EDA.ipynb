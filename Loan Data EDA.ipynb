{
 "cells": [
  {
   "cell_type": "markdown",
   "id": "6851a01d",
   "metadata": {},
   "source": [
    "# Table of contents\n",
    "1. [Preprocessing](#preprocessing)\n",
    "2. [EDA](#eda)\n",
    "3. [Model Fitting](#model_fitting)\n",
    "    1. [Logistic Regresion](#logistic_regression)\n",
    "    2. [Discriminant Analysis](#discriminant_analysis)"
   ]
  },
  {
   "cell_type": "code",
   "execution_count": 1,
   "id": "0808dee7",
   "metadata": {},
   "outputs": [],
   "source": [
    "import pandas as pd\n",
    "import statsmodels.api as sm\n",
    "import re\n",
    "import numpy as np\n",
    "from sklearn.metrics import roc_auc_score\n",
    "from sklearn.metrics import roc_curve\n",
    "from sklearn.linear_model import LogisticRegression\n",
    "from sklearn.model_selection import train_test_split\n",
    "import matplotlib.pyplot as plt\n",
    "from sklearn import preprocessing\n",
    "import seaborn as sn\n",
    "from sklearn.model_selection import train_test_split, GridSearchCV, cross_val_score, RepeatedStratifiedKFold, StratifiedKFold\n",
    "from sklearn.metrics import accuracy_score, confusion_matrix,roc_curve, roc_auc_score, precision_score, recall_score, precision_recall_curve\n",
    "from sklearn.metrics import f1_score\n",
    "from sklearn.metrics import precision_recall_curve\n",
    "from sklearn.metrics import auc\n",
    "from statsmodels.genmod.generalized_linear_model import GLM\n",
    "from statsmodels.genmod import families\n",
    "from statsmodels.formula.api import logit\n",
    "from sklearn.discriminant_analysis import LinearDiscriminantAnalysis as LDA\n",
    "from sklearn.discriminant_analysis import QuadraticDiscriminantAnalysis as QDA\n",
    "from sklearn.preprocessing import PolynomialFeatures, power_transform\n",
    "from collections import Counter\n",
    "from imblearn.over_sampling import SMOTE\n",
    "from scipy import stats"
   ]
  },
  {
   "cell_type": "markdown",
   "id": "c582f44e",
   "metadata": {},
   "source": [
    "## Preprocessing <a name=\"preprocessing\"></a>"
   ]
  },
  {
   "cell_type": "code",
   "execution_count": 2,
   "id": "9cb7d9f5",
   "metadata": {},
   "outputs": [
    {
     "name": "stderr",
     "output_type": "stream",
     "text": [
      "/Users/marlonfacey/anaconda3/lib/python3.7/site-packages/IPython/core/interactiveshell.py:3166: DtypeWarning: Columns (1,48,58,117,127,128,129,132,133,134,137) have mixed types.Specify dtype option on import or set low_memory=False.\n",
      "  interactivity=interactivity, compiler=compiler, result=result)\n"
     ]
    }
   ],
   "source": [
    "full_dataset = pd.read_csv('archive/Loan_status_2007-2020Q3.gzip')"
   ]
  },
  {
   "cell_type": "code",
   "execution_count": 3,
   "id": "a76cc238",
   "metadata": {},
   "outputs": [],
   "source": [
    "full_dataset['issue_d'] = pd.to_datetime(full_dataset['issue_d'])\n",
    "mask = (full_dataset['issue_d'] > '2014-01-01') & (full_dataset['issue_d'] <= '2015-01-01')\n",
    "small_dataset = full_dataset[mask]"
   ]
  },
  {
   "cell_type": "code",
   "execution_count": 4,
   "id": "75f6f30e",
   "metadata": {},
   "outputs": [],
   "source": [
    "columns = ['annual_inc', 'chargeoff_within_12_mths', 'delinq_2yrs', 'dti', 'emp_length', 'emp_title', 'funded_amnt', \n",
    "           'home_ownership', 'inq_last_6mths', 'int_rate', 'issue_d', 'loan_amnt',\n",
    "           'pub_rec_bankruptcies', 'purpose', 'revol_bal', 'term', 'total_acc', 'verification_status', 'loan_status']\n",
    "df = small_dataset[columns]\n"
   ]
  },
  {
   "cell_type": "code",
   "execution_count": 5,
   "id": "b5bb47ac",
   "metadata": {},
   "outputs": [
    {
     "data": {
      "text/plain": [
       "array(['Charged Off', 'Fully Paid', 'Current', 'Late (31-120 days)',\n",
       "       'Default', 'In Grace Period'], dtype=object)"
      ]
     },
     "execution_count": 5,
     "metadata": {},
     "output_type": "execute_result"
    }
   ],
   "source": [
    "df['loan_status'].unique()"
   ]
  },
  {
   "cell_type": "code",
   "execution_count": 6,
   "id": "b3314382",
   "metadata": {},
   "outputs": [
    {
     "data": {
      "text/plain": [
       "array(['credit_card', 'debt_consolidation', 'car', 'house',\n",
       "       'home_improvement', 'other', 'medical', 'major_purchase', 'moving',\n",
       "       'vacation', 'small_business', 'renewable_energy', 'wedding'],\n",
       "      dtype=object)"
      ]
     },
     "execution_count": 6,
     "metadata": {},
     "output_type": "execute_result"
    }
   ],
   "source": [
    "df['purpose'].unique()"
   ]
  },
  {
   "cell_type": "code",
   "execution_count": 7,
   "id": "989e6eb6",
   "metadata": {},
   "outputs": [],
   "source": [
    "def clean_data(X):\n",
    "    X = X.dropna()\n",
    "    X['emp_length'] = [float(re.sub('[a-zA-Z +<]*', '', str(string))) for string in X['emp_length']]\n",
    "    X['int_rate'] = [float(re.sub('[a-zA-Z %]*', '', str(string))) for string in X['int_rate']]\n",
    "    X['term'] = [float(re.sub('[a-zA-Z ]*', '', str(string))) for string in X['term']]\n",
    "    X['home_ownership'] = (X['home_ownership'] == 'OWN').astype('int')\n",
    "    X['verification_status'] = (X['verification_status'] != 'Verified') | (X['verification_status'] != 'Source Verified')\n",
    "    X['verification_status'] = X['verification_status'].astype('int')\n",
    "    # Remove emp title, issue_d before regression is run, can also try get_dummies for emp_title (Maybe just a few professions or types)\n",
    "    # Drop funded amount since it is equal to loan amount for our data (Makes matrix singular), all are verified \n",
    "    X = X.drop(columns=['emp_title', 'issue_d','funded_amnt', 'verification_status'])\n",
    "    \n",
    "    \n",
    "    #X['loan_status'] = (X['loan_status'] == 'Current') | (X['loan_status'] == 'Fully Paid') | (X['loan_status'] == 'In Grace Period')\n",
    "    \n",
    "#     There are so few defaults that instead I think we should do if the loan is paid/current\n",
    "    mask = (X['loan_status'] == 'Default') | (X['loan_status'] == 'Fully Paid') | (X['loan_status'] == 'Charged Off')\n",
    "    X = X[mask]\n",
    "    X['loan_status'] = (X['loan_status'] == 'Default') | (X['loan_status'] == 'Charged Off')\n",
    "    X['loan_status'] = X['loan_status'].astype('int')\n",
    "    \n",
    "    \n",
    "    \n",
    "    #Just select the categorical variables\n",
    "    cat_vars = ['purpose']\n",
    "\n",
    "    #Create dummy variables for each cat. variable\n",
    "    for var in cat_vars:\n",
    "        cat_list = pd.get_dummies(X[var], prefix=var)\n",
    "        # Categorical variables that have low count are making matrix singular\n",
    "        for col in cat_list.columns:\n",
    "            if sum(cat_list[col]) <= 50:\n",
    "                cat_list = cat_list.drop(columns=[col])\n",
    "        X=X.join(cat_list)\n",
    "        \n",
    "        \n",
    "\n",
    "    X = X.drop(columns = cat_vars)\n",
    "    \n",
    "    return X\n",
    "  \n"
   ]
  },
  {
   "cell_type": "code",
   "execution_count": 8,
   "id": "0499013c",
   "metadata": {},
   "outputs": [],
   "source": [
    "# Wrote own function to preserve column names\n",
    "def normalize(X):\n",
    "    return (X-X.min())/(X.max()-X.min())"
   ]
  },
  {
   "cell_type": "code",
   "execution_count": 9,
   "id": "439de0eb",
   "metadata": {},
   "outputs": [
    {
     "name": "stderr",
     "output_type": "stream",
     "text": [
      "/Users/marlonfacey/anaconda3/lib/python3.7/site-packages/ipykernel_launcher.py:3: SettingWithCopyWarning: \n",
      "A value is trying to be set on a copy of a slice from a DataFrame.\n",
      "Try using .loc[row_indexer,col_indexer] = value instead\n",
      "\n",
      "See the caveats in the documentation: https://pandas.pydata.org/pandas-docs/stable/user_guide/indexing.html#returning-a-view-versus-a-copy\n",
      "  This is separate from the ipykernel package so we can avoid doing imports until\n",
      "/Users/marlonfacey/anaconda3/lib/python3.7/site-packages/ipykernel_launcher.py:4: SettingWithCopyWarning: \n",
      "A value is trying to be set on a copy of a slice from a DataFrame.\n",
      "Try using .loc[row_indexer,col_indexer] = value instead\n",
      "\n",
      "See the caveats in the documentation: https://pandas.pydata.org/pandas-docs/stable/user_guide/indexing.html#returning-a-view-versus-a-copy\n",
      "  after removing the cwd from sys.path.\n",
      "/Users/marlonfacey/anaconda3/lib/python3.7/site-packages/ipykernel_launcher.py:5: SettingWithCopyWarning: \n",
      "A value is trying to be set on a copy of a slice from a DataFrame.\n",
      "Try using .loc[row_indexer,col_indexer] = value instead\n",
      "\n",
      "See the caveats in the documentation: https://pandas.pydata.org/pandas-docs/stable/user_guide/indexing.html#returning-a-view-versus-a-copy\n",
      "  \"\"\"\n",
      "/Users/marlonfacey/anaconda3/lib/python3.7/site-packages/ipykernel_launcher.py:6: SettingWithCopyWarning: \n",
      "A value is trying to be set on a copy of a slice from a DataFrame.\n",
      "Try using .loc[row_indexer,col_indexer] = value instead\n",
      "\n",
      "See the caveats in the documentation: https://pandas.pydata.org/pandas-docs/stable/user_guide/indexing.html#returning-a-view-versus-a-copy\n",
      "  \n",
      "/Users/marlonfacey/anaconda3/lib/python3.7/site-packages/ipykernel_launcher.py:7: SettingWithCopyWarning: \n",
      "A value is trying to be set on a copy of a slice from a DataFrame.\n",
      "Try using .loc[row_indexer,col_indexer] = value instead\n",
      "\n",
      "See the caveats in the documentation: https://pandas.pydata.org/pandas-docs/stable/user_guide/indexing.html#returning-a-view-versus-a-copy\n",
      "  import sys\n",
      "/Users/marlonfacey/anaconda3/lib/python3.7/site-packages/ipykernel_launcher.py:8: SettingWithCopyWarning: \n",
      "A value is trying to be set on a copy of a slice from a DataFrame.\n",
      "Try using .loc[row_indexer,col_indexer] = value instead\n",
      "\n",
      "See the caveats in the documentation: https://pandas.pydata.org/pandas-docs/stable/user_guide/indexing.html#returning-a-view-versus-a-copy\n",
      "  \n"
     ]
    }
   ],
   "source": [
    "df = clean_data(df[:100000])"
   ]
  },
  {
   "cell_type": "markdown",
   "id": "9df16767",
   "metadata": {},
   "source": [
    "## EDA <a name=\"eda\"></a>"
   ]
  },
  {
   "cell_type": "code",
   "execution_count": 74,
   "id": "3d3665d1",
   "metadata": {},
   "outputs": [
    {
     "data": {
      "image/png": "[encoded data removed]",
      "text/plain": [
       "<Figure size 720x720 with 2 Axes>"
      ]
     },
     "metadata": {
      "needs_background": "light"
     },
     "output_type": "display_data"
    }
   ],
   "source": [
    "fig, ax = plt.subplots(figsize=(10,10)) \n",
    "corrMatrix = df.corr()\n",
    "ax = sn.heatmap(corrMatrix, cmap=\"YlGnBu\", xticklabels=True, yticklabels=True)\n",
    "plt.show()"
   ]
  },
  {
   "cell_type": "code",
   "execution_count": 64,
   "id": "c95ad764",
   "metadata": {},
   "outputs": [
    {
     "data": {
      "image/png": "[encoded data removed]",
      "text/plain": [
       "<Figure size 432x288 with 1 Axes>"
      ]
     },
     "metadata": {
      "needs_background": "light"
     },
     "output_type": "display_data"
    }
   ],
   "source": [
    "plt.hist(df['loan_amnt'], bins=50)\n",
    "plt.show()"
   ]
  },
  {
   "cell_type": "code",
   "execution_count": 66,
   "id": "8de1b4a3",
   "metadata": {},
   "outputs": [
    {
     "data": {
      "image/png": "[encoded data removed]",
      "text/plain": [
       "<Figure size 432x288 with 1 Axes>"
      ]
     },
     "metadata": {
      "needs_background": "light"
     },
     "output_type": "display_data"
    }
   ],
   "source": [
    "ax = sn.boxplot(y=df['loan_amnt'], x=df['loan_status'])"
   ]
  },
  {
   "cell_type": "code",
   "execution_count": 67,
   "id": "b542c753",
   "metadata": {},
   "outputs": [
    {
     "data": {
      "image/png": "[encoded data removed]",
      "text/plain": [
       "<Figure size 432x288 with 1 Axes>"
      ]
     },
     "metadata": {
      "needs_background": "light"
     },
     "output_type": "display_data"
    }
   ],
   "source": [
    "boxplot_df = df[df['annual_inc'] < 2*10**5] \n",
    "ax = sn.boxplot(y=boxplot_df['annual_inc'], x=boxplot_df['loan_status'])"
   ]
  },
  {
   "cell_type": "code",
   "execution_count": 68,
   "id": "d5ba6070",
   "metadata": {},
   "outputs": [
    {
     "data": {
      "image/png": "[encoded data removed]",
      "text/plain": [
       "<Figure size 432x288 with 1 Axes>"
      ]
     },
     "metadata": {
      "needs_background": "light"
     },
     "output_type": "display_data"
    }
   ],
   "source": [
    "ax = sn.boxplot(y=df['int_rate'], x=df['loan_status'])"
   ]
  },
  {
   "cell_type": "code",
   "execution_count": 71,
   "id": "212d64f6",
   "metadata": {},
   "outputs": [
    {
     "data": {
      "image/png": "[encoded data removed]",
      "text/plain": [
       "<Figure size 432x288 with 1 Axes>"
      ]
     },
     "metadata": {
      "needs_background": "light"
     },
     "output_type": "display_data"
    }
   ],
   "source": [
    "boxplot_df = df[df['revol_bal'] < 6*10**4] \n",
    "ax = sn.boxplot(y=boxplot_df['revol_bal'], x=boxplot_df['loan_status'])"
   ]
  },
  {
   "cell_type": "code",
   "execution_count": 468,
   "id": "d8b9aa09",
   "metadata": {},
   "outputs": [
    {
     "data": {
      "text/plain": [
       "<seaborn.axisgrid.FacetGrid at 0x1ff36ba90>"
      ]
     },
     "execution_count": 468,
     "metadata": {},
     "output_type": "execute_result"
    },
    {
     "data": {
      "image/png": "[encoded data removed]",
      "text/plain": [
       "<Figure size 360x360 with 1 Axes>"
      ]
     },
     "metadata": {
      "needs_background": "light"
     },
     "output_type": "display_data"
    }
   ],
   "source": [
    "ax = sn.catplot(x=\"purpose\", kind=\"count\", data=small_dataset[(small_dataset[\"loan_status\"] == \"Charged Off\") | (small_dataset[\"loan_status\"] == \"Default\")])\n",
    "ax.set_xticklabels(rotation=90)"
   ]
  },
  {
   "cell_type": "code",
   "execution_count": 41,
   "id": "db0f10e7",
   "metadata": {},
   "outputs": [
    {
     "data": {
      "text/html": [
       "<div>\n",
       "<style scoped>\n",
       "    .dataframe tbody tr th:only-of-type {\n",
       "        vertical-align: middle;\n",
       "    }\n",
       "\n",
       "    .dataframe tbody tr th {\n",
       "        vertical-align: top;\n",
       "    }\n",
       "\n",
       "    .dataframe thead th {\n",
       "        text-align: right;\n",
       "    }\n",
       "</style>\n",
       "<table border=\"1\" class=\"dataframe\">\n",
       "  <thead>\n",
       "    <tr style=\"text-align: right;\">\n",
       "      <th></th>\n",
       "      <th>annual_inc</th>\n",
       "      <th>chargeoff_within_12_mths</th>\n",
       "      <th>delinq_2yrs</th>\n",
       "      <th>dti</th>\n",
       "      <th>emp_length</th>\n",
       "      <th>home_ownership</th>\n",
       "      <th>inq_last_6mths</th>\n",
       "      <th>installment</th>\n",
       "      <th>int_rate</th>\n",
       "      <th>loan_amnt</th>\n",
       "      <th>...</th>\n",
       "      <th>purpose_debt_consolidation</th>\n",
       "      <th>purpose_home_improvement</th>\n",
       "      <th>purpose_house</th>\n",
       "      <th>purpose_major_purchase</th>\n",
       "      <th>purpose_medical</th>\n",
       "      <th>purpose_moving</th>\n",
       "      <th>purpose_other</th>\n",
       "      <th>purpose_renewable_energy</th>\n",
       "      <th>purpose_small_business</th>\n",
       "      <th>purpose_vacation</th>\n",
       "    </tr>\n",
       "  </thead>\n",
       "  <tbody>\n",
       "    <tr>\n",
       "      <th>count</th>\n",
       "      <td>9.469000e+04</td>\n",
       "      <td>94690.000000</td>\n",
       "      <td>94690.000000</td>\n",
       "      <td>94690.000000</td>\n",
       "      <td>94690.000000</td>\n",
       "      <td>94690.000000</td>\n",
       "      <td>94690.000000</td>\n",
       "      <td>94690.000000</td>\n",
       "      <td>94690.000000</td>\n",
       "      <td>94690.000000</td>\n",
       "      <td>...</td>\n",
       "      <td>94690.000000</td>\n",
       "      <td>94690.000000</td>\n",
       "      <td>94690.000000</td>\n",
       "      <td>94690.000000</td>\n",
       "      <td>94690.000000</td>\n",
       "      <td>94690.000000</td>\n",
       "      <td>94690.000000</td>\n",
       "      <td>94690.000000</td>\n",
       "      <td>94690.000000</td>\n",
       "      <td>94690.000000</td>\n",
       "    </tr>\n",
       "    <tr>\n",
       "      <th>mean</th>\n",
       "      <td>7.606553e+04</td>\n",
       "      <td>0.010212</td>\n",
       "      <td>0.347745</td>\n",
       "      <td>18.687679</td>\n",
       "      <td>6.148474</td>\n",
       "      <td>0.098363</td>\n",
       "      <td>0.622537</td>\n",
       "      <td>441.369827</td>\n",
       "      <td>13.257025</td>\n",
       "      <td>15053.951051</td>\n",
       "      <td>...</td>\n",
       "      <td>0.620541</td>\n",
       "      <td>0.050713</td>\n",
       "      <td>0.003337</td>\n",
       "      <td>0.016697</td>\n",
       "      <td>0.009505</td>\n",
       "      <td>0.006400</td>\n",
       "      <td>0.047101</td>\n",
       "      <td>0.000708</td>\n",
       "      <td>0.008977</td>\n",
       "      <td>0.004721</td>\n",
       "    </tr>\n",
       "    <tr>\n",
       "      <th>std</th>\n",
       "      <td>5.886480e+04</td>\n",
       "      <td>0.110832</td>\n",
       "      <td>0.911898</td>\n",
       "      <td>8.500398</td>\n",
       "      <td>3.549330</td>\n",
       "      <td>0.297807</td>\n",
       "      <td>0.915039</td>\n",
       "      <td>244.765605</td>\n",
       "      <td>4.391573</td>\n",
       "      <td>8518.500573</td>\n",
       "      <td>...</td>\n",
       "      <td>0.485255</td>\n",
       "      <td>0.219412</td>\n",
       "      <td>0.057672</td>\n",
       "      <td>0.128133</td>\n",
       "      <td>0.097028</td>\n",
       "      <td>0.079743</td>\n",
       "      <td>0.211856</td>\n",
       "      <td>0.026591</td>\n",
       "      <td>0.094320</td>\n",
       "      <td>0.068545</td>\n",
       "    </tr>\n",
       "    <tr>\n",
       "      <th>min</th>\n",
       "      <td>4.000000e+03</td>\n",
       "      <td>0.000000</td>\n",
       "      <td>0.000000</td>\n",
       "      <td>0.000000</td>\n",
       "      <td>1.000000</td>\n",
       "      <td>0.000000</td>\n",
       "      <td>0.000000</td>\n",
       "      <td>30.420000</td>\n",
       "      <td>6.000000</td>\n",
       "      <td>1000.000000</td>\n",
       "      <td>...</td>\n",
       "      <td>0.000000</td>\n",
       "      <td>0.000000</td>\n",
       "      <td>0.000000</td>\n",
       "      <td>0.000000</td>\n",
       "      <td>0.000000</td>\n",
       "      <td>0.000000</td>\n",
       "      <td>0.000000</td>\n",
       "      <td>0.000000</td>\n",
       "      <td>0.000000</td>\n",
       "      <td>0.000000</td>\n",
       "    </tr>\n",
       "    <tr>\n",
       "      <th>25%</th>\n",
       "      <td>4.600000e+04</td>\n",
       "      <td>0.000000</td>\n",
       "      <td>0.000000</td>\n",
       "      <td>12.270000</td>\n",
       "      <td>3.000000</td>\n",
       "      <td>0.000000</td>\n",
       "      <td>0.000000</td>\n",
       "      <td>264.460000</td>\n",
       "      <td>10.150000</td>\n",
       "      <td>8400.000000</td>\n",
       "      <td>...</td>\n",
       "      <td>0.000000</td>\n",
       "      <td>0.000000</td>\n",
       "      <td>0.000000</td>\n",
       "      <td>0.000000</td>\n",
       "      <td>0.000000</td>\n",
       "      <td>0.000000</td>\n",
       "      <td>0.000000</td>\n",
       "      <td>0.000000</td>\n",
       "      <td>0.000000</td>\n",
       "      <td>0.000000</td>\n",
       "    </tr>\n",
       "    <tr>\n",
       "      <th>50%</th>\n",
       "      <td>6.500000e+04</td>\n",
       "      <td>0.000000</td>\n",
       "      <td>0.000000</td>\n",
       "      <td>18.120000</td>\n",
       "      <td>7.000000</td>\n",
       "      <td>0.000000</td>\n",
       "      <td>0.000000</td>\n",
       "      <td>384.340000</td>\n",
       "      <td>12.990000</td>\n",
       "      <td>13512.500000</td>\n",
       "      <td>...</td>\n",
       "      <td>1.000000</td>\n",
       "      <td>0.000000</td>\n",
       "      <td>0.000000</td>\n",
       "      <td>0.000000</td>\n",
       "      <td>0.000000</td>\n",
       "      <td>0.000000</td>\n",
       "      <td>0.000000</td>\n",
       "      <td>0.000000</td>\n",
       "      <td>0.000000</td>\n",
       "      <td>0.000000</td>\n",
       "    </tr>\n",
       "    <tr>\n",
       "      <th>75%</th>\n",
       "      <td>9.000000e+04</td>\n",
       "      <td>0.000000</td>\n",
       "      <td>0.000000</td>\n",
       "      <td>24.630000</td>\n",
       "      <td>10.000000</td>\n",
       "      <td>0.000000</td>\n",
       "      <td>1.000000</td>\n",
       "      <td>578.420000</td>\n",
       "      <td>15.610000</td>\n",
       "      <td>20000.000000</td>\n",
       "      <td>...</td>\n",
       "      <td>1.000000</td>\n",
       "      <td>0.000000</td>\n",
       "      <td>0.000000</td>\n",
       "      <td>0.000000</td>\n",
       "      <td>0.000000</td>\n",
       "      <td>0.000000</td>\n",
       "      <td>0.000000</td>\n",
       "      <td>0.000000</td>\n",
       "      <td>0.000000</td>\n",
       "      <td>0.000000</td>\n",
       "    </tr>\n",
       "    <tr>\n",
       "      <th>max</th>\n",
       "      <td>7.500000e+06</td>\n",
       "      <td>4.000000</td>\n",
       "      <td>22.000000</td>\n",
       "      <td>39.990000</td>\n",
       "      <td>10.000000</td>\n",
       "      <td>1.000000</td>\n",
       "      <td>6.000000</td>\n",
       "      <td>1408.130000</td>\n",
       "      <td>26.060000</td>\n",
       "      <td>35000.000000</td>\n",
       "      <td>...</td>\n",
       "      <td>1.000000</td>\n",
       "      <td>1.000000</td>\n",
       "      <td>1.000000</td>\n",
       "      <td>1.000000</td>\n",
       "      <td>1.000000</td>\n",
       "      <td>1.000000</td>\n",
       "      <td>1.000000</td>\n",
       "      <td>1.000000</td>\n",
       "      <td>1.000000</td>\n",
       "      <td>1.000000</td>\n",
       "    </tr>\n",
       "  </tbody>\n",
       "</table>\n",
       "<p>8 rows × 28 columns</p>\n",
       "</div>"
      ],
      "text/plain": [
       "         annual_inc  chargeoff_within_12_mths   delinq_2yrs           dti  \\\n",
       "count  9.469000e+04              94690.000000  94690.000000  94690.000000   \n",
       "mean   7.606553e+04                  0.010212      0.347745     18.687679   \n",
       "std    5.886480e+04                  0.110832      0.911898      8.500398   \n",
       "min    4.000000e+03                  0.000000      0.000000      0.000000   \n",
       "25%    4.600000e+04                  0.000000      0.000000     12.270000   \n",
       "50%    6.500000e+04                  0.000000      0.000000     18.120000   \n",
       "75%    9.000000e+04                  0.000000      0.000000     24.630000   \n",
       "max    7.500000e+06                  4.000000     22.000000     39.990000   \n",
       "\n",
       "         emp_length  home_ownership  inq_last_6mths   installment  \\\n",
       "count  94690.000000    94690.000000    94690.000000  94690.000000   \n",
       "mean       6.148474        0.098363        0.622537    441.369827   \n",
       "std        3.549330        0.297807        0.915039    244.765605   \n",
       "min        1.000000        0.000000        0.000000     30.420000   \n",
       "25%        3.000000        0.000000        0.000000    264.460000   \n",
       "50%        7.000000        0.000000        0.000000    384.340000   \n",
       "75%       10.000000        0.000000        1.000000    578.420000   \n",
       "max       10.000000        1.000000        6.000000   1408.130000   \n",
       "\n",
       "           int_rate     loan_amnt  ...  purpose_debt_consolidation  \\\n",
       "count  94690.000000  94690.000000  ...                94690.000000   \n",
       "mean      13.257025  15053.951051  ...                    0.620541   \n",
       "std        4.391573   8518.500573  ...                    0.485255   \n",
       "min        6.000000   1000.000000  ...                    0.000000   \n",
       "25%       10.150000   8400.000000  ...                    0.000000   \n",
       "50%       12.990000  13512.500000  ...                    1.000000   \n",
       "75%       15.610000  20000.000000  ...                    1.000000   \n",
       "max       26.060000  35000.000000  ...                    1.000000   \n",
       "\n",
       "       purpose_home_improvement  purpose_house  purpose_major_purchase  \\\n",
       "count              94690.000000   94690.000000            94690.000000   \n",
       "mean                   0.050713       0.003337                0.016697   \n",
       "std                    0.219412       0.057672                0.128133   \n",
       "min                    0.000000       0.000000                0.000000   \n",
       "25%                    0.000000       0.000000                0.000000   \n",
       "50%                    0.000000       0.000000                0.000000   \n",
       "75%                    0.000000       0.000000                0.000000   \n",
       "max                    1.000000       1.000000                1.000000   \n",
       "\n",
       "       purpose_medical  purpose_moving  purpose_other  \\\n",
       "count     94690.000000    94690.000000   94690.000000   \n",
       "mean          0.009505        0.006400       0.047101   \n",
       "std           0.097028        0.079743       0.211856   \n",
       "min           0.000000        0.000000       0.000000   \n",
       "25%           0.000000        0.000000       0.000000   \n",
       "50%           0.000000        0.000000       0.000000   \n",
       "75%           0.000000        0.000000       0.000000   \n",
       "max           1.000000        1.000000       1.000000   \n",
       "\n",
       "       purpose_renewable_energy  purpose_small_business  purpose_vacation  \n",
       "count              94690.000000            94690.000000      94690.000000  \n",
       "mean                   0.000708                0.008977          0.004721  \n",
       "std                    0.026591                0.094320          0.068545  \n",
       "min                    0.000000                0.000000          0.000000  \n",
       "25%                    0.000000                0.000000          0.000000  \n",
       "50%                    0.000000                0.000000          0.000000  \n",
       "75%                    0.000000                0.000000          0.000000  \n",
       "max                    1.000000                1.000000          1.000000  \n",
       "\n",
       "[8 rows x 28 columns]"
      ]
     },
     "execution_count": 41,
     "metadata": {},
     "output_type": "execute_result"
    }
   ],
   "source": [
    "df.describe()"
   ]
  },
  {
   "cell_type": "markdown",
   "id": "75271dd9",
   "metadata": {},
   "source": [
    "## Model Fitting<a name=\"model_fitting\"></a>"
   ]
  },
  {
   "cell_type": "markdown",
   "id": "084ed6bc",
   "metadata": {},
   "source": [
    "## Logistic Regression <a name=\"logistic_regression\"></a>"
   ]
  },
  {
   "cell_type": "code",
   "execution_count": 10,
   "id": "8ed9d822",
   "metadata": {},
   "outputs": [],
   "source": [
    "train, test = train_test_split(df, train_size=0.80, random_state=1)\n",
    "train = train.fillna(0)\n",
    "test = test.fillna(0)\n",
    "X = train.drop(columns=['loan_status'])\n",
    "# Normalize Data (Using min max)\n",
    "X = normalize(X)\n",
    "# Note: Could also try multinomial logistic regression since the loan status doesnt necessarily have to be 0 or 1\n",
    "# Perhaps cluster robust estimator by loan purpose or some other variable\n",
    "Y = train['loan_status']"
   ]
  },
  {
   "cell_type": "code",
   "execution_count": 11,
   "id": "66e8d851",
   "metadata": {},
   "outputs": [],
   "source": [
    "X_test = test.drop(columns=['loan_status'])\n",
    "X_test = normalize(X_test)\n",
    "y_test = test['loan_status']"
   ]
  },
  {
   "cell_type": "code",
   "execution_count": 77,
   "id": "2c09d052",
   "metadata": {},
   "outputs": [
    {
     "name": "stderr",
     "output_type": "stream",
     "text": [
      "/Users/marlonfacey/anaconda3/lib/python3.7/site-packages/sklearn/linear_model/_logistic.py:765: ConvergenceWarning: lbfgs failed to converge (status=1):\n",
      "STOP: TOTAL NO. of ITERATIONS REACHED LIMIT.\n",
      "\n",
      "Increase the number of iterations (max_iter) or scale the data as shown in:\n",
      "    https://scikit-learn.org/stable/modules/preprocessing.html\n",
      "Please also refer to the documentation for alternative solver options:\n",
      "    https://scikit-learn.org/stable/modules/linear_model.html#logistic-regression\n",
      "  extra_warning_msg=_LOGISTIC_SOLVER_CONVERGENCE_MSG)\n"
     ]
    },
    {
     "name": "stdout",
     "output_type": "stream",
     "text": [
      "Accuracy Score: 0.818177017321504\n",
      "Confusion Matrix: \n",
      "[[15382   132]\n",
      " [ 3311   111]]\n",
      "Area Under Curve: 0.5119643636294045\n",
      "Precision score: 0.4567901234567901\n",
      "Recall score: 0.03243717124488603\n",
      "F1 score: 0.06057298772169167\n"
     ]
    },
    {
     "name": "stderr",
     "output_type": "stream",
     "text": [
      "/Users/marlonfacey/anaconda3/lib/python3.7/site-packages/sklearn/linear_model/_logistic.py:765: ConvergenceWarning: lbfgs failed to converge (status=1):\n",
      "STOP: TOTAL NO. of ITERATIONS REACHED LIMIT.\n",
      "\n",
      "Increase the number of iterations (max_iter) or scale the data as shown in:\n",
      "    https://scikit-learn.org/stable/modules/preprocessing.html\n",
      "Please also refer to the documentation for alternative solver options:\n",
      "    https://scikit-learn.org/stable/modules/linear_model.html#logistic-regression\n",
      "  extra_warning_msg=_LOGISTIC_SOLVER_CONVERGENCE_MSG)\n"
     ]
    },
    {
     "name": "stdout",
     "output_type": "stream",
     "text": [
      "Accuracy Score: 0.8042353189691592\n",
      "Confusion Matrix: \n",
      "[[14649   865]\n",
      " [ 2842   580]]\n",
      "Area Under Curve: 0.5568677170756648\n",
      "Precision score: 0.4013840830449827\n",
      "Recall score: 0.1694915254237288\n",
      "F1 score: 0.23833983973700434\n"
     ]
    },
    {
     "name": "stderr",
     "output_type": "stream",
     "text": [
      "/Users/marlonfacey/anaconda3/lib/python3.7/site-packages/sklearn/linear_model/_logistic.py:765: ConvergenceWarning: lbfgs failed to converge (status=1):\n",
      "STOP: TOTAL NO. of ITERATIONS REACHED LIMIT.\n",
      "\n",
      "Increase the number of iterations (max_iter) or scale the data as shown in:\n",
      "    https://scikit-learn.org/stable/modules/preprocessing.html\n",
      "Please also refer to the documentation for alternative solver options:\n",
      "    https://scikit-learn.org/stable/modules/linear_model.html#logistic-regression\n",
      "  extra_warning_msg=_LOGISTIC_SOLVER_CONVERGENCE_MSG)\n"
     ]
    },
    {
     "name": "stdout",
     "output_type": "stream",
     "text": [
      "Accuracy Score: 0.7708069286016054\n",
      "Confusion Matrix: \n",
      "[[13486  2028]\n",
      " [ 2312  1110]]\n",
      "Area Under Curve: 0.5968255365132016\n",
      "Precision score: 0.35372848948374763\n",
      "Recall score: 0.3243717124488603\n",
      "F1 score: 0.3384146341463415\n"
     ]
    },
    {
     "name": "stderr",
     "output_type": "stream",
     "text": [
      "/Users/marlonfacey/anaconda3/lib/python3.7/site-packages/sklearn/linear_model/_logistic.py:765: ConvergenceWarning: lbfgs failed to converge (status=1):\n",
      "STOP: TOTAL NO. of ITERATIONS REACHED LIMIT.\n",
      "\n",
      "Increase the number of iterations (max_iter) or scale the data as shown in:\n",
      "    https://scikit-learn.org/stable/modules/preprocessing.html\n",
      "Please also refer to the documentation for alternative solver options:\n",
      "    https://scikit-learn.org/stable/modules/linear_model.html#logistic-regression\n",
      "  extra_warning_msg=_LOGISTIC_SOLVER_CONVERGENCE_MSG)\n"
     ]
    },
    {
     "name": "stdout",
     "output_type": "stream",
     "text": [
      "Accuracy Score: 0.7229087452471483\n",
      "Confusion Matrix: \n",
      "[[12075  3439]\n",
      " [ 1808  1614]]\n",
      "Area Under Curve: 0.6249916272529094\n",
      "Precision score: 0.319414209380566\n",
      "Recall score: 0.4716540035067212\n",
      "F1 score: 0.38088495575221243\n"
     ]
    },
    {
     "name": "stderr",
     "output_type": "stream",
     "text": [
      "/Users/marlonfacey/anaconda3/lib/python3.7/site-packages/sklearn/linear_model/_logistic.py:765: ConvergenceWarning: lbfgs failed to converge (status=1):\n",
      "STOP: TOTAL NO. of ITERATIONS REACHED LIMIT.\n",
      "\n",
      "Increase the number of iterations (max_iter) or scale the data as shown in:\n",
      "    https://scikit-learn.org/stable/modules/preprocessing.html\n",
      "Please also refer to the documentation for alternative solver options:\n",
      "    https://scikit-learn.org/stable/modules/linear_model.html#logistic-regression\n",
      "  extra_warning_msg=_LOGISTIC_SOLVER_CONVERGENCE_MSG)\n"
     ]
    },
    {
     "name": "stdout",
     "output_type": "stream",
     "text": [
      "Accuracy Score: 0.670468948035488\n",
      "Confusion Matrix: \n",
      "[[10697  4817]\n",
      " [ 1423  1999]]\n",
      "Area Under Curve: 0.636833780796546\n",
      "Precision score: 0.2932805164319249\n",
      "Recall score: 0.5841613091759205\n",
      "F1 score: 0.3905059581949599\n"
     ]
    },
    {
     "name": "stderr",
     "output_type": "stream",
     "text": [
      "/Users/marlonfacey/anaconda3/lib/python3.7/site-packages/sklearn/linear_model/_logistic.py:765: ConvergenceWarning: lbfgs failed to converge (status=1):\n",
      "STOP: TOTAL NO. of ITERATIONS REACHED LIMIT.\n",
      "\n",
      "Increase the number of iterations (max_iter) or scale the data as shown in:\n",
      "    https://scikit-learn.org/stable/modules/preprocessing.html\n",
      "Please also refer to the documentation for alternative solver options:\n",
      "    https://scikit-learn.org/stable/modules/linear_model.html#logistic-regression\n",
      "  extra_warning_msg=_LOGISTIC_SOLVER_CONVERGENCE_MSG)\n"
     ]
    },
    {
     "name": "stdout",
     "output_type": "stream",
     "text": [
      "Accuracy Score: 0.6141740599915505\n",
      "Confusion Matrix: \n",
      "[[9323 6191]\n",
      " [1115 2307]]\n",
      "Area Under Curve: 0.6375541195912336\n",
      "Precision score: 0.2714756413273711\n",
      "Recall score: 0.67416715371128\n",
      "F1 score: 0.3870805369127517\n"
     ]
    },
    {
     "name": "stderr",
     "output_type": "stream",
     "text": [
      "/Users/marlonfacey/anaconda3/lib/python3.7/site-packages/sklearn/linear_model/_logistic.py:765: ConvergenceWarning: lbfgs failed to converge (status=1):\n",
      "STOP: TOTAL NO. of ITERATIONS REACHED LIMIT.\n",
      "\n",
      "Increase the number of iterations (max_iter) or scale the data as shown in:\n",
      "    https://scikit-learn.org/stable/modules/preprocessing.html\n",
      "Please also refer to the documentation for alternative solver options:\n",
      "    https://scikit-learn.org/stable/modules/linear_model.html#logistic-regression\n",
      "  extra_warning_msg=_LOGISTIC_SOLVER_CONVERGENCE_MSG)\n"
     ]
    },
    {
     "name": "stdout",
     "output_type": "stream",
     "text": [
      "Accuracy Score: 0.5617342627798901\n",
      "Confusion Matrix: \n",
      "[[8069 7445]\n",
      " [ 854 2568]]\n",
      "Area Under Curve: 0.6352746038777064\n",
      "Precision score: 0.2564665934285429\n",
      "Recall score: 0.7504383401519579\n",
      "F1 score: 0.38228507629326386\n",
      "Accuracy Score: 0.5143641740599916\n",
      "Confusion Matrix: \n",
      "[[6960 8554]\n",
      " [ 642 2780]]\n",
      "Area Under Curve: 0.6305087307503103\n",
      "Precision score: 0.24527968943003353\n",
      "Recall score: 0.8123904149620105\n",
      "F1 score: 0.3767958796421795\n"
     ]
    },
    {
     "name": "stderr",
     "output_type": "stream",
     "text": [
      "/Users/marlonfacey/anaconda3/lib/python3.7/site-packages/sklearn/linear_model/_logistic.py:765: ConvergenceWarning: lbfgs failed to converge (status=1):\n",
      "STOP: TOTAL NO. of ITERATIONS REACHED LIMIT.\n",
      "\n",
      "Increase the number of iterations (max_iter) or scale the data as shown in:\n",
      "    https://scikit-learn.org/stable/modules/preprocessing.html\n",
      "Please also refer to the documentation for alternative solver options:\n",
      "    https://scikit-learn.org/stable/modules/linear_model.html#logistic-regression\n",
      "  extra_warning_msg=_LOGISTIC_SOLVER_CONVERGENCE_MSG)\n"
     ]
    }
   ],
   "source": [
    "# Find best weights for Regression\n",
    "weights = [1, 2,3,4,5,6,7,8]\n",
    "for weight in weights:\n",
    "    w = {0:1, 1:weight}\n",
    "    clf = LogisticRegression(class_weight = w,)\n",
    "    result = clf.fit(X,Y)\n",
    "    y_pred = clf.predict(X_test)\n",
    "\n",
    "\n",
    "    print(f'Accuracy Score: {accuracy_score(y_test,y_pred)}')\n",
    "    print(f'Confusion Matrix: \\n{confusion_matrix(y_test, y_pred)}')\n",
    "    print(f'Area Under Curve: {roc_auc_score(y_test, y_pred)}')\n",
    "    print(f'Precision score: {precision_score(y_test,y_pred)}')\n",
    "    print(f'Recall score: {recall_score(y_test,y_pred)}')\n",
    "    print(f'F1 score: {f1_score(y_test, y_pred)}')\n",
    "    \n",
    "    \n"
   ]
  },
  {
   "cell_type": "code",
   "execution_count": 64,
   "id": "5bee2871",
   "metadata": {},
   "outputs": [],
   "source": [
    "freq = (Y == 1)\n",
    "freq[Y==1] = 5\n",
    "freq[Y==0] = 1\n",
    "\n",
    "clf = GLM(Y,X,family=families.Binomial(),freq_weights = freq)\n",
    "res = clf.fit()"
   ]
  },
  {
   "cell_type": "code",
   "execution_count": 65,
   "id": "5f80bf9b",
   "metadata": {},
   "outputs": [
    {
     "name": "stdout",
     "output_type": "stream",
     "text": [
      "Logistic: f1=0.389 auc=0.314\n"
     ]
    },
    {
     "data": {
      "image/png": "[encoded data removed]",
      "text/plain": [
       "<Figure size 432x288 with 1 Axes>"
      ]
     },
     "metadata": {
      "needs_background": "light"
     },
     "output_type": "display_data"
    }
   ],
   "source": [
    "# Best regularization parameters for regression\n",
    "lr_probs = res.predict(X_test)\n",
    "lr_probs = lr_probs.reset_index(drop=True)\n",
    "lr_probs = lr_probs * (lr_probs > .5)\n",
    "y_pred = lr_probs > .5\n",
    "lr_precision, lr_recall, _ = precision_recall_curve(y_test, lr_probs)\n",
    "lr_f1, lr_auc = f1_score(y_test, y_pred), auc(lr_recall, lr_precision)\n",
    "# summarize scores\n",
    "print('Logistic: f1=%.3f auc=%.3f' % (lr_f1, lr_auc))\n",
    "# plot the precision-recall curves\n",
    "no_skill = len(y_test[y_test==1]) / len(y_test)\n",
    "plt.plot([0, 1], [no_skill, no_skill], linestyle='--', label='No Skill')\n",
    "plt.plot(lr_recall, lr_precision, marker='.', label='Logistic')\n",
    "# axis labels\n",
    "plt.xlabel('Recall')\n",
    "plt.ylabel('Precision')\n",
    "# show the legend\n",
    "plt.legend()\n",
    "# show the plot\n",
    "plt.show()"
   ]
  },
  {
   "cell_type": "code",
   "execution_count": 66,
   "id": "b093b0d5",
   "metadata": {},
   "outputs": [
    {
     "data": {
      "text/html": [
       "<table class=\"simpletable\">\n",
       "<caption>Generalized Linear Model Regression Results</caption>\n",
       "<tr>\n",
       "  <th>Dep. Variable:</th>      <td>loan_status</td>   <th>  No. Observations:  </th>   <td> 75744</td>  \n",
       "</tr>\n",
       "<tr>\n",
       "  <th>Model:</th>                  <td>GLM</td>       <th>  Df Residuals:      </th>   <td>129623</td>  \n",
       "</tr>\n",
       "<tr>\n",
       "  <th>Model Family:</th>        <td>Binomial</td>     <th>  Df Model:          </th>   <td>    24</td>  \n",
       "</tr>\n",
       "<tr>\n",
       "  <th>Link Function:</th>         <td>logit</td>      <th>  Scale:             </th>  <td>  1.0000</td> \n",
       "</tr>\n",
       "<tr>\n",
       "  <th>Method:</th>                <td>IRLS</td>       <th>  Log-Likelihood:    </th>  <td> -81814.</td> \n",
       "</tr>\n",
       "<tr>\n",
       "  <th>Date:</th>            <td>Wed, 12 May 2021</td> <th>  Deviance:          </th> <td>1.6363e+05</td>\n",
       "</tr>\n",
       "<tr>\n",
       "  <th>Time:</th>                <td>13:01:03</td>     <th>  Pearson chi2:      </th>  <td>1.30e+05</td> \n",
       "</tr>\n",
       "<tr>\n",
       "  <th>No. Iterations:</th>          <td>5</td>        <th>                     </th>      <td> </td>    \n",
       "</tr>\n",
       "<tr>\n",
       "  <th>Covariance Type:</th>     <td>nonrobust</td>    <th>                     </th>      <td> </td>    \n",
       "</tr>\n",
       "</table>\n",
       "<table class=\"simpletable\">\n",
       "<tr>\n",
       "               <td></td>                 <th>coef</th>     <th>std err</th>      <th>z</th>      <th>P>|z|</th>  <th>[0.025</th>    <th>0.975]</th>  \n",
       "</tr>\n",
       "<tr>\n",
       "  <th>annual_inc</th>                 <td>   -3.3293</td> <td>    1.037</td> <td>   -3.210</td> <td> 0.001</td> <td>   -5.362</td> <td>   -1.296</td>\n",
       "</tr>\n",
       "<tr>\n",
       "  <th>chargeoff_within_12_mths</th>   <td>    0.3083</td> <td>    0.206</td> <td>    1.495</td> <td> 0.135</td> <td>   -0.096</td> <td>    0.712</td>\n",
       "</tr>\n",
       "<tr>\n",
       "  <th>delinq_2yrs</th>                <td>    0.1671</td> <td>    0.146</td> <td>    1.145</td> <td> 0.252</td> <td>   -0.119</td> <td>    0.453</td>\n",
       "</tr>\n",
       "<tr>\n",
       "  <th>dti</th>                        <td>    0.8053</td> <td>    0.031</td> <td>   25.804</td> <td> 0.000</td> <td>    0.744</td> <td>    0.866</td>\n",
       "</tr>\n",
       "<tr>\n",
       "  <th>emp_length</th>                 <td>   -0.0821</td> <td>    0.015</td> <td>   -5.409</td> <td> 0.000</td> <td>   -0.112</td> <td>   -0.052</td>\n",
       "</tr>\n",
       "<tr>\n",
       "  <th>home_ownership</th>             <td>    0.0233</td> <td>    0.020</td> <td>    1.168</td> <td> 0.243</td> <td>   -0.016</td> <td>    0.062</td>\n",
       "</tr>\n",
       "<tr>\n",
       "  <th>inq_last_6mths</th>             <td>    0.2995</td> <td>    0.040</td> <td>    7.475</td> <td> 0.000</td> <td>    0.221</td> <td>    0.378</td>\n",
       "</tr>\n",
       "<tr>\n",
       "  <th>int_rate</th>                   <td>    2.6909</td> <td>    0.035</td> <td>   77.450</td> <td> 0.000</td> <td>    2.623</td> <td>    2.759</td>\n",
       "</tr>\n",
       "<tr>\n",
       "  <th>loan_amnt</th>                  <td>    0.0256</td> <td>    0.031</td> <td>    0.833</td> <td> 0.405</td> <td>   -0.035</td> <td>    0.086</td>\n",
       "</tr>\n",
       "<tr>\n",
       "  <th>pub_rec_bankruptcies</th>       <td>    1.4425</td> <td>    0.194</td> <td>    7.432</td> <td> 0.000</td> <td>    1.062</td> <td>    1.823</td>\n",
       "</tr>\n",
       "<tr>\n",
       "  <th>revol_bal</th>                  <td>  -11.1594</td> <td>    0.919</td> <td>  -12.144</td> <td> 0.000</td> <td>  -12.960</td> <td>   -9.358</td>\n",
       "</tr>\n",
       "<tr>\n",
       "  <th>term</th>                       <td>    0.3314</td> <td>    0.015</td> <td>   22.615</td> <td> 0.000</td> <td>    0.303</td> <td>    0.360</td>\n",
       "</tr>\n",
       "<tr>\n",
       "  <th>total_acc</th>                  <td>   -0.0566</td> <td>    0.065</td> <td>   -0.873</td> <td> 0.382</td> <td>   -0.184</td> <td>    0.070</td>\n",
       "</tr>\n",
       "<tr>\n",
       "  <th>purpose_car</th>                <td>   -1.8133</td> <td>    0.077</td> <td>  -23.525</td> <td> 0.000</td> <td>   -1.964</td> <td>   -1.662</td>\n",
       "</tr>\n",
       "<tr>\n",
       "  <th>purpose_credit_card</th>        <td>   -1.3871</td> <td>    0.026</td> <td>  -54.168</td> <td> 0.000</td> <td>   -1.437</td> <td>   -1.337</td>\n",
       "</tr>\n",
       "<tr>\n",
       "  <th>purpose_debt_consolidation</th> <td>   -1.4375</td> <td>    0.025</td> <td>  -57.530</td> <td> 0.000</td> <td>   -1.486</td> <td>   -1.389</td>\n",
       "</tr>\n",
       "<tr>\n",
       "  <th>purpose_home_improvement</th>   <td>   -1.4658</td> <td>    0.036</td> <td>  -40.966</td> <td> 0.000</td> <td>   -1.536</td> <td>   -1.396</td>\n",
       "</tr>\n",
       "<tr>\n",
       "  <th>purpose_house</th>              <td>   -1.8211</td> <td>    0.103</td> <td>  -17.646</td> <td> 0.000</td> <td>   -2.023</td> <td>   -1.619</td>\n",
       "</tr>\n",
       "<tr>\n",
       "  <th>purpose_major_purchase</th>     <td>   -1.3325</td> <td>    0.051</td> <td>  -26.200</td> <td> 0.000</td> <td>   -1.432</td> <td>   -1.233</td>\n",
       "</tr>\n",
       "<tr>\n",
       "  <th>purpose_medical</th>            <td>   -1.4562</td> <td>    0.064</td> <td>  -22.632</td> <td> 0.000</td> <td>   -1.582</td> <td>   -1.330</td>\n",
       "</tr>\n",
       "<tr>\n",
       "  <th>purpose_moving</th>             <td>   -1.3963</td> <td>    0.074</td> <td>  -18.843</td> <td> 0.000</td> <td>   -1.542</td> <td>   -1.251</td>\n",
       "</tr>\n",
       "<tr>\n",
       "  <th>purpose_other</th>              <td>   -1.6082</td> <td>    0.036</td> <td>  -44.779</td> <td> 0.000</td> <td>   -1.679</td> <td>   -1.538</td>\n",
       "</tr>\n",
       "<tr>\n",
       "  <th>purpose_renewable_energy</th>   <td>   -1.0512</td> <td>    0.207</td> <td>   -5.081</td> <td> 0.000</td> <td>   -1.457</td> <td>   -0.646</td>\n",
       "</tr>\n",
       "<tr>\n",
       "  <th>purpose_small_business</th>     <td>   -1.2410</td> <td>    0.064</td> <td>  -19.459</td> <td> 0.000</td> <td>   -1.366</td> <td>   -1.116</td>\n",
       "</tr>\n",
       "<tr>\n",
       "  <th>purpose_vacation</th>           <td>   -1.4726</td> <td>    0.087</td> <td>  -16.880</td> <td> 0.000</td> <td>   -1.644</td> <td>   -1.302</td>\n",
       "</tr>\n",
       "</table>"
      ],
      "text/plain": [
       "<class 'statsmodels.iolib.summary.Summary'>\n",
       "\"\"\"\n",
       "                 Generalized Linear Model Regression Results                  \n",
       "==============================================================================\n",
       "Dep. Variable:            loan_status   No. Observations:                75744\n",
       "Model:                            GLM   Df Residuals:                   129623\n",
       "Model Family:                Binomial   Df Model:                           24\n",
       "Link Function:                  logit   Scale:                          1.0000\n",
       "Method:                          IRLS   Log-Likelihood:                -81814.\n",
       "Date:                Wed, 12 May 2021   Deviance:                   1.6363e+05\n",
       "Time:                        13:01:03   Pearson chi2:                 1.30e+05\n",
       "No. Iterations:                     5                                         \n",
       "Covariance Type:            nonrobust                                         \n",
       "==============================================================================================\n",
       "                                 coef    std err          z      P>|z|      [0.025      0.975]\n",
       "----------------------------------------------------------------------------------------------\n",
       "annual_inc                    -3.3293      1.037     -3.210      0.001      -5.362      -1.296\n",
       "chargeoff_within_12_mths       0.3083      0.206      1.495      0.135      -0.096       0.712\n",
       "delinq_2yrs                    0.1671      0.146      1.145      0.252      -0.119       0.453\n",
       "dti                            0.8053      0.031     25.804      0.000       0.744       0.866\n",
       "emp_length                    -0.0821      0.015     -5.409      0.000      -0.112      -0.052\n",
       "home_ownership                 0.0233      0.020      1.168      0.243      -0.016       0.062\n",
       "inq_last_6mths                 0.2995      0.040      7.475      0.000       0.221       0.378\n",
       "int_rate                       2.6909      0.035     77.450      0.000       2.623       2.759\n",
       "loan_amnt                      0.0256      0.031      0.833      0.405      -0.035       0.086\n",
       "pub_rec_bankruptcies           1.4425      0.194      7.432      0.000       1.062       1.823\n",
       "revol_bal                    -11.1594      0.919    -12.144      0.000     -12.960      -9.358\n",
       "term                           0.3314      0.015     22.615      0.000       0.303       0.360\n",
       "total_acc                     -0.0566      0.065     -0.873      0.382      -0.184       0.070\n",
       "purpose_car                   -1.8133      0.077    -23.525      0.000      -1.964      -1.662\n",
       "purpose_credit_card           -1.3871      0.026    -54.168      0.000      -1.437      -1.337\n",
       "purpose_debt_consolidation    -1.4375      0.025    -57.530      0.000      -1.486      -1.389\n",
       "purpose_home_improvement      -1.4658      0.036    -40.966      0.000      -1.536      -1.396\n",
       "purpose_house                 -1.8211      0.103    -17.646      0.000      -2.023      -1.619\n",
       "purpose_major_purchase        -1.3325      0.051    -26.200      0.000      -1.432      -1.233\n",
       "purpose_medical               -1.4562      0.064    -22.632      0.000      -1.582      -1.330\n",
       "purpose_moving                -1.3963      0.074    -18.843      0.000      -1.542      -1.251\n",
       "purpose_other                 -1.6082      0.036    -44.779      0.000      -1.679      -1.538\n",
       "purpose_renewable_energy      -1.0512      0.207     -5.081      0.000      -1.457      -0.646\n",
       "purpose_small_business        -1.2410      0.064    -19.459      0.000      -1.366      -1.116\n",
       "purpose_vacation              -1.4726      0.087    -16.880      0.000      -1.644      -1.302\n",
       "==============================================================================================\n",
       "\"\"\""
      ]
     },
     "execution_count": 66,
     "metadata": {},
     "output_type": "execute_result"
    }
   ],
   "source": [
    "res.summary()"
   ]
  },
  {
   "cell_type": "code",
   "execution_count": null,
   "id": "d3d7e333",
   "metadata": {},
   "outputs": [],
   "source": [
    "# Precision-recall curve for weighted regression with interaction terms\n",
    "\n",
    "\n",
    "X1 = pd.DataFrame.copy(X)\n",
    "X1['annual_inc/revol_bal'] = X['annual_inc']*X['revol_bal']\n",
    "X1['loan_amnt/annual_inc'] = X['loan_amnt']*X['annual_inc']\n",
    "X1['loan_amnt/term'] = X['loan_amnt']*X['term']\n",
    "X1['pub_rec/term'] = X['term'] * X['pub_rec']\n",
    "\n",
    "X1_test = pd.DataFrame.copy(X_test)\n",
    "X1_test['annual_inc/revol_bal'] = X_test['annual_inc']*X_test['revol_bal']\n",
    "X1_test['loan_amnt/annual_inc'] = X_test['loan_amnt']*X_test['annual_inc']\n",
    "X1_test['loan_amnt/term'] = X_test['loan_amnt']*X_test['term']\n",
    "X1_test['pub_rec/term'] = X_test['term'] * X_test['pub_rec']\n",
    "\n",
    "\n",
    "w = {0:1,1:5}\n",
    "clf = LogisticRegression(class_weight = w)\n",
    "clf.fit(X1,Y)\n",
    "ns_probs = [0 for _ in range(len(y_test))]\n",
    "lr_probs = clf.predict_proba(X1_test)\n",
    "y_pred = clf.predict(X1_test)\n",
    "lr_probs = lr_probs[:, 1]\n",
    "lr_precision, lr_recall, _ = precision_recall_curve(y_test, lr_probs)\n",
    "lr_f1, lr_auc = f1_score(y_test, y_pred), auc(lr_recall, lr_precision)\n",
    "# summarize scores\n",
    "print('Logistic: f1=%.3f auc=%.3f' % (lr_f1, lr_auc))\n",
    "# plot the precision-recall curves\n",
    "no_skill = len(y_test[y_test==1]) / len(y_test)\n",
    "plt.plot([0, 1], [no_skill, no_skill], linestyle='--', label='No Skill')\n",
    "plt.plot(lr_recall, lr_precision, marker='.', label='Logistic')\n",
    "# axis labels\n",
    "plt.xlabel('Recall')\n",
    "plt.ylabel('Precision')\n",
    "# show the legend\n",
    "plt.legend()\n",
    "# show the plot\n",
    "plt.show()"
   ]
  },
  {
   "cell_type": "code",
   "execution_count": 70,
   "id": "54988d0c",
   "metadata": {},
   "outputs": [
    {
     "name": "stdout",
     "output_type": "stream",
     "text": [
      "Optimization terminated successfully    (Exit mode 0)\n",
      "            Current function value: 0.4327464376877343\n",
      "            Iterations: 224\n",
      "            Function evaluations: 224\n",
      "            Gradient evaluations: 224\n"
     ]
    },
    {
     "name": "stderr",
     "output_type": "stream",
     "text": [
      "/Users/marlonfacey/anaconda3/lib/python3.7/site-packages/sklearn/linear_model/_logistic.py:765: ConvergenceWarning: lbfgs failed to converge (status=1):\n",
      "STOP: TOTAL NO. of ITERATIONS REACHED LIMIT.\n",
      "\n",
      "Increase the number of iterations (max_iter) or scale the data as shown in:\n",
      "    https://scikit-learn.org/stable/modules/preprocessing.html\n",
      "Please also refer to the documentation for alternative solver options:\n",
      "    https://scikit-learn.org/stable/modules/linear_model.html#logistic-regression\n",
      "  extra_warning_msg=_LOGISTIC_SOLVER_CONVERGENCE_MSG)\n"
     ]
    },
    {
     "name": "stdout",
     "output_type": "stream",
     "text": [
      "Logistic: f1=0.384 auc=0.318\n"
     ]
    },
    {
     "data": {
      "image/png": "[encoded data removed]",
      "text/plain": [
       "<Figure size 432x288 with 1 Axes>"
      ]
     },
     "metadata": {
      "needs_background": "light"
     },
     "output_type": "display_data"
    }
   ],
   "source": [
    "# All Interactions\n",
    "log_reg = sm.Logit(Y, X).fit_regularized()\n",
    "pos_coef = np.abs(log_reg.params)\n",
    "interaction = PolynomialFeatures(degree=2,interaction_only=True, include_bias=False)\n",
    "X1 = pd.DataFrame(interaction.fit_transform(X[pos_coef.nlargest(27).index]),columns=interaction.get_feature_names(X.columns.to_list()))\n",
    "X1.index = Y.index\n",
    "X1_test = pd.DataFrame(interaction.fit_transform(X_test[pos_coef.nlargest(27).index]),columns=interaction.get_feature_names(X_test.columns.to_list()))\n",
    "X1_test.index = X_test.index\n",
    "\n",
    "clf = LogisticRegression()\n",
    "clf.fit(X1,Y)\n",
    "ns_probs = [0 for _ in range(len(y_test))]\n",
    "lr_probs = clf.predict_proba(X1_test)\n",
    "lr_probs = lr_probs[:, 1]\n",
    "lr_precision, lr_recall, _ = precision_recall_curve(y_test, lr_probs)\n",
    "lr_f1, lr_auc = f1_score(y_test, y_pred), auc(lr_recall, lr_precision)\n",
    "# summarize scores\n",
    "print('Logistic: f1=%.3f auc=%.3f' % (lr_f1, lr_auc))\n",
    "# plot the precision-recall curves\n",
    "no_skill = len(y_test[y_test==1]) / len(y_test)\n",
    "plt.plot([0, 1], [no_skill, no_skill], linestyle='--', label='No Skill')\n",
    "plt.plot(lr_recall, lr_precision, marker='.', label='Logistic')\n",
    "# axis labels\n",
    "plt.xlabel('Recall')\n",
    "plt.ylabel('Precision')\n",
    "# show the legend\n",
    "plt.legend()\n",
    "# show the plot\n",
    "plt.show()"
   ]
  },
  {
   "cell_type": "code",
   "execution_count": 60,
   "id": "2d4df4c0",
   "metadata": {},
   "outputs": [],
   "source": [
    "#Transform Data \n",
    "X_trans = power_transform(X+1, method='box-cox')\n",
    "X_test_trans = power_transform(X_test+1, method='box-cox')"
   ]
  },
  {
   "cell_type": "code",
   "execution_count": 61,
   "id": "035cba5b",
   "metadata": {},
   "outputs": [],
   "source": [
    "# Init Weight Scheme\n",
    "freq = (Y == 1)\n",
    "freq[Y==1] = 5\n",
    "freq[Y==0] = 1"
   ]
  },
  {
   "cell_type": "code",
   "execution_count": 62,
   "id": "893dbd2a",
   "metadata": {},
   "outputs": [
    {
     "name": "stdout",
     "output_type": "stream",
     "text": [
      "Logistic: f1=0.386 auc=0.324\n"
     ]
    },
    {
     "data": {
      "image/png": "[encoded data removed]",
      "text/plain": [
       "<Figure size 432x288 with 1 Axes>"
      ]
     },
     "metadata": {
      "needs_background": "light"
     },
     "output_type": "display_data"
    }
   ],
   "source": [
    "# Weighted Logistic Regression on Transformed Data\n",
    "clf = GLM(Y,X_trans,family=families.Binomial(),freq_weights = freq)\n",
    "res = clf.fit()\n",
    "lr_probs = res.predict(X_test_trans)\n",
    "lr_probs = lr_probs * (lr_probs > .5)\n",
    "y_pred = lr_probs > .5\n",
    "lr_precision, lr_recall, _ = precision_recall_curve(y_test, lr_probs)\n",
    "lr_f1, lr_auc = f1_score(y_test, y_pred), auc(lr_recall, lr_precision)\n",
    "# summarize scores\n",
    "print('Logistic: f1=%.3f auc=%.3f' % (lr_f1, lr_auc))\n",
    "# plot the precision-recall curves\n",
    "no_skill = len(y_test[y_test==1]) / len(y_test)\n",
    "plt.plot([0, 1], [no_skill, no_skill], linestyle='--', label='No Skill')\n",
    "plt.plot(lr_recall, lr_precision, marker='.', label='Logistic')\n",
    "# axis labels\n",
    "plt.xlabel('Recall')\n",
    "plt.ylabel('Precision')\n",
    "# show the legend\n",
    "plt.legend()\n",
    "# show the plot\n",
    "plt.show()"
   ]
  },
  {
   "cell_type": "code",
   "execution_count": 63,
   "id": "fae17b2a",
   "metadata": {},
   "outputs": [
    {
     "name": "stdout",
     "output_type": "stream",
     "text": [
      "Accuracy: 57.40%\n"
     ]
    }
   ],
   "source": [
    "lr_probs = res.predict(X_test_trans)\n",
    "y_pred = lr_probs > .5\n",
    "accuracy = np.mean(y_test.reset_index(drop=True) == y_pred)\n",
    "\n",
    "print(\"Accuracy: %.2f%%\" % (accuracy * 100.0))"
   ]
  },
  {
   "cell_type": "code",
   "execution_count": 98,
   "id": "a64791b8",
   "metadata": {},
   "outputs": [
    {
     "data": {
      "text/html": [
       "<table class=\"simpletable\">\n",
       "<caption>Generalized Linear Model Regression Results</caption>\n",
       "<tr>\n",
       "  <th>Dep. Variable:</th>      <td>loan_status</td>   <th>  No. Observations:  </th>   <td> 75744</td>  \n",
       "</tr>\n",
       "<tr>\n",
       "  <th>Model:</th>                  <td>GLM</td>       <th>  Df Residuals:      </th>   <td>129623</td>  \n",
       "</tr>\n",
       "<tr>\n",
       "  <th>Model Family:</th>        <td>Binomial</td>     <th>  Df Model:          </th>   <td>    24</td>  \n",
       "</tr>\n",
       "<tr>\n",
       "  <th>Link Function:</th>         <td>logit</td>      <th>  Scale:             </th>  <td>  1.0000</td> \n",
       "</tr>\n",
       "<tr>\n",
       "  <th>Method:</th>                <td>IRLS</td>       <th>  Log-Likelihood:    </th>  <td> -81814.</td> \n",
       "</tr>\n",
       "<tr>\n",
       "  <th>Date:</th>            <td>Tue, 11 May 2021</td> <th>  Deviance:          </th> <td>1.6363e+05</td>\n",
       "</tr>\n",
       "<tr>\n",
       "  <th>Time:</th>                <td>21:10:58</td>     <th>  Pearson chi2:      </th>  <td>1.30e+05</td> \n",
       "</tr>\n",
       "<tr>\n",
       "  <th>No. Iterations:</th>          <td>5</td>        <th>                     </th>      <td> </td>    \n",
       "</tr>\n",
       "<tr>\n",
       "  <th>Covariance Type:</th>     <td>nonrobust</td>    <th>                     </th>      <td> </td>    \n",
       "</tr>\n",
       "</table>\n",
       "<table class=\"simpletable\">\n",
       "<tr>\n",
       "               <td></td>                 <th>coef</th>     <th>std err</th>      <th>z</th>      <th>P>|z|</th>  <th>[0.025</th>    <th>0.975]</th>  \n",
       "</tr>\n",
       "<tr>\n",
       "  <th>annual_inc</th>                 <td>   -3.3293</td> <td>    1.037</td> <td>   -3.210</td> <td> 0.001</td> <td>   -5.362</td> <td>   -1.296</td>\n",
       "</tr>\n",
       "<tr>\n",
       "  <th>chargeoff_within_12_mths</th>   <td>    0.3083</td> <td>    0.206</td> <td>    1.495</td> <td> 0.135</td> <td>   -0.096</td> <td>    0.712</td>\n",
       "</tr>\n",
       "<tr>\n",
       "  <th>delinq_2yrs</th>                <td>    0.1671</td> <td>    0.146</td> <td>    1.145</td> <td> 0.252</td> <td>   -0.119</td> <td>    0.453</td>\n",
       "</tr>\n",
       "<tr>\n",
       "  <th>dti</th>                        <td>    0.8053</td> <td>    0.031</td> <td>   25.804</td> <td> 0.000</td> <td>    0.744</td> <td>    0.866</td>\n",
       "</tr>\n",
       "<tr>\n",
       "  <th>emp_length</th>                 <td>   -0.0821</td> <td>    0.015</td> <td>   -5.409</td> <td> 0.000</td> <td>   -0.112</td> <td>   -0.052</td>\n",
       "</tr>\n",
       "<tr>\n",
       "  <th>home_ownership</th>             <td>    0.0233</td> <td>    0.020</td> <td>    1.168</td> <td> 0.243</td> <td>   -0.016</td> <td>    0.062</td>\n",
       "</tr>\n",
       "<tr>\n",
       "  <th>inq_last_6mths</th>             <td>    0.2995</td> <td>    0.040</td> <td>    7.475</td> <td> 0.000</td> <td>    0.221</td> <td>    0.378</td>\n",
       "</tr>\n",
       "<tr>\n",
       "  <th>int_rate</th>                   <td>    2.6909</td> <td>    0.035</td> <td>   77.450</td> <td> 0.000</td> <td>    2.623</td> <td>    2.759</td>\n",
       "</tr>\n",
       "<tr>\n",
       "  <th>loan_amnt</th>                  <td>    0.0256</td> <td>    0.031</td> <td>    0.833</td> <td> 0.405</td> <td>   -0.035</td> <td>    0.086</td>\n",
       "</tr>\n",
       "<tr>\n",
       "  <th>pub_rec_bankruptcies</th>       <td>    1.4425</td> <td>    0.194</td> <td>    7.432</td> <td> 0.000</td> <td>    1.062</td> <td>    1.823</td>\n",
       "</tr>\n",
       "<tr>\n",
       "  <th>revol_bal</th>                  <td>  -11.1594</td> <td>    0.919</td> <td>  -12.144</td> <td> 0.000</td> <td>  -12.960</td> <td>   -9.358</td>\n",
       "</tr>\n",
       "<tr>\n",
       "  <th>term</th>                       <td>    0.3314</td> <td>    0.015</td> <td>   22.615</td> <td> 0.000</td> <td>    0.303</td> <td>    0.360</td>\n",
       "</tr>\n",
       "<tr>\n",
       "  <th>total_acc</th>                  <td>   -0.0566</td> <td>    0.065</td> <td>   -0.873</td> <td> 0.382</td> <td>   -0.184</td> <td>    0.070</td>\n",
       "</tr>\n",
       "<tr>\n",
       "  <th>purpose_car</th>                <td>   -1.8133</td> <td>    0.077</td> <td>  -23.525</td> <td> 0.000</td> <td>   -1.964</td> <td>   -1.662</td>\n",
       "</tr>\n",
       "<tr>\n",
       "  <th>purpose_credit_card</th>        <td>   -1.3871</td> <td>    0.026</td> <td>  -54.168</td> <td> 0.000</td> <td>   -1.437</td> <td>   -1.337</td>\n",
       "</tr>\n",
       "<tr>\n",
       "  <th>purpose_debt_consolidation</th> <td>   -1.4375</td> <td>    0.025</td> <td>  -57.530</td> <td> 0.000</td> <td>   -1.486</td> <td>   -1.389</td>\n",
       "</tr>\n",
       "<tr>\n",
       "  <th>purpose_home_improvement</th>   <td>   -1.4658</td> <td>    0.036</td> <td>  -40.966</td> <td> 0.000</td> <td>   -1.536</td> <td>   -1.396</td>\n",
       "</tr>\n",
       "<tr>\n",
       "  <th>purpose_house</th>              <td>   -1.8211</td> <td>    0.103</td> <td>  -17.646</td> <td> 0.000</td> <td>   -2.023</td> <td>   -1.619</td>\n",
       "</tr>\n",
       "<tr>\n",
       "  <th>purpose_major_purchase</th>     <td>   -1.3325</td> <td>    0.051</td> <td>  -26.200</td> <td> 0.000</td> <td>   -1.432</td> <td>   -1.233</td>\n",
       "</tr>\n",
       "<tr>\n",
       "  <th>purpose_medical</th>            <td>   -1.4562</td> <td>    0.064</td> <td>  -22.632</td> <td> 0.000</td> <td>   -1.582</td> <td>   -1.330</td>\n",
       "</tr>\n",
       "<tr>\n",
       "  <th>purpose_moving</th>             <td>   -1.3963</td> <td>    0.074</td> <td>  -18.843</td> <td> 0.000</td> <td>   -1.542</td> <td>   -1.251</td>\n",
       "</tr>\n",
       "<tr>\n",
       "  <th>purpose_other</th>              <td>   -1.6082</td> <td>    0.036</td> <td>  -44.779</td> <td> 0.000</td> <td>   -1.679</td> <td>   -1.538</td>\n",
       "</tr>\n",
       "<tr>\n",
       "  <th>purpose_renewable_energy</th>   <td>   -1.0512</td> <td>    0.207</td> <td>   -5.081</td> <td> 0.000</td> <td>   -1.457</td> <td>   -0.646</td>\n",
       "</tr>\n",
       "<tr>\n",
       "  <th>purpose_small_business</th>     <td>   -1.2410</td> <td>    0.064</td> <td>  -19.459</td> <td> 0.000</td> <td>   -1.366</td> <td>   -1.116</td>\n",
       "</tr>\n",
       "<tr>\n",
       "  <th>purpose_vacation</th>           <td>   -1.4726</td> <td>    0.087</td> <td>  -16.880</td> <td> 0.000</td> <td>   -1.644</td> <td>   -1.302</td>\n",
       "</tr>\n",
       "</table>"
      ],
      "text/plain": [
       "<class 'statsmodels.iolib.summary.Summary'>\n",
       "\"\"\"\n",
       "                 Generalized Linear Model Regression Results                  \n",
       "==============================================================================\n",
       "Dep. Variable:            loan_status   No. Observations:                75744\n",
       "Model:                            GLM   Df Residuals:                   129623\n",
       "Model Family:                Binomial   Df Model:                           24\n",
       "Link Function:                  logit   Scale:                          1.0000\n",
       "Method:                          IRLS   Log-Likelihood:                -81814.\n",
       "Date:                Tue, 11 May 2021   Deviance:                   1.6363e+05\n",
       "Time:                        21:10:58   Pearson chi2:                 1.30e+05\n",
       "No. Iterations:                     5                                         \n",
       "Covariance Type:            nonrobust                                         \n",
       "==============================================================================================\n",
       "                                 coef    std err          z      P>|z|      [0.025      0.975]\n",
       "----------------------------------------------------------------------------------------------\n",
       "annual_inc                    -3.3293      1.037     -3.210      0.001      -5.362      -1.296\n",
       "chargeoff_within_12_mths       0.3083      0.206      1.495      0.135      -0.096       0.712\n",
       "delinq_2yrs                    0.1671      0.146      1.145      0.252      -0.119       0.453\n",
       "dti                            0.8053      0.031     25.804      0.000       0.744       0.866\n",
       "emp_length                    -0.0821      0.015     -5.409      0.000      -0.112      -0.052\n",
       "home_ownership                 0.0233      0.020      1.168      0.243      -0.016       0.062\n",
       "inq_last_6mths                 0.2995      0.040      7.475      0.000       0.221       0.378\n",
       "int_rate                       2.6909      0.035     77.450      0.000       2.623       2.759\n",
       "loan_amnt                      0.0256      0.031      0.833      0.405      -0.035       0.086\n",
       "pub_rec_bankruptcies           1.4425      0.194      7.432      0.000       1.062       1.823\n",
       "revol_bal                    -11.1594      0.919    -12.144      0.000     -12.960      -9.358\n",
       "term                           0.3314      0.015     22.615      0.000       0.303       0.360\n",
       "total_acc                     -0.0566      0.065     -0.873      0.382      -0.184       0.070\n",
       "purpose_car                   -1.8133      0.077    -23.525      0.000      -1.964      -1.662\n",
       "purpose_credit_card           -1.3871      0.026    -54.168      0.000      -1.437      -1.337\n",
       "purpose_debt_consolidation    -1.4375      0.025    -57.530      0.000      -1.486      -1.389\n",
       "purpose_home_improvement      -1.4658      0.036    -40.966      0.000      -1.536      -1.396\n",
       "purpose_house                 -1.8211      0.103    -17.646      0.000      -2.023      -1.619\n",
       "purpose_major_purchase        -1.3325      0.051    -26.200      0.000      -1.432      -1.233\n",
       "purpose_medical               -1.4562      0.064    -22.632      0.000      -1.582      -1.330\n",
       "purpose_moving                -1.3963      0.074    -18.843      0.000      -1.542      -1.251\n",
       "purpose_other                 -1.6082      0.036    -44.779      0.000      -1.679      -1.538\n",
       "purpose_renewable_energy      -1.0512      0.207     -5.081      0.000      -1.457      -0.646\n",
       "purpose_small_business        -1.2410      0.064    -19.459      0.000      -1.366      -1.116\n",
       "purpose_vacation              -1.4726      0.087    -16.880      0.000      -1.644      -1.302\n",
       "==============================================================================================\n",
       "\"\"\""
      ]
     },
     "execution_count": 98,
     "metadata": {},
     "output_type": "execute_result"
    }
   ],
   "source": [
    "res.summary()\n"
   ]
  },
  {
   "cell_type": "code",
   "execution_count": null,
   "id": "585105ad",
   "metadata": {},
   "outputs": [],
   "source": [
    "# Get largest coefficients to be used in trace plots\n",
    "clf = GLM(Y,X,family=families.Binomial(),freq_weights = freq)\n",
    "res = clf.fit()\n",
    "top_coefs = abs(res.params) > 1.5"
   ]
  },
  {
   "cell_type": "code",
   "execution_count": 89,
   "id": "d687089e",
   "metadata": {},
   "outputs": [
    {
     "name": "stderr",
     "output_type": "stream",
     "text": [
      "/Users/marlonfacey/anaconda3/lib/python3.7/site-packages/statsmodels/genmod/generalized_linear_model.py:1323: UserWarning: Elastic net fitting did not converge\n",
      "  warnings.warn(\"Elastic net fitting did not converge\")\n"
     ]
    },
    {
     "name": "stdout",
     "output_type": "stream",
     "text": [
      "(50, 6)\n"
     ]
    }
   ],
   "source": [
    "#Lasso Trace Parameters\n",
    "tuning_params = 10**np.linspace(5,-5,50)*0.5\n",
    "coefs = []\n",
    "for a in tuning_params:\n",
    "    clf = GLM(Y,X,family=families.Binomial(),freq_weights = freq)\n",
    "    log_reg = clf.fit_regularized(alpha=a, L1_wt=1)\n",
    "    coefs.append(log_reg.params[top_coefs])\n",
    "\n",
    "    \n",
    "print(np.shape(coefs))\n"
   ]
  },
  {
   "cell_type": "code",
   "execution_count": 90,
   "id": "0873862f",
   "metadata": {},
   "outputs": [
    {
     "data": {
      "text/plain": [
       "<matplotlib.legend.Legend at 0x14a479190>"
      ]
     },
     "execution_count": 90,
     "metadata": {},
     "output_type": "execute_result"
    },
    {
     "data": {
      "image/png": "[encoded data removed]",
      "text/plain": [
       "<Figure size 432x288 with 1 Axes>"
      ]
     },
     "metadata": {
      "needs_background": "light"
     },
     "output_type": "display_data"
    }
   ],
   "source": [
    "#Lasso Trace Plot\n",
    "ax = plt.gca()\n",
    "ax.plot(tuning_params, coefs)\n",
    "ax.set_xscale('log')\n",
    "plt.axis('tight')\n",
    "plt.title('Lasso Trace for Y')\n",
    "plt.xlabel('alpha (Lambda)')\n",
    "plt.ylabel('Coefficients')\n",
    "plt.legend(X.columns[top_coefs])"
   ]
  },
  {
   "cell_type": "code",
   "execution_count": 91,
   "id": "b48397f3",
   "metadata": {},
   "outputs": [
    {
     "name": "stdout",
     "output_type": "stream",
     "text": [
      "(50, 5)\n"
     ]
    }
   ],
   "source": [
    "#Ridge Trace Parameters\n",
    "tuning_params = 10**np.linspace(5,-4,50)*0.5\n",
    "coefs = []\n",
    "for a in tuning_params:\n",
    "    clf = GLM(Y,X,family=families.Binomial(),freq_weights = freq)\n",
    "    log_reg = clf.fit_regularized(alpha=a, L1_wt=0)\n",
    "    coefs.append(log_reg.params[top_coeffs])\n",
    "\n",
    "    \n",
    "print(np.shape(coefs))"
   ]
  },
  {
   "cell_type": "code",
   "execution_count": 92,
   "id": "a2b02104",
   "metadata": {},
   "outputs": [
    {
     "data": {
      "text/plain": [
       "<matplotlib.legend.Legend at 0x14a472090>"
      ]
     },
     "execution_count": 92,
     "metadata": {},
     "output_type": "execute_result"
    },
    {
     "data": {
      "image/png": "[encoded data removed]",
      "text/plain": [
       "<Figure size 432x288 with 1 Axes>"
      ]
     },
     "metadata": {
      "needs_background": "light"
     },
     "output_type": "display_data"
    }
   ],
   "source": [
    "#Ridge Trace Plot\n",
    "ax = plt.gca()\n",
    "ax.plot(tuning_params, coefs)\n",
    "ax.set_xscale('log')\n",
    "plt.axis('tight')\n",
    "plt.title('Ridge Trace for Y')\n",
    "plt.xlabel('alpha (Lambda)')\n",
    "plt.ylabel('Coefficients')\n",
    "plt.legend(X.columns[top_coefs])"
   ]
  },
  {
   "cell_type": "code",
   "execution_count": 104,
   "id": "b145fdca",
   "metadata": {},
   "outputs": [
    {
     "name": "stdout",
     "output_type": "stream",
     "text": [
      "New Best Score\n",
      "F1 score: 0.37735552763819097\n",
      "Tuning Param:0.005\n",
      "L1 Weight:0.0\n",
      "New Best Score\n",
      "F1 score: 0.38238400910051196\n",
      "Tuning Param:0.0015811388300841897\n",
      "L1 Weight:0.0\n",
      "New Best Score\n",
      "F1 score: 0.38742138364779877\n",
      "Tuning Param:0.0005\n",
      "L1 Weight:0.0\n",
      "New Best Score\n",
      "F1 score: 0.3886779426993442\n",
      "Tuning Param:0.00015811388300841897\n",
      "L1 Weight:0.0\n",
      "New Best Score\n",
      "F1 score: 0.3892410795145807\n",
      "Tuning Param:5e-05\n",
      "L1 Weight:0.0\n"
     ]
    },
    {
     "name": "stderr",
     "output_type": "stream",
     "text": [
      "/Users/marlonfacey/anaconda3/lib/python3.7/site-packages/statsmodels/genmod/generalized_linear_model.py:1323: UserWarning: Elastic net fitting did not converge\n",
      "  warnings.warn(\"Elastic net fitting did not converge\")\n",
      "/Users/marlonfacey/anaconda3/lib/python3.7/site-packages/statsmodels/genmod/generalized_linear_model.py:1323: UserWarning: Elastic net fitting did not converge\n",
      "  warnings.warn(\"Elastic net fitting did not converge\")\n",
      "/Users/marlonfacey/anaconda3/lib/python3.7/site-packages/statsmodels/genmod/generalized_linear_model.py:1323: UserWarning: Elastic net fitting did not converge\n",
      "  warnings.warn(\"Elastic net fitting did not converge\")\n",
      "/Users/marlonfacey/anaconda3/lib/python3.7/site-packages/statsmodels/genmod/generalized_linear_model.py:1323: UserWarning: Elastic net fitting did not converge\n",
      "  warnings.warn(\"Elastic net fitting did not converge\")\n"
     ]
    },
    {
     "name": "stdout",
     "output_type": "stream",
     "text": [
      "New Best Score\n",
      "F1 score: 0.38983195427791517\n",
      "Tuning Param:0.00015811388300841897\n",
      "L1 Weight:0.25\n"
     ]
    },
    {
     "name": "stderr",
     "output_type": "stream",
     "text": [
      "/Users/marlonfacey/anaconda3/lib/python3.7/site-packages/statsmodels/genmod/generalized_linear_model.py:1323: UserWarning: Elastic net fitting did not converge\n",
      "  warnings.warn(\"Elastic net fitting did not converge\")\n",
      "/Users/marlonfacey/anaconda3/lib/python3.7/site-packages/statsmodels/genmod/generalized_linear_model.py:1323: UserWarning: Elastic net fitting did not converge\n",
      "  warnings.warn(\"Elastic net fitting did not converge\")\n",
      "/Users/marlonfacey/anaconda3/lib/python3.7/site-packages/statsmodels/genmod/generalized_linear_model.py:1323: UserWarning: Elastic net fitting did not converge\n",
      "  warnings.warn(\"Elastic net fitting did not converge\")\n",
      "/Users/marlonfacey/anaconda3/lib/python3.7/site-packages/statsmodels/genmod/generalized_linear_model.py:1323: UserWarning: Elastic net fitting did not converge\n",
      "  warnings.warn(\"Elastic net fitting did not converge\")\n",
      "/Users/marlonfacey/anaconda3/lib/python3.7/site-packages/statsmodels/genmod/generalized_linear_model.py:1323: UserWarning: Elastic net fitting did not converge\n",
      "  warnings.warn(\"Elastic net fitting did not converge\")\n",
      "/Users/marlonfacey/anaconda3/lib/python3.7/site-packages/statsmodels/genmod/generalized_linear_model.py:1323: UserWarning: Elastic net fitting did not converge\n",
      "  warnings.warn(\"Elastic net fitting did not converge\")\n"
     ]
    },
    {
     "name": "stdout",
     "output_type": "stream",
     "text": [
      "New Best Score\n",
      "F1 score: 0.3900995426419155\n",
      "Tuning Param:5e-05\n",
      "L1 Weight:0.5\n"
     ]
    },
    {
     "name": "stderr",
     "output_type": "stream",
     "text": [
      "/Users/marlonfacey/anaconda3/lib/python3.7/site-packages/statsmodels/genmod/generalized_linear_model.py:1323: UserWarning: Elastic net fitting did not converge\n",
      "  warnings.warn(\"Elastic net fitting did not converge\")\n",
      "/Users/marlonfacey/anaconda3/lib/python3.7/site-packages/statsmodels/genmod/generalized_linear_model.py:1323: UserWarning: Elastic net fitting did not converge\n",
      "  warnings.warn(\"Elastic net fitting did not converge\")\n",
      "/Users/marlonfacey/anaconda3/lib/python3.7/site-packages/statsmodels/genmod/generalized_linear_model.py:1323: UserWarning: Elastic net fitting did not converge\n",
      "  warnings.warn(\"Elastic net fitting did not converge\")\n",
      "/Users/marlonfacey/anaconda3/lib/python3.7/site-packages/statsmodels/genmod/generalized_linear_model.py:1323: UserWarning: Elastic net fitting did not converge\n",
      "  warnings.warn(\"Elastic net fitting did not converge\")\n",
      "/Users/marlonfacey/anaconda3/lib/python3.7/site-packages/statsmodels/genmod/generalized_linear_model.py:1323: UserWarning: Elastic net fitting did not converge\n",
      "  warnings.warn(\"Elastic net fitting did not converge\")\n",
      "/Users/marlonfacey/anaconda3/lib/python3.7/site-packages/statsmodels/genmod/generalized_linear_model.py:1323: UserWarning: Elastic net fitting did not converge\n",
      "  warnings.warn(\"Elastic net fitting did not converge\")\n",
      "/Users/marlonfacey/anaconda3/lib/python3.7/site-packages/statsmodels/genmod/generalized_linear_model.py:1323: UserWarning: Elastic net fitting did not converge\n",
      "  warnings.warn(\"Elastic net fitting did not converge\")\n",
      "/Users/marlonfacey/anaconda3/lib/python3.7/site-packages/statsmodels/genmod/generalized_linear_model.py:1323: UserWarning: Elastic net fitting did not converge\n",
      "  warnings.warn(\"Elastic net fitting did not converge\")\n",
      "/Users/marlonfacey/anaconda3/lib/python3.7/site-packages/statsmodels/genmod/generalized_linear_model.py:1323: UserWarning: Elastic net fitting did not converge\n",
      "  warnings.warn(\"Elastic net fitting did not converge\")\n"
     ]
    },
    {
     "name": "stdout",
     "output_type": "stream",
     "text": [
      "New Best Score\n",
      "F1 score: 0.3908045977011494\n",
      "Tuning Param:5e-05\n",
      "L1 Weight:1.0\n"
     ]
    },
    {
     "name": "stderr",
     "output_type": "stream",
     "text": [
      "/Users/marlonfacey/anaconda3/lib/python3.7/site-packages/statsmodels/genmod/generalized_linear_model.py:1323: UserWarning: Elastic net fitting did not converge\n",
      "  warnings.warn(\"Elastic net fitting did not converge\")\n"
     ]
    }
   ],
   "source": [
    "# Find best set of regularization parameters\n",
    "tuning_params = 10**np.linspace(-2,-4,5)*0.5\n",
    "l1_weights = np.linspace(0, 1, 5)\n",
    "coefs = []\n",
    "best_f1 = 0\n",
    "for l1 in l1_weights:\n",
    "    for a in tuning_params:\n",
    "        clf = GLM(Y,X,family=families.Binomial(),freq_weights = freq)\n",
    "        log_reg = clf.fit_regularized(alpha=a, L1_wt=l1)\n",
    "        y_pred = round(log_reg.predict(X_test))\n",
    "        f1 = f1_score(y_test, y_pred)\n",
    "        if f1 > best_f1:\n",
    "            print(\"New Best Score\")\n",
    "            print(f'F1 score: {f1_score(y_test, y_pred)}')\n",
    "            print(f'Tuning Param:{a}')\n",
    "            print(f'L1 Weight:{l1}')\n",
    "            best_clf = clf\n",
    "            best_res = log_reg\n",
    "            best_f1 = f1"
   ]
  },
  {
   "cell_type": "code",
   "execution_count": 111,
   "id": "ab45fba3",
   "metadata": {},
   "outputs": [
    {
     "name": "stderr",
     "output_type": "stream",
     "text": [
      "/Users/marlonfacey/anaconda3/lib/python3.7/site-packages/statsmodels/genmod/generalized_linear_model.py:1323: UserWarning: Elastic net fitting did not converge\n",
      "  warnings.warn(\"Elastic net fitting did not converge\")\n"
     ]
    }
   ],
   "source": [
    "res = best_clf.fit_regularized(alpha=5*10**-5, L1_wt=1)\n"
   ]
  },
  {
   "cell_type": "code",
   "execution_count": 113,
   "id": "34fb0536",
   "metadata": {},
   "outputs": [
    {
     "data": {
      "text/plain": [
       "annual_inc                    0.000000\n",
       "chargeoff_within_12_mths      0.138831\n",
       "delinq_2yrs                   0.000000\n",
       "dti                           0.781715\n",
       "emp_length                   -0.086819\n",
       "home_ownership                0.000000\n",
       "inq_last_6mths                0.288338\n",
       "int_rate                      2.708524\n",
       "loan_amnt                    -0.062054\n",
       "pub_rec_bankruptcies          0.000000\n",
       "revol_bal                    -9.739892\n",
       "term                          0.334840\n",
       "total_acc                    -0.023322\n",
       "purpose_car                  -1.772876\n",
       "purpose_credit_card          -1.368324\n",
       "purpose_debt_consolidation   -1.416410\n",
       "purpose_home_improvement     -1.440392\n",
       "purpose_house                -1.756254\n",
       "purpose_major_purchase       -1.310460\n",
       "purpose_medical              -1.440883\n",
       "purpose_moving               -1.369216\n",
       "purpose_other                -1.594710\n",
       "purpose_renewable_energy      0.000000\n",
       "purpose_small_business       -1.216407\n",
       "purpose_vacation             -1.442871\n",
       "dtype: float64"
      ]
     },
     "execution_count": 113,
     "metadata": {},
     "output_type": "execute_result"
    }
   ],
   "source": [
    "res.params"
   ]
  },
  {
   "cell_type": "markdown",
   "id": "2e3c787b",
   "metadata": {},
   "source": [
    "## Discriminant Analysis <a name=\"discriminant_analysis\"></a>"
   ]
  },
  {
   "cell_type": "code",
   "execution_count": null,
   "id": "b364ebcd",
   "metadata": {},
   "outputs": [],
   "source": [
    "# LDA Grid Search\n",
    "param_grid = {\n",
    "    'shrinkage': [1.0, 0, 0.1, 0.01, 1e-3, 1e-4, 1e-5, 1e-6, 1e-7, 1e-8],\n",
    "    'solver': ['svd', 'lsqr', 'eigen']\n",
    "}\n",
    "\n",
    "gs = GridSearchCV(\n",
    "    LDA(),\n",
    "    param_grid=param_grid,\n",
    "    verbose=1,\n",
    "    cv=5,\n",
    "    n_jobs=-1\n",
    ")\n",
    "\n",
    "lda_gs_results = gs.fit(X, Y)"
   ]
  },
  {
   "cell_type": "code",
   "execution_count": null,
   "id": "3468b568",
   "metadata": {},
   "outputs": [],
   "source": [
    "print(\"%-30s %4.10f\" % (\"LDA Best Score:\", lda_gs_results.best_score_))\n",
    "print(\"%-30s %4s\"    % (\"LDA Best Parameters:\", lda_gs_results.best_params_))"
   ]
  },
  {
   "cell_type": "code",
   "execution_count": 12,
   "id": "a072118a",
   "metadata": {},
   "outputs": [
    {
     "name": "stdout",
     "output_type": "stream",
     "text": [
      "Logistic: f1=0.087 auc=0.320\n"
     ]
    },
    {
     "data": {
      "image/png": "[encoded data removed]",
      "text/plain": [
       "<Figure size 432x288 with 1 Axes>"
      ]
     },
     "metadata": {
      "needs_background": "light"
     },
     "output_type": "display_data"
    }
   ],
   "source": [
    "# LDA on normal data\n",
    "lda_model = LDA(shrinkage = 0.001, solver = 'lsqr')\n",
    "ns_probs = [0 for _ in range(len(y_test))]\n",
    "lda_model.fit(X,Y)\n",
    "lr_probs = lda_model.predict_proba(X_test)\n",
    "y_pred = lda_model.predict(X_test)\n",
    "lr_probs = lr_probs[:, 1]\n",
    "lr_precision, lr_recall, _ = precision_recall_curve(y_test, lr_probs)\n",
    "lr_f1, lr_auc = f1_score(y_test, y_pred), auc(lr_recall, lr_precision)\n",
    "# summarize scores\n",
    "print('Logistic: f1=%.3f auc=%.3f' % (lr_f1, lr_auc))\n",
    "# plot the precision-recall curves\n",
    "no_skill = len(y_test[y_test==1]) / len(y_test)\n",
    "plt.plot([0, 1], [no_skill, no_skill], linestyle='--', label='No Skill')\n",
    "plt.plot(lr_recall, lr_precision, marker='.', label='LDA')\n",
    "# axis labels\n",
    "plt.xlabel('Recall')\n",
    "plt.ylabel('Precision')\n",
    "# show the legend\n",
    "plt.legend()\n",
    "# show the plot\n",
    "plt.show()"
   ]
  },
  {
   "cell_type": "code",
   "execution_count": 14,
   "id": "7375ac25",
   "metadata": {},
   "outputs": [
    {
     "data": {
      "text/plain": [
       "0.04792518994739918"
      ]
     },
     "execution_count": 14,
     "metadata": {},
     "output_type": "execute_result"
    }
   ],
   "source": [
    "recall_score(y_test, y_pred)"
   ]
  },
  {
   "cell_type": "code",
   "execution_count": 78,
   "id": "65cc66c3",
   "metadata": {},
   "outputs": [
    {
     "name": "stdout",
     "output_type": "stream",
     "text": [
      "Logistic: f1=0.051 auc=0.328\n"
     ]
    },
    {
     "data": {
      "image/png": "[encoded data removed]",
      "text/plain": [
       "<Figure size 432x288 with 1 Axes>"
      ]
     },
     "metadata": {
      "needs_background": "light"
     },
     "output_type": "display_data"
    }
   ],
   "source": [
    "# LDA on Box-Cox transformed Non Oversampled Data\n",
    "lda_model = LDA(shrinkage = 0.001, solver = 'lsqr')\n",
    "ns_probs = [0 for _ in range(len(y_test))]\n",
    "lda_model.fit(X_trans,Y)\n",
    "lr_probs = lda_model.predict_proba(X_test_trans)\n",
    "y_pred = lda_model.predict(X_test_trans)\n",
    "lr_probs = lr_probs[:, 1]\n",
    "lr_precision, lr_recall, _ = precision_recall_curve(y_test, lr_probs)\n",
    "lr_f1, lr_auc = f1_score(y_test, y_pred), auc(lr_recall, lr_precision)\n",
    "# summarize scores\n",
    "print('Logistic: f1=%.3f auc=%.3f' % (lr_f1, lr_auc))\n",
    "# plot the precision-recall curves\n",
    "no_skill = len(y_test[y_test==1]) / len(y_test)\n",
    "plt.plot([0, 1], [no_skill, no_skill], linestyle='--', label='No Skill')\n",
    "plt.plot(lr_recall, lr_precision, marker='.', label='LDA')\n",
    "# axis labels\n",
    "plt.xlabel('Recall')\n",
    "plt.ylabel('Precision')\n",
    "# show the legend\n",
    "plt.legend()\n",
    "# show the plot\n",
    "plt.show()"
   ]
  },
  {
   "cell_type": "code",
   "execution_count": null,
   "id": "48e6e056",
   "metadata": {},
   "outputs": [],
   "source": [
    "#QDA Grid Search\n",
    "param_grid = {\n",
    "    'reg_param': [0, 0.1, 0.2, 0.4, 0.6, 0.8, 0.9, 1.0, 2.0],\n",
    "    'tol': [0.0001]\n",
    "}\n",
    "\n",
    "gs = GridSearchCV(\n",
    "    QDA(),\n",
    "    param_grid=param_grid,\n",
    "    verbose=1,\n",
    "    cv=5,\n",
    "    n_jobs=-1\n",
    ")\n",
    "\n",
    "qda_gs_results = gs.fit(X, Y)"
   ]
  },
  {
   "cell_type": "code",
   "execution_count": null,
   "id": "74b81c06",
   "metadata": {},
   "outputs": [],
   "source": [
    "print(\"%-30s %4.10f\" % (\"QDA Best Score:\", qda_gs_results.best_score_))\n",
    "print(\"%-30s %4s\"    % (\"QDA Best Parameters:\", qda_gs_results.best_params_))"
   ]
  },
  {
   "cell_type": "code",
   "execution_count": 72,
   "id": "f35288c4",
   "metadata": {},
   "outputs": [
    {
     "name": "stderr",
     "output_type": "stream",
     "text": [
      "/Users/marlonfacey/anaconda3/lib/python3.7/site-packages/sklearn/discriminant_analysis.py:808: UserWarning: Variables are collinear\n",
      "  warnings.warn(\"Variables are collinear\")\n"
     ]
    },
    {
     "name": "stdout",
     "output_type": "stream",
     "text": [
      "Logistic: f1=0.384 auc=0.255\n"
     ]
    },
    {
     "data": {
      "image/png": "[encoded data removed]",
      "text/plain": [
       "<Figure size 432x288 with 1 Axes>"
      ]
     },
     "metadata": {
      "needs_background": "light"
     },
     "output_type": "display_data"
    }
   ],
   "source": [
    "qda_model = QDA()\n",
    "ns_probs = [0 for _ in range(len(y_test))]\n",
    "lr_probs = qda_model.fit(X,Y)\n",
    "lr_probs = qda_model.predict_proba(X_test)\n",
    "lr_probs = lr_probs[:, 1]\n",
    "lr_precision, lr_recall, _ = precision_recall_curve(y_test, lr_probs)\n",
    "lr_f1, lr_auc = f1_score(y_test, y_pred), auc(lr_recall, lr_precision)\n",
    "# summarize scores\n",
    "print('Logistic: f1=%.3f auc=%.3f' % (lr_f1, lr_auc))\n",
    "# plot the precision-recall curves\n",
    "no_skill = len(y_test[y_test==1]) / len(y_test)\n",
    "plt.plot([0, 1], [no_skill, no_skill], linestyle='--', label='No Skill')\n",
    "plt.plot(lr_recall, lr_precision, marker='.', label='QDA')\n",
    "# axis labels\n",
    "plt.xlabel('Recall')\n",
    "plt.ylabel('Precision')\n",
    "# show the legend\n",
    "plt.legend()\n",
    "# show the plot\n",
    "plt.show()"
   ]
  },
  {
   "cell_type": "code",
   "execution_count": 38,
   "id": "45871111",
   "metadata": {},
   "outputs": [],
   "source": [
    "for k in range(X1.shape[1]):\n",
    "    if np.sum(X1.iloc[:,k]) == 0:\n",
    "        X1.drop(X1.columns[k], axis=1)"
   ]
  },
  {
   "cell_type": "code",
   "execution_count": null,
   "id": "2bad316d",
   "metadata": {},
   "outputs": [],
   "source": [
    "# summarize class distribution\n",
    "counter = Counter(Y)\n",
    "print(counter)\n",
    "# transform the dataset\n",
    "oversample = SMOTE()\n",
    "X2, Y2 = oversample.fit_resample(X, Y)\n",
    "# summarize the new class distribution\n",
    "counter = Counter(Y2)\n",
    "print(counter)"
   ]
  },
  {
   "cell_type": "code",
   "execution_count": 76,
   "id": "ec04e64d",
   "metadata": {},
   "outputs": [
    {
     "name": "stdout",
     "output_type": "stream",
     "text": [
      "Logistic: f1=0.387 auc=0.323\n"
     ]
    },
    {
     "data": {
      "image/png": "[encoded data removed]",
      "text/plain": [
       "<Figure size 432x288 with 1 Axes>"
      ]
     },
     "metadata": {
      "needs_background": "light"
     },
     "output_type": "display_data"
    }
   ],
   "source": [
    "# LDA on oversampled data\n",
    "lda_model = LDA(shrinkage = 0.001, solver = 'lsqr')\n",
    "ns_probs = [0 for _ in range(len(y_test))]\n",
    "lda_model.fit(X2,Y2)\n",
    "lr_probs = lda_model.predict_proba(X_test)\n",
    "y_pred = lda_model.predict(X_test)\n",
    "lr_probs = lr_probs[:, 1]\n",
    "lr_precision, lr_recall, _ = precision_recall_curve(y_test, lr_probs)\n",
    "lr_f1, lr_auc = f1_score(y_test, y_pred), auc(lr_recall, lr_precision)\n",
    "# summarize scores\n",
    "print('Logistic: f1=%.3f auc=%.3f' % (lr_f1, lr_auc))\n",
    "# plot the precision-recall curves\n",
    "no_skill = len(y_test[y_test==1]) / len(y_test)\n",
    "plt.plot([0, 1], [no_skill, no_skill], linestyle='--', label='No Skill')\n",
    "plt.plot(lr_recall, lr_precision, marker='.', label='Logistic')\n",
    "# axis labels\n",
    "plt.xlabel('Recall')\n",
    "plt.ylabel('Precision')\n",
    "# show the legend\n",
    "plt.legend()\n",
    "# show the plot\n",
    "plt.show()"
   ]
  },
  {
   "cell_type": "code",
   "execution_count": 77,
   "id": "4733bfe8",
   "metadata": {},
   "outputs": [
    {
     "name": "stdout",
     "output_type": "stream",
     "text": [
      "Logistic: f1=0.387 auc=0.219\n"
     ]
    },
    {
     "name": "stderr",
     "output_type": "stream",
     "text": [
      "/Users/marlonfacey/anaconda3/lib/python3.7/site-packages/sklearn/discriminant_analysis.py:808: UserWarning: Variables are collinear\n",
      "  warnings.warn(\"Variables are collinear\")\n"
     ]
    },
    {
     "data": {
      "image/png": "[encoded data removed]",
      "text/plain": [
       "<Figure size 432x288 with 1 Axes>"
      ]
     },
     "metadata": {
      "needs_background": "light"
     },
     "output_type": "display_data"
    }
   ],
   "source": [
    "# QDA on oversampled data\n",
    "qda_model = QDA()\n",
    "ns_probs = [0 for _ in range(len(y_test))]\n",
    "qda_model.fit(X2,Y2)\n",
    "lr_probs = qda_model.predict_proba(X_test)\n",
    "y_pred = lda_model.predict(X_test)\n",
    "lr_probs = lr_probs[:, 1]\n",
    "lr_precision, lr_recall, _ = precision_recall_curve(y_test, lr_probs)\n",
    "lr_f1, lr_auc = f1_score(y_test, y_pred), auc(lr_recall, lr_precision)\n",
    "# summarize scores\n",
    "print('Logistic: f1=%.3f auc=%.3f' % (lr_f1, lr_auc))\n",
    "# plot the precision-recall curves\n",
    "no_skill = len(y_test[y_test==1]) / len(y_test)\n",
    "plt.plot([0, 1], [no_skill, no_skill], linestyle='--', label='No Skill')\n",
    "plt.plot(lr_recall, lr_precision, marker='.', label='Logistic')\n",
    "# axis labels\n",
    "plt.xlabel('Recall')\n",
    "plt.ylabel('Precision')\n",
    "# show the legend\n",
    "plt.legend()\n",
    "# show the plot\n",
    "plt.show()"
   ]
  },
  {
   "cell_type": "code",
   "execution_count": 46,
   "id": "a0588aca",
   "metadata": {},
   "outputs": [],
   "source": [
    "X2_trans = power_transform(X2+1, method='box-cox')\n",
    "X_test_trans = power_transform(X_test+1, method='box-cox')"
   ]
  },
  {
   "cell_type": "code",
   "execution_count": 69,
   "id": "5e43ee2e",
   "metadata": {},
   "outputs": [
    {
     "name": "stdout",
     "output_type": "stream",
     "text": [
      "Logistic: f1=0.384 auc=0.316\n"
     ]
    },
    {
     "data": {
      "image/png": "[encoded data removed]",
      "text/plain": [
       "<Figure size 432x288 with 1 Axes>"
      ]
     },
     "metadata": {
      "needs_background": "light"
     },
     "output_type": "display_data"
    }
   ],
   "source": [
    "# LDA on transformed oversampled data\n",
    "lda_model = LDA(shrinkage = 0.001, solver = 'lsqr')\n",
    "ns_probs = [0 for _ in range(len(y_test))]\n",
    "lda_model.fit(X2_trans,Y2)\n",
    "lr_probs = lda_model.predict_proba(X_test_trans)\n",
    "y_pred = lda_model.predict(X_test_trans)\n",
    "lr_probs = lr_probs[:, 1]\n",
    "lr_precision, lr_recall, _ = precision_recall_curve(y_test, lr_probs)\n",
    "lr_f1, lr_auc = f1_score(y_test, y_pred), auc(lr_recall, lr_precision)\n",
    "# summarize scores\n",
    "print('Logistic: f1=%.3f auc=%.3f' % (lr_f1, lr_auc))\n",
    "# plot the precision-recall curves\n",
    "no_skill = len(y_test[y_test==1]) / len(y_test)\n",
    "plt.plot([0, 1], [no_skill, no_skill], linestyle='--', label='No Skill')\n",
    "plt.plot(lr_recall, lr_precision, marker='.', label='LDA')\n",
    "# axis labels\n",
    "plt.xlabel('Recall')\n",
    "plt.ylabel('Precision')\n",
    "# show the legend\n",
    "plt.legend()\n",
    "# show the plot\n",
    "plt.show()"
   ]
  },
  {
   "cell_type": "code",
   "execution_count": 68,
   "id": "74e009fa",
   "metadata": {},
   "outputs": [
    {
     "name": "stdout",
     "output_type": "stream",
     "text": [
      "Logistic: f1=0.000 auc=0.590\n"
     ]
    },
    {
     "name": "stderr",
     "output_type": "stream",
     "text": [
      "/Users/marlonfacey/anaconda3/lib/python3.7/site-packages/sklearn/discriminant_analysis.py:808: UserWarning: Variables are collinear\n",
      "  warnings.warn(\"Variables are collinear\")\n"
     ]
    },
    {
     "data": {
      "image/png": "[encoded data removed]",
      "text/plain": [
       "<Figure size 432x288 with 1 Axes>"
      ]
     },
     "metadata": {
      "needs_background": "light"
     },
     "output_type": "display_data"
    }
   ],
   "source": [
    "# QDA on transformed oversampled data\n",
    "qda_model = QDA()\n",
    "ns_probs = [0 for _ in range(len(y_test))]\n",
    "qda_model.fit(X2_trans,Y2)\n",
    "lr_probs = qda_model.predict_proba(X_test_trans)\n",
    "y_pred = qda_model.predict(X_test_trans)\n",
    "lr_probs = lr_probs[:, 1]\n",
    "lr_precision, lr_recall, _ = precision_recall_curve(y_test, lr_probs)\n",
    "lr_f1, lr_auc = f1_score(y_test, y_pred), auc(lr_recall, lr_precision)\n",
    "# summarize scores\n",
    "print('Logistic: f1=%.3f auc=%.3f' % (lr_f1, lr_auc))\n",
    "# plot the precision-recall curves\n",
    "no_skill = len(y_test[y_test==1]) / len(y_test)\n",
    "plt.plot([0, 1], [no_skill, no_skill], linestyle='--', label='No Skill')\n",
    "plt.plot(lr_recall, lr_precision, marker='.', label='QDA')\n",
    "# axis labels\n",
    "plt.xlabel('Recall')\n",
    "plt.ylabel('Precision')\n",
    "# show the legend\n",
    "plt.legend()\n",
    "# show the plot\n",
    "plt.show()"
   ]
  }
 ],
 "metadata": {
  "kernelspec": {
   "display_name": "Python 3",
   "language": "python",
   "name": "python3"
  },
  "language_info": {
   "codemirror_mode": {
    "name": "ipython",
    "version": 3
   },
   "file_extension": ".py",
   "mimetype": "text/x-python",
   "name": "python",
   "nbconvert_exporter": "python",
   "pygments_lexer": "ipython3",
   "version": "3.7.6"
  }
 },
 "nbformat": 4,
 "nbformat_minor": 5
}
