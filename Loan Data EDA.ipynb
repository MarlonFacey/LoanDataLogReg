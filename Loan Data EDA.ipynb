{
 "cells": [
  {
   "cell_type": "code",
   "execution_count": 47,
   "id": "84bc41f6",
   "metadata": {},
   "outputs": [
    {
     "ename": "ModuleNotFoundError",
     "evalue": "No module named 'sklearn.neighbors.base'",
     "output_type": "error",
     "traceback": [
      "\u001b[0;31m---------------------------------------------------------------------------\u001b[0m",
      "\u001b[0;31mModuleNotFoundError\u001b[0m                       Traceback (most recent call last)",
      "\u001b[0;32m<ipython-input-47-8eef33c43459>\u001b[0m in \u001b[0;36m<module>\u001b[0;34m\u001b[0m\n\u001b[1;32m     22\u001b[0m \u001b[0;32mfrom\u001b[0m \u001b[0msklearn\u001b[0m\u001b[0;34m.\u001b[0m\u001b[0mpreprocessing\u001b[0m \u001b[0;32mimport\u001b[0m \u001b[0mPolynomialFeatures\u001b[0m\u001b[0;34m\u001b[0m\u001b[0;34m\u001b[0m\u001b[0m\n\u001b[1;32m     23\u001b[0m \u001b[0;32mfrom\u001b[0m \u001b[0mcollections\u001b[0m \u001b[0;32mimport\u001b[0m \u001b[0mCounter\u001b[0m\u001b[0;34m\u001b[0m\u001b[0;34m\u001b[0m\u001b[0m\n\u001b[0;32m---> 24\u001b[0;31m \u001b[0;32mfrom\u001b[0m \u001b[0mimblearn\u001b[0m\u001b[0;34m.\u001b[0m\u001b[0mover_sampling\u001b[0m \u001b[0;32mimport\u001b[0m \u001b[0mSMOTE\u001b[0m\u001b[0;34m\u001b[0m\u001b[0;34m\u001b[0m\u001b[0m\n\u001b[0m",
      "\u001b[0;32m~/anaconda3/lib/python3.7/site-packages/imblearn/__init__.py\u001b[0m in \u001b[0;36m<module>\u001b[0;34m\u001b[0m\n\u001b[1;32m     33\u001b[0m \"\"\"\n\u001b[1;32m     34\u001b[0m \u001b[0;34m\u001b[0m\u001b[0m\n\u001b[0;32m---> 35\u001b[0;31m \u001b[0;32mfrom\u001b[0m \u001b[0;34m.\u001b[0m\u001b[0mbase\u001b[0m \u001b[0;32mimport\u001b[0m \u001b[0mFunctionSampler\u001b[0m\u001b[0;34m\u001b[0m\u001b[0;34m\u001b[0m\u001b[0m\n\u001b[0m\u001b[1;32m     36\u001b[0m \u001b[0;32mfrom\u001b[0m \u001b[0;34m.\u001b[0m\u001b[0m_version\u001b[0m \u001b[0;32mimport\u001b[0m \u001b[0m__version__\u001b[0m\u001b[0;34m\u001b[0m\u001b[0;34m\u001b[0m\u001b[0m\n\u001b[1;32m     37\u001b[0m \u001b[0;34m\u001b[0m\u001b[0m\n",
      "\u001b[0;32m~/anaconda3/lib/python3.7/site-packages/imblearn/base.py\u001b[0m in \u001b[0;36m<module>\u001b[0;34m\u001b[0m\n\u001b[1;32m     17\u001b[0m \u001b[0;32mfrom\u001b[0m \u001b[0msklearn\u001b[0m\u001b[0;34m.\u001b[0m\u001b[0mutils\u001b[0m \u001b[0;32mimport\u001b[0m \u001b[0mcheck_X_y\u001b[0m\u001b[0;34m\u001b[0m\u001b[0;34m\u001b[0m\u001b[0m\n\u001b[1;32m     18\u001b[0m \u001b[0;34m\u001b[0m\u001b[0m\n\u001b[0;32m---> 19\u001b[0;31m \u001b[0;32mfrom\u001b[0m \u001b[0;34m.\u001b[0m\u001b[0mutils\u001b[0m \u001b[0;32mimport\u001b[0m \u001b[0mcheck_sampling_strategy\u001b[0m\u001b[0;34m,\u001b[0m \u001b[0mcheck_target_type\u001b[0m\u001b[0;34m\u001b[0m\u001b[0;34m\u001b[0m\u001b[0m\n\u001b[0m\u001b[1;32m     20\u001b[0m \u001b[0;32mfrom\u001b[0m \u001b[0;34m.\u001b[0m\u001b[0mutils\u001b[0m\u001b[0;34m.\u001b[0m\u001b[0mdeprecation\u001b[0m \u001b[0;32mimport\u001b[0m \u001b[0mdeprecate_parameter\u001b[0m\u001b[0;34m\u001b[0m\u001b[0;34m\u001b[0m\u001b[0m\n\u001b[1;32m     21\u001b[0m \u001b[0;34m\u001b[0m\u001b[0m\n",
      "\u001b[0;32m~/anaconda3/lib/python3.7/site-packages/imblearn/utils/__init__.py\u001b[0m in \u001b[0;36m<module>\u001b[0;34m\u001b[0m\n\u001b[1;32m      5\u001b[0m \u001b[0;32mfrom\u001b[0m \u001b[0;34m.\u001b[0m\u001b[0m_docstring\u001b[0m \u001b[0;32mimport\u001b[0m \u001b[0mSubstitution\u001b[0m\u001b[0;34m\u001b[0m\u001b[0;34m\u001b[0m\u001b[0m\n\u001b[1;32m      6\u001b[0m \u001b[0;34m\u001b[0m\u001b[0m\n\u001b[0;32m----> 7\u001b[0;31m \u001b[0;32mfrom\u001b[0m \u001b[0;34m.\u001b[0m\u001b[0m_validation\u001b[0m \u001b[0;32mimport\u001b[0m \u001b[0mcheck_neighbors_object\u001b[0m\u001b[0;34m\u001b[0m\u001b[0;34m\u001b[0m\u001b[0m\n\u001b[0m\u001b[1;32m      8\u001b[0m \u001b[0;32mfrom\u001b[0m \u001b[0;34m.\u001b[0m\u001b[0m_validation\u001b[0m \u001b[0;32mimport\u001b[0m \u001b[0mcheck_target_type\u001b[0m\u001b[0;34m\u001b[0m\u001b[0;34m\u001b[0m\u001b[0m\n\u001b[1;32m      9\u001b[0m \u001b[0;32mfrom\u001b[0m \u001b[0;34m.\u001b[0m\u001b[0m_validation\u001b[0m \u001b[0;32mimport\u001b[0m \u001b[0mcheck_ratio\u001b[0m\u001b[0;34m\u001b[0m\u001b[0;34m\u001b[0m\u001b[0m\n",
      "\u001b[0;32m~/anaconda3/lib/python3.7/site-packages/imblearn/utils/_validation.py\u001b[0m in \u001b[0;36m<module>\u001b[0;34m\u001b[0m\n\u001b[1;32m     12\u001b[0m \u001b[0;34m\u001b[0m\u001b[0m\n\u001b[1;32m     13\u001b[0m \u001b[0;32mfrom\u001b[0m \u001b[0msklearn\u001b[0m\u001b[0;34m.\u001b[0m\u001b[0mbase\u001b[0m \u001b[0;32mimport\u001b[0m \u001b[0mclone\u001b[0m\u001b[0;34m\u001b[0m\u001b[0;34m\u001b[0m\u001b[0m\n\u001b[0;32m---> 14\u001b[0;31m \u001b[0;32mfrom\u001b[0m \u001b[0msklearn\u001b[0m\u001b[0;34m.\u001b[0m\u001b[0mneighbors\u001b[0m\u001b[0;34m.\u001b[0m\u001b[0mbase\u001b[0m \u001b[0;32mimport\u001b[0m \u001b[0mKNeighborsMixin\u001b[0m\u001b[0;34m\u001b[0m\u001b[0;34m\u001b[0m\u001b[0m\n\u001b[0m\u001b[1;32m     15\u001b[0m \u001b[0;32mfrom\u001b[0m \u001b[0msklearn\u001b[0m\u001b[0;34m.\u001b[0m\u001b[0mneighbors\u001b[0m \u001b[0;32mimport\u001b[0m \u001b[0mNearestNeighbors\u001b[0m\u001b[0;34m\u001b[0m\u001b[0;34m\u001b[0m\u001b[0m\n\u001b[1;32m     16\u001b[0m \u001b[0;32mfrom\u001b[0m \u001b[0msklearn\u001b[0m\u001b[0;34m.\u001b[0m\u001b[0mexternals\u001b[0m \u001b[0;32mimport\u001b[0m \u001b[0msix\u001b[0m\u001b[0;34m\u001b[0m\u001b[0;34m\u001b[0m\u001b[0m\n",
      "\u001b[0;31mModuleNotFoundError\u001b[0m: No module named 'sklearn.neighbors.base'"
     ]
    }
   ],
   "source": [
    "import pandas as pd\n",
    "import statsmodels.api as sm\n",
    "import re\n",
    "import numpy as np\n",
    "from sklearn.metrics import roc_auc_score\n",
    "from sklearn.metrics import roc_curve\n",
    "from sklearn.linear_model import LogisticRegression\n",
    "from sklearn.model_selection import train_test_split\n",
    "import matplotlib.pyplot as plt\n",
    "from sklearn import preprocessing\n",
    "import seaborn as sn\n",
    "from sklearn.model_selection import train_test_split, GridSearchCV, cross_val_score, RepeatedStratifiedKFold, StratifiedKFold\n",
    "from sklearn.metrics import accuracy_score, confusion_matrix,roc_curve, roc_auc_score, precision_score, recall_score, precision_recall_curve\n",
    "from sklearn.metrics import f1_score\n",
    "from sklearn.metrics import precision_recall_curve\n",
    "from sklearn.metrics import auc\n",
    "from statsmodels.genmod.generalized_linear_model import GLM\n",
    "from statsmodels.genmod import families\n",
    "from statsmodels.formula.api import logit\n",
    "from sklearn.discriminant_analysis import LinearDiscriminantAnalysis as LDA\n",
    "from sklearn.discriminant_analysis import QuadraticDiscriminantAnalysis as QDA\n",
    "from sklearn.preprocessing import PolynomialFeatures\n",
    "from collections import Counter\n",
    "from imblearn.over_sampling import SMOTE"
   ]
  },
  {
   "cell_type": "code",
   "execution_count": 2,
   "id": "22b3b06e",
   "metadata": {},
   "outputs": [
    {
     "name": "stderr",
     "output_type": "stream",
     "text": [
      "/Users/marlonfacey/anaconda3/lib/python3.7/site-packages/IPython/core/interactiveshell.py:3166: DtypeWarning: Columns (1,48,58,117,127,128,129,132,133,134,137) have mixed types.Specify dtype option on import or set low_memory=False.\n",
      "  interactivity=interactivity, compiler=compiler, result=result)\n"
     ]
    }
   ],
   "source": [
    "full_dataset = pd.read_csv('archive/Loan_status_2007-2020Q3.gzip')"
   ]
  },
  {
   "cell_type": "code",
   "execution_count": 3,
   "id": "ba7dda81",
   "metadata": {},
   "outputs": [
    {
     "data": {
      "text/plain": [
       "Index(['Unnamed: 0', 'id', 'loan_amnt', 'funded_amnt', 'funded_amnt_inv',\n",
       "       'term', 'int_rate', 'installment', 'grade', 'sub_grade',\n",
       "       ...\n",
       "       'hardship_start_date', 'hardship_end_date', 'payment_plan_start_date',\n",
       "       'hardship_length', 'hardship_dpd', 'hardship_loan_status',\n",
       "       'orig_projected_additional_accrued_interest',\n",
       "       'hardship_payoff_balance_amount', 'hardship_last_payment_amount',\n",
       "       'debt_settlement_flag'],\n",
       "      dtype='object', length=142)"
      ]
     },
     "execution_count": 3,
     "metadata": {},
     "output_type": "execute_result"
    }
   ],
   "source": [
    "full_dataset.columns"
   ]
  },
  {
   "cell_type": "code",
   "execution_count": 4,
   "id": "299bba27",
   "metadata": {},
   "outputs": [],
   "source": [
    "full_dataset['issue_d'] = pd.to_datetime(full_dataset['issue_d'])\n",
    "mask = (full_dataset['issue_d'] > '2014-01-01') & (full_dataset['issue_d'] <= '2015-01-01')\n",
    "small_dataset = full_dataset[mask]"
   ]
  },
  {
   "cell_type": "code",
   "execution_count": 38,
   "id": "5e08c84d",
   "metadata": {},
   "outputs": [],
   "source": [
    "columns = ['annual_inc', 'chargeoff_within_12_mths', 'delinq_2yrs', 'dti', 'emp_length', 'emp_title', 'funded_amnt', \n",
    "           'home_ownership', 'inq_last_6mths', 'int_rate', 'issue_d', 'loan_amnt',\n",
    "           'pub_rec_bankruptcies', 'purpose', 'revol_bal', 'term', 'total_acc', 'verification_status', 'loan_status']\n",
    "df = small_dataset[columns]\n"
   ]
  },
  {
   "cell_type": "code",
   "execution_count": 6,
   "id": "58548227",
   "metadata": {},
   "outputs": [
    {
     "data": {
      "text/plain": [
       "array(['Charged Off', 'Fully Paid', 'Current', 'Late (31-120 days)',\n",
       "       'Default', 'In Grace Period'], dtype=object)"
      ]
     },
     "execution_count": 6,
     "metadata": {},
     "output_type": "execute_result"
    }
   ],
   "source": [
    "df['loan_status'].unique()"
   ]
  },
  {
   "cell_type": "code",
   "execution_count": 7,
   "id": "a3c66543",
   "metadata": {},
   "outputs": [
    {
     "data": {
      "text/plain": [
       "array(['credit_card', 'debt_consolidation', 'car', 'house',\n",
       "       'home_improvement', 'other', 'medical', 'major_purchase', 'moving',\n",
       "       'vacation', 'small_business', 'renewable_energy', 'wedding'],\n",
       "      dtype=object)"
      ]
     },
     "execution_count": 7,
     "metadata": {},
     "output_type": "execute_result"
    }
   ],
   "source": [
    "df['purpose'].unique()"
   ]
  },
  {
   "cell_type": "code",
   "execution_count": 39,
   "id": "d68362f0",
   "metadata": {},
   "outputs": [],
   "source": [
    "def clean_data(X):\n",
    "    X = X.dropna()\n",
    "    X['emp_length'] = [float(re.sub('[a-zA-Z +<]*', '', str(string))) for string in X['emp_length']]\n",
    "    X['int_rate'] = [float(re.sub('[a-zA-Z %]*', '', str(string))) for string in X['int_rate']]\n",
    "    X['term'] = [float(re.sub('[a-zA-Z ]*', '', str(string))) for string in X['term']]\n",
    "    X['home_ownership'] = (X['home_ownership'] == 'OWN').astype('int')\n",
    "    X['verification_status'] = (X['verification_status'] != 'Verified') | (X['verification_status'] != 'Source Verified')\n",
    "    X['verification_status'] = X['verification_status'].astype('int')\n",
    "    # Remove emp title, issue_d before regression is run, can also try get_dummies for emp_title (Maybe just a few professions or types)\n",
    "    # Drop funded amount since it is equal to loan amount for our data (Makes matrix singular), all are verified \n",
    "    X = X.drop(columns=['emp_title', 'issue_d','funded_amnt', 'verification_status'])\n",
    "    \n",
    "    \n",
    "    #X['loan_status'] = (X['loan_status'] == 'Current') | (X['loan_status'] == 'Fully Paid') | (X['loan_status'] == 'In Grace Period')\n",
    "    \n",
    "#     There are so few defaults that instead I think we should do if the loan is paid/current\n",
    "    mask = (X['loan_status'] == 'Default') | (X['loan_status'] == 'Fully Paid') | (X['loan_status'] == 'Charged Off')\n",
    "    X = X[mask]\n",
    "    X['loan_status'] = (X['loan_status'] == 'Default') | (X['loan_status'] == 'Charged Off')\n",
    "    X['loan_status'] = X['loan_status'].astype('int')\n",
    "    \n",
    "    \n",
    "    \n",
    "    #Just select the categorical variables\n",
    "    cat_vars = ['purpose']\n",
    "\n",
    "    #Create dummy variables for each cat. variable\n",
    "    for var in cat_vars:\n",
    "        cat_list = pd.get_dummies(X[var], prefix=var)\n",
    "        # Categorical variables that have low count are making matrix singular\n",
    "        for col in cat_list.columns:\n",
    "            if sum(cat_list[col]) <= 50:\n",
    "                cat_list = cat_list.drop(columns=[col])\n",
    "        X=X.join(cat_list)\n",
    "        \n",
    "        \n",
    "\n",
    "    X = X.drop(columns = cat_vars)\n",
    "    \n",
    "    return X\n",
    "  \n"
   ]
  },
  {
   "cell_type": "code",
   "execution_count": 40,
   "id": "fc1733cd",
   "metadata": {},
   "outputs": [],
   "source": [
    "# Wrote own function to preserve column names\n",
    "def normalize(X):\n",
    "    return (X-X.min())/(X.max()-X.min())"
   ]
  },
  {
   "cell_type": "code",
   "execution_count": 41,
   "id": "3ddbcd9a",
   "metadata": {},
   "outputs": [
    {
     "name": "stderr",
     "output_type": "stream",
     "text": [
      "/Users/marlonfacey/anaconda3/lib/python3.7/site-packages/ipykernel_launcher.py:3: SettingWithCopyWarning: \n",
      "A value is trying to be set on a copy of a slice from a DataFrame.\n",
      "Try using .loc[row_indexer,col_indexer] = value instead\n",
      "\n",
      "See the caveats in the documentation: https://pandas.pydata.org/pandas-docs/stable/user_guide/indexing.html#returning-a-view-versus-a-copy\n",
      "  This is separate from the ipykernel package so we can avoid doing imports until\n",
      "/Users/marlonfacey/anaconda3/lib/python3.7/site-packages/ipykernel_launcher.py:4: SettingWithCopyWarning: \n",
      "A value is trying to be set on a copy of a slice from a DataFrame.\n",
      "Try using .loc[row_indexer,col_indexer] = value instead\n",
      "\n",
      "See the caveats in the documentation: https://pandas.pydata.org/pandas-docs/stable/user_guide/indexing.html#returning-a-view-versus-a-copy\n",
      "  after removing the cwd from sys.path.\n",
      "/Users/marlonfacey/anaconda3/lib/python3.7/site-packages/ipykernel_launcher.py:5: SettingWithCopyWarning: \n",
      "A value is trying to be set on a copy of a slice from a DataFrame.\n",
      "Try using .loc[row_indexer,col_indexer] = value instead\n",
      "\n",
      "See the caveats in the documentation: https://pandas.pydata.org/pandas-docs/stable/user_guide/indexing.html#returning-a-view-versus-a-copy\n",
      "  \"\"\"\n",
      "/Users/marlonfacey/anaconda3/lib/python3.7/site-packages/ipykernel_launcher.py:6: SettingWithCopyWarning: \n",
      "A value is trying to be set on a copy of a slice from a DataFrame.\n",
      "Try using .loc[row_indexer,col_indexer] = value instead\n",
      "\n",
      "See the caveats in the documentation: https://pandas.pydata.org/pandas-docs/stable/user_guide/indexing.html#returning-a-view-versus-a-copy\n",
      "  \n",
      "/Users/marlonfacey/anaconda3/lib/python3.7/site-packages/ipykernel_launcher.py:7: SettingWithCopyWarning: \n",
      "A value is trying to be set on a copy of a slice from a DataFrame.\n",
      "Try using .loc[row_indexer,col_indexer] = value instead\n",
      "\n",
      "See the caveats in the documentation: https://pandas.pydata.org/pandas-docs/stable/user_guide/indexing.html#returning-a-view-versus-a-copy\n",
      "  import sys\n",
      "/Users/marlonfacey/anaconda3/lib/python3.7/site-packages/ipykernel_launcher.py:8: SettingWithCopyWarning: \n",
      "A value is trying to be set on a copy of a slice from a DataFrame.\n",
      "Try using .loc[row_indexer,col_indexer] = value instead\n",
      "\n",
      "See the caveats in the documentation: https://pandas.pydata.org/pandas-docs/stable/user_guide/indexing.html#returning-a-view-versus-a-copy\n",
      "  \n"
     ]
    }
   ],
   "source": [
    "df = clean_data(df[:100000])"
   ]
  },
  {
   "cell_type": "code",
   "execution_count": 462,
   "id": "f64b3043",
   "metadata": {},
   "outputs": [
    {
     "data": {
      "text/html": [
       "<div>\n",
       "<style scoped>\n",
       "    .dataframe tbody tr th:only-of-type {\n",
       "        vertical-align: middle;\n",
       "    }\n",
       "\n",
       "    .dataframe tbody tr th {\n",
       "        vertical-align: top;\n",
       "    }\n",
       "\n",
       "    .dataframe thead th {\n",
       "        text-align: right;\n",
       "    }\n",
       "</style>\n",
       "<table border=\"1\" class=\"dataframe\">\n",
       "  <thead>\n",
       "    <tr style=\"text-align: right;\">\n",
       "      <th></th>\n",
       "      <th>annual_inc</th>\n",
       "      <th>chargeoff_within_12_mths</th>\n",
       "      <th>delinq_2yrs</th>\n",
       "      <th>dti</th>\n",
       "      <th>emp_length</th>\n",
       "      <th>home_ownership</th>\n",
       "      <th>inq_last_6mths</th>\n",
       "      <th>installment</th>\n",
       "      <th>int_rate</th>\n",
       "      <th>loan_amnt</th>\n",
       "      <th>...</th>\n",
       "      <th>purpose_debt_consolidation</th>\n",
       "      <th>purpose_home_improvement</th>\n",
       "      <th>purpose_house</th>\n",
       "      <th>purpose_major_purchase</th>\n",
       "      <th>purpose_medical</th>\n",
       "      <th>purpose_moving</th>\n",
       "      <th>purpose_other</th>\n",
       "      <th>purpose_renewable_energy</th>\n",
       "      <th>purpose_small_business</th>\n",
       "      <th>purpose_vacation</th>\n",
       "    </tr>\n",
       "  </thead>\n",
       "  <tbody>\n",
       "    <tr>\n",
       "      <th>1485415</th>\n",
       "      <td>58000.0</td>\n",
       "      <td>0.0</td>\n",
       "      <td>0.0</td>\n",
       "      <td>14.92</td>\n",
       "      <td>8.0</td>\n",
       "      <td>0</td>\n",
       "      <td>2.0</td>\n",
       "      <td>321.08</td>\n",
       "      <td>6.99</td>\n",
       "      <td>10400.0</td>\n",
       "      <td>...</td>\n",
       "      <td>0</td>\n",
       "      <td>0</td>\n",
       "      <td>0</td>\n",
       "      <td>0</td>\n",
       "      <td>0</td>\n",
       "      <td>0</td>\n",
       "      <td>0</td>\n",
       "      <td>0</td>\n",
       "      <td>0</td>\n",
       "      <td>0</td>\n",
       "    </tr>\n",
       "    <tr>\n",
       "      <th>1485416</th>\n",
       "      <td>78000.0</td>\n",
       "      <td>0.0</td>\n",
       "      <td>0.0</td>\n",
       "      <td>12.03</td>\n",
       "      <td>10.0</td>\n",
       "      <td>0</td>\n",
       "      <td>0.0</td>\n",
       "      <td>336.64</td>\n",
       "      <td>12.39</td>\n",
       "      <td>15000.0</td>\n",
       "      <td>...</td>\n",
       "      <td>1</td>\n",
       "      <td>0</td>\n",
       "      <td>0</td>\n",
       "      <td>0</td>\n",
       "      <td>0</td>\n",
       "      <td>0</td>\n",
       "      <td>0</td>\n",
       "      <td>0</td>\n",
       "      <td>0</td>\n",
       "      <td>0</td>\n",
       "    </tr>\n",
       "    <tr>\n",
       "      <th>1485417</th>\n",
       "      <td>69000.0</td>\n",
       "      <td>0.0</td>\n",
       "      <td>0.0</td>\n",
       "      <td>25.81</td>\n",
       "      <td>10.0</td>\n",
       "      <td>0</td>\n",
       "      <td>0.0</td>\n",
       "      <td>326.53</td>\n",
       "      <td>13.66</td>\n",
       "      <td>9600.0</td>\n",
       "      <td>...</td>\n",
       "      <td>1</td>\n",
       "      <td>0</td>\n",
       "      <td>0</td>\n",
       "      <td>0</td>\n",
       "      <td>0</td>\n",
       "      <td>0</td>\n",
       "      <td>0</td>\n",
       "      <td>0</td>\n",
       "      <td>0</td>\n",
       "      <td>0</td>\n",
       "    </tr>\n",
       "    <tr>\n",
       "      <th>1485418</th>\n",
       "      <td>125000.0</td>\n",
       "      <td>0.0</td>\n",
       "      <td>1.0</td>\n",
       "      <td>8.31</td>\n",
       "      <td>10.0</td>\n",
       "      <td>0</td>\n",
       "      <td>0.0</td>\n",
       "      <td>319.08</td>\n",
       "      <td>17.14</td>\n",
       "      <td>12800.0</td>\n",
       "      <td>...</td>\n",
       "      <td>0</td>\n",
       "      <td>0</td>\n",
       "      <td>0</td>\n",
       "      <td>0</td>\n",
       "      <td>0</td>\n",
       "      <td>0</td>\n",
       "      <td>0</td>\n",
       "      <td>0</td>\n",
       "      <td>0</td>\n",
       "      <td>0</td>\n",
       "    </tr>\n",
       "    <tr>\n",
       "      <th>1485419</th>\n",
       "      <td>63800.0</td>\n",
       "      <td>0.0</td>\n",
       "      <td>0.0</td>\n",
       "      <td>18.49</td>\n",
       "      <td>6.0</td>\n",
       "      <td>0</td>\n",
       "      <td>0.0</td>\n",
       "      <td>516.36</td>\n",
       "      <td>15.59</td>\n",
       "      <td>21425.0</td>\n",
       "      <td>...</td>\n",
       "      <td>0</td>\n",
       "      <td>0</td>\n",
       "      <td>0</td>\n",
       "      <td>0</td>\n",
       "      <td>0</td>\n",
       "      <td>0</td>\n",
       "      <td>0</td>\n",
       "      <td>0</td>\n",
       "      <td>0</td>\n",
       "      <td>0</td>\n",
       "    </tr>\n",
       "    <tr>\n",
       "      <th>...</th>\n",
       "      <td>...</td>\n",
       "      <td>...</td>\n",
       "      <td>...</td>\n",
       "      <td>...</td>\n",
       "      <td>...</td>\n",
       "      <td>...</td>\n",
       "      <td>...</td>\n",
       "      <td>...</td>\n",
       "      <td>...</td>\n",
       "      <td>...</td>\n",
       "      <td>...</td>\n",
       "      <td>...</td>\n",
       "      <td>...</td>\n",
       "      <td>...</td>\n",
       "      <td>...</td>\n",
       "      <td>...</td>\n",
       "      <td>...</td>\n",
       "      <td>...</td>\n",
       "      <td>...</td>\n",
       "      <td>...</td>\n",
       "      <td>...</td>\n",
       "    </tr>\n",
       "    <tr>\n",
       "      <th>1585410</th>\n",
       "      <td>73000.0</td>\n",
       "      <td>0.0</td>\n",
       "      <td>0.0</td>\n",
       "      <td>16.95</td>\n",
       "      <td>7.0</td>\n",
       "      <td>0</td>\n",
       "      <td>0.0</td>\n",
       "      <td>626.90</td>\n",
       "      <td>15.61</td>\n",
       "      <td>26000.0</td>\n",
       "      <td>...</td>\n",
       "      <td>1</td>\n",
       "      <td>0</td>\n",
       "      <td>0</td>\n",
       "      <td>0</td>\n",
       "      <td>0</td>\n",
       "      <td>0</td>\n",
       "      <td>0</td>\n",
       "      <td>0</td>\n",
       "      <td>0</td>\n",
       "      <td>0</td>\n",
       "    </tr>\n",
       "    <tr>\n",
       "      <th>1585411</th>\n",
       "      <td>48000.0</td>\n",
       "      <td>0.0</td>\n",
       "      <td>0.0</td>\n",
       "      <td>12.25</td>\n",
       "      <td>10.0</td>\n",
       "      <td>0</td>\n",
       "      <td>0.0</td>\n",
       "      <td>261.64</td>\n",
       "      <td>14.99</td>\n",
       "      <td>11000.0</td>\n",
       "      <td>...</td>\n",
       "      <td>0</td>\n",
       "      <td>0</td>\n",
       "      <td>0</td>\n",
       "      <td>0</td>\n",
       "      <td>0</td>\n",
       "      <td>0</td>\n",
       "      <td>0</td>\n",
       "      <td>0</td>\n",
       "      <td>0</td>\n",
       "      <td>0</td>\n",
       "    </tr>\n",
       "    <tr>\n",
       "      <th>1585412</th>\n",
       "      <td>96000.0</td>\n",
       "      <td>0.0</td>\n",
       "      <td>0.0</td>\n",
       "      <td>9.74</td>\n",
       "      <td>2.0</td>\n",
       "      <td>0</td>\n",
       "      <td>0.0</td>\n",
       "      <td>694.20</td>\n",
       "      <td>11.67</td>\n",
       "      <td>21000.0</td>\n",
       "      <td>...</td>\n",
       "      <td>0</td>\n",
       "      <td>0</td>\n",
       "      <td>0</td>\n",
       "      <td>0</td>\n",
       "      <td>0</td>\n",
       "      <td>0</td>\n",
       "      <td>0</td>\n",
       "      <td>0</td>\n",
       "      <td>0</td>\n",
       "      <td>0</td>\n",
       "    </tr>\n",
       "    <tr>\n",
       "      <th>1585413</th>\n",
       "      <td>85000.0</td>\n",
       "      <td>0.0</td>\n",
       "      <td>0.0</td>\n",
       "      <td>20.40</td>\n",
       "      <td>1.0</td>\n",
       "      <td>0</td>\n",
       "      <td>0.0</td>\n",
       "      <td>274.97</td>\n",
       "      <td>10.99</td>\n",
       "      <td>8400.0</td>\n",
       "      <td>...</td>\n",
       "      <td>0</td>\n",
       "      <td>0</td>\n",
       "      <td>0</td>\n",
       "      <td>0</td>\n",
       "      <td>0</td>\n",
       "      <td>0</td>\n",
       "      <td>1</td>\n",
       "      <td>0</td>\n",
       "      <td>0</td>\n",
       "      <td>0</td>\n",
       "    </tr>\n",
       "    <tr>\n",
       "      <th>1585414</th>\n",
       "      <td>50000.0</td>\n",
       "      <td>0.0</td>\n",
       "      <td>2.0</td>\n",
       "      <td>2.62</td>\n",
       "      <td>10.0</td>\n",
       "      <td>0</td>\n",
       "      <td>0.0</td>\n",
       "      <td>293.75</td>\n",
       "      <td>19.52</td>\n",
       "      <td>11200.0</td>\n",
       "      <td>...</td>\n",
       "      <td>1</td>\n",
       "      <td>0</td>\n",
       "      <td>0</td>\n",
       "      <td>0</td>\n",
       "      <td>0</td>\n",
       "      <td>0</td>\n",
       "      <td>0</td>\n",
       "      <td>0</td>\n",
       "      <td>0</td>\n",
       "      <td>0</td>\n",
       "    </tr>\n",
       "  </tbody>\n",
       "</table>\n",
       "<p>94680 rows × 28 columns</p>\n",
       "</div>"
      ],
      "text/plain": [
       "         annual_inc  chargeoff_within_12_mths  delinq_2yrs    dti  emp_length  \\\n",
       "1485415     58000.0                       0.0          0.0  14.92         8.0   \n",
       "1485416     78000.0                       0.0          0.0  12.03        10.0   \n",
       "1485417     69000.0                       0.0          0.0  25.81        10.0   \n",
       "1485418    125000.0                       0.0          1.0   8.31        10.0   \n",
       "1485419     63800.0                       0.0          0.0  18.49         6.0   \n",
       "...             ...                       ...          ...    ...         ...   \n",
       "1585410     73000.0                       0.0          0.0  16.95         7.0   \n",
       "1585411     48000.0                       0.0          0.0  12.25        10.0   \n",
       "1585412     96000.0                       0.0          0.0   9.74         2.0   \n",
       "1585413     85000.0                       0.0          0.0  20.40         1.0   \n",
       "1585414     50000.0                       0.0          2.0   2.62        10.0   \n",
       "\n",
       "         home_ownership  inq_last_6mths  installment  int_rate  loan_amnt  \\\n",
       "1485415               0             2.0       321.08      6.99    10400.0   \n",
       "1485416               0             0.0       336.64     12.39    15000.0   \n",
       "1485417               0             0.0       326.53     13.66     9600.0   \n",
       "1485418               0             0.0       319.08     17.14    12800.0   \n",
       "1485419               0             0.0       516.36     15.59    21425.0   \n",
       "...                 ...             ...          ...       ...        ...   \n",
       "1585410               0             0.0       626.90     15.61    26000.0   \n",
       "1585411               0             0.0       261.64     14.99    11000.0   \n",
       "1585412               0             0.0       694.20     11.67    21000.0   \n",
       "1585413               0             0.0       274.97     10.99     8400.0   \n",
       "1585414               0             0.0       293.75     19.52    11200.0   \n",
       "\n",
       "         ...  purpose_debt_consolidation  purpose_home_improvement  \\\n",
       "1485415  ...                           0                         0   \n",
       "1485416  ...                           1                         0   \n",
       "1485417  ...                           1                         0   \n",
       "1485418  ...                           0                         0   \n",
       "1485419  ...                           0                         0   \n",
       "...      ...                         ...                       ...   \n",
       "1585410  ...                           1                         0   \n",
       "1585411  ...                           0                         0   \n",
       "1585412  ...                           0                         0   \n",
       "1585413  ...                           0                         0   \n",
       "1585414  ...                           1                         0   \n",
       "\n",
       "         purpose_house  purpose_major_purchase  purpose_medical  \\\n",
       "1485415              0                       0                0   \n",
       "1485416              0                       0                0   \n",
       "1485417              0                       0                0   \n",
       "1485418              0                       0                0   \n",
       "1485419              0                       0                0   \n",
       "...                ...                     ...              ...   \n",
       "1585410              0                       0                0   \n",
       "1585411              0                       0                0   \n",
       "1585412              0                       0                0   \n",
       "1585413              0                       0                0   \n",
       "1585414              0                       0                0   \n",
       "\n",
       "         purpose_moving  purpose_other  purpose_renewable_energy  \\\n",
       "1485415               0              0                         0   \n",
       "1485416               0              0                         0   \n",
       "1485417               0              0                         0   \n",
       "1485418               0              0                         0   \n",
       "1485419               0              0                         0   \n",
       "...                 ...            ...                       ...   \n",
       "1585410               0              0                         0   \n",
       "1585411               0              0                         0   \n",
       "1585412               0              0                         0   \n",
       "1585413               0              1                         0   \n",
       "1585414               0              0                         0   \n",
       "\n",
       "         purpose_small_business  purpose_vacation  \n",
       "1485415                       0                 0  \n",
       "1485416                       0                 0  \n",
       "1485417                       0                 0  \n",
       "1485418                       0                 0  \n",
       "1485419                       0                 0  \n",
       "...                         ...               ...  \n",
       "1585410                       0                 0  \n",
       "1585411                       0                 0  \n",
       "1585412                       0                 0  \n",
       "1585413                       0                 0  \n",
       "1585414                       0                 0  \n",
       "\n",
       "[94680 rows x 28 columns]"
      ]
     },
     "execution_count": 462,
     "metadata": {},
     "output_type": "execute_result"
    }
   ],
   "source": [
    "df"
   ]
  },
  {
   "cell_type": "code",
   "execution_count": 37,
   "id": "362311a2",
   "metadata": {},
   "outputs": [
    {
     "data": {
      "image/png": "[encoded data removed]",
      "text/plain": [
       "<Figure size 720x720 with 2 Axes>"
      ]
     },
     "metadata": {
      "needs_background": "light"
     },
     "output_type": "display_data"
    }
   ],
   "source": [
    "fig, ax = plt.subplots(figsize=(10,10)) \n",
    "corrMatrix = df.corr()\n",
    "sn.heatmap(corrMatrix, cmap=\"YlGnBu\", xticklabels=True, yticklabels=True)\n",
    "plt.show()"
   ]
  },
  {
   "cell_type": "code",
   "execution_count": 64,
   "id": "c8927fcb",
   "metadata": {},
   "outputs": [
    {
     "data": {
      "image/png": "[encoded data removed]",
      "text/plain": [
       "<Figure size 432x288 with 1 Axes>"
      ]
     },
     "metadata": {
      "needs_background": "light"
     },
     "output_type": "display_data"
    }
   ],
   "source": [
    "plt.hist(df['loan_amnt'], bins=50)\n",
    "plt.show()"
   ]
  },
  {
   "cell_type": "code",
   "execution_count": 465,
   "id": "743e7c59",
   "metadata": {},
   "outputs": [
    {
     "data": {
      "image/png": "[encoded data removed]",
      "text/plain": [
       "<Figure size 432x288 with 1 Axes>"
      ]
     },
     "metadata": {
      "needs_background": "light"
     },
     "output_type": "display_data"
    }
   ],
   "source": [
    "ax = sn.boxplot(y=df['loan_amnt'], x=df['loan_status'])"
   ]
  },
  {
   "cell_type": "code",
   "execution_count": 466,
   "id": "1b2ddba7",
   "metadata": {},
   "outputs": [
    {
     "data": {
      "image/png": "[encoded data removed]",
      "text/plain": [
       "<Figure size 432x288 with 1 Axes>"
      ]
     },
     "metadata": {
      "needs_background": "light"
     },
     "output_type": "display_data"
    }
   ],
   "source": [
    "boxplot_df = df[df['annual_inc'] < 2*10**5] \n",
    "ax = sn.boxplot(y=boxplot_df['annual_inc'], x=boxplot_df['loan_status'])"
   ]
  },
  {
   "cell_type": "code",
   "execution_count": 467,
   "id": "6fc30ef7",
   "metadata": {},
   "outputs": [
    {
     "data": {
      "image/png": "[encoded data removed]",
      "text/plain": [
       "<Figure size 432x288 with 1 Axes>"
      ]
     },
     "metadata": {
      "needs_background": "light"
     },
     "output_type": "display_data"
    }
   ],
   "source": [
    "ax = sn.boxplot(y=df['emp_length'], x=df['loan_status'])"
   ]
  },
  {
   "cell_type": "code",
   "execution_count": 34,
   "id": "66a42547",
   "metadata": {},
   "outputs": [
    {
     "data": {
      "image/png": "[encoded data removed]",
      "text/plain": [
       "<Figure size 432x288 with 1 Axes>"
      ]
     },
     "metadata": {
      "needs_background": "light"
     },
     "output_type": "display_data"
    }
   ],
   "source": [
    "boxplot_df = df[df['revol_bal'] < 1*10**5] \n",
    "ax = sn.boxplot(y=boxplot_df['revol_bal'], x=boxplot_df['loan_status'])"
   ]
  },
  {
   "cell_type": "code",
   "execution_count": 468,
   "id": "a6b374bb",
   "metadata": {},
   "outputs": [
    {
     "data": {
      "text/plain": [
       "<seaborn.axisgrid.FacetGrid at 0x1ff36ba90>"
      ]
     },
     "execution_count": 468,
     "metadata": {},
     "output_type": "execute_result"
    },
    {
     "data": {
      "image/png": "[encoded data removed]",
      "text/plain": [
       "<Figure size 360x360 with 1 Axes>"
      ]
     },
     "metadata": {
      "needs_background": "light"
     },
     "output_type": "display_data"
    }
   ],
   "source": [
    "ax = sn.catplot(x=\"purpose\", kind=\"count\", data=small_dataset[(small_dataset[\"loan_status\"] == \"Charged Off\") | (small_dataset[\"loan_status\"] == \"Default\")])\n",
    "ax.set_xticklabels(rotation=90)"
   ]
  },
  {
   "cell_type": "code",
   "execution_count": 41,
   "id": "26dab2eb",
   "metadata": {},
   "outputs": [
    {
     "data": {
      "text/html": [
       "<div>\n",
       "<style scoped>\n",
       "    .dataframe tbody tr th:only-of-type {\n",
       "        vertical-align: middle;\n",
       "    }\n",
       "\n",
       "    .dataframe tbody tr th {\n",
       "        vertical-align: top;\n",
       "    }\n",
       "\n",
       "    .dataframe thead th {\n",
       "        text-align: right;\n",
       "    }\n",
       "</style>\n",
       "<table border=\"1\" class=\"dataframe\">\n",
       "  <thead>\n",
       "    <tr style=\"text-align: right;\">\n",
       "      <th></th>\n",
       "      <th>annual_inc</th>\n",
       "      <th>chargeoff_within_12_mths</th>\n",
       "      <th>delinq_2yrs</th>\n",
       "      <th>dti</th>\n",
       "      <th>emp_length</th>\n",
       "      <th>home_ownership</th>\n",
       "      <th>inq_last_6mths</th>\n",
       "      <th>installment</th>\n",
       "      <th>int_rate</th>\n",
       "      <th>loan_amnt</th>\n",
       "      <th>...</th>\n",
       "      <th>purpose_debt_consolidation</th>\n",
       "      <th>purpose_home_improvement</th>\n",
       "      <th>purpose_house</th>\n",
       "      <th>purpose_major_purchase</th>\n",
       "      <th>purpose_medical</th>\n",
       "      <th>purpose_moving</th>\n",
       "      <th>purpose_other</th>\n",
       "      <th>purpose_renewable_energy</th>\n",
       "      <th>purpose_small_business</th>\n",
       "      <th>purpose_vacation</th>\n",
       "    </tr>\n",
       "  </thead>\n",
       "  <tbody>\n",
       "    <tr>\n",
       "      <th>count</th>\n",
       "      <td>9.469000e+04</td>\n",
       "      <td>94690.000000</td>\n",
       "      <td>94690.000000</td>\n",
       "      <td>94690.000000</td>\n",
       "      <td>94690.000000</td>\n",
       "      <td>94690.000000</td>\n",
       "      <td>94690.000000</td>\n",
       "      <td>94690.000000</td>\n",
       "      <td>94690.000000</td>\n",
       "      <td>94690.000000</td>\n",
       "      <td>...</td>\n",
       "      <td>94690.000000</td>\n",
       "      <td>94690.000000</td>\n",
       "      <td>94690.000000</td>\n",
       "      <td>94690.000000</td>\n",
       "      <td>94690.000000</td>\n",
       "      <td>94690.000000</td>\n",
       "      <td>94690.000000</td>\n",
       "      <td>94690.000000</td>\n",
       "      <td>94690.000000</td>\n",
       "      <td>94690.000000</td>\n",
       "    </tr>\n",
       "    <tr>\n",
       "      <th>mean</th>\n",
       "      <td>7.606553e+04</td>\n",
       "      <td>0.010212</td>\n",
       "      <td>0.347745</td>\n",
       "      <td>18.687679</td>\n",
       "      <td>6.148474</td>\n",
       "      <td>0.098363</td>\n",
       "      <td>0.622537</td>\n",
       "      <td>441.369827</td>\n",
       "      <td>13.257025</td>\n",
       "      <td>15053.951051</td>\n",
       "      <td>...</td>\n",
       "      <td>0.620541</td>\n",
       "      <td>0.050713</td>\n",
       "      <td>0.003337</td>\n",
       "      <td>0.016697</td>\n",
       "      <td>0.009505</td>\n",
       "      <td>0.006400</td>\n",
       "      <td>0.047101</td>\n",
       "      <td>0.000708</td>\n",
       "      <td>0.008977</td>\n",
       "      <td>0.004721</td>\n",
       "    </tr>\n",
       "    <tr>\n",
       "      <th>std</th>\n",
       "      <td>5.886480e+04</td>\n",
       "      <td>0.110832</td>\n",
       "      <td>0.911898</td>\n",
       "      <td>8.500398</td>\n",
       "      <td>3.549330</td>\n",
       "      <td>0.297807</td>\n",
       "      <td>0.915039</td>\n",
       "      <td>244.765605</td>\n",
       "      <td>4.391573</td>\n",
       "      <td>8518.500573</td>\n",
       "      <td>...</td>\n",
       "      <td>0.485255</td>\n",
       "      <td>0.219412</td>\n",
       "      <td>0.057672</td>\n",
       "      <td>0.128133</td>\n",
       "      <td>0.097028</td>\n",
       "      <td>0.079743</td>\n",
       "      <td>0.211856</td>\n",
       "      <td>0.026591</td>\n",
       "      <td>0.094320</td>\n",
       "      <td>0.068545</td>\n",
       "    </tr>\n",
       "    <tr>\n",
       "      <th>min</th>\n",
       "      <td>4.000000e+03</td>\n",
       "      <td>0.000000</td>\n",
       "      <td>0.000000</td>\n",
       "      <td>0.000000</td>\n",
       "      <td>1.000000</td>\n",
       "      <td>0.000000</td>\n",
       "      <td>0.000000</td>\n",
       "      <td>30.420000</td>\n",
       "      <td>6.000000</td>\n",
       "      <td>1000.000000</td>\n",
       "      <td>...</td>\n",
       "      <td>0.000000</td>\n",
       "      <td>0.000000</td>\n",
       "      <td>0.000000</td>\n",
       "      <td>0.000000</td>\n",
       "      <td>0.000000</td>\n",
       "      <td>0.000000</td>\n",
       "      <td>0.000000</td>\n",
       "      <td>0.000000</td>\n",
       "      <td>0.000000</td>\n",
       "      <td>0.000000</td>\n",
       "    </tr>\n",
       "    <tr>\n",
       "      <th>25%</th>\n",
       "      <td>4.600000e+04</td>\n",
       "      <td>0.000000</td>\n",
       "      <td>0.000000</td>\n",
       "      <td>12.270000</td>\n",
       "      <td>3.000000</td>\n",
       "      <td>0.000000</td>\n",
       "      <td>0.000000</td>\n",
       "      <td>264.460000</td>\n",
       "      <td>10.150000</td>\n",
       "      <td>8400.000000</td>\n",
       "      <td>...</td>\n",
       "      <td>0.000000</td>\n",
       "      <td>0.000000</td>\n",
       "      <td>0.000000</td>\n",
       "      <td>0.000000</td>\n",
       "      <td>0.000000</td>\n",
       "      <td>0.000000</td>\n",
       "      <td>0.000000</td>\n",
       "      <td>0.000000</td>\n",
       "      <td>0.000000</td>\n",
       "      <td>0.000000</td>\n",
       "    </tr>\n",
       "    <tr>\n",
       "      <th>50%</th>\n",
       "      <td>6.500000e+04</td>\n",
       "      <td>0.000000</td>\n",
       "      <td>0.000000</td>\n",
       "      <td>18.120000</td>\n",
       "      <td>7.000000</td>\n",
       "      <td>0.000000</td>\n",
       "      <td>0.000000</td>\n",
       "      <td>384.340000</td>\n",
       "      <td>12.990000</td>\n",
       "      <td>13512.500000</td>\n",
       "      <td>...</td>\n",
       "      <td>1.000000</td>\n",
       "      <td>0.000000</td>\n",
       "      <td>0.000000</td>\n",
       "      <td>0.000000</td>\n",
       "      <td>0.000000</td>\n",
       "      <td>0.000000</td>\n",
       "      <td>0.000000</td>\n",
       "      <td>0.000000</td>\n",
       "      <td>0.000000</td>\n",
       "      <td>0.000000</td>\n",
       "    </tr>\n",
       "    <tr>\n",
       "      <th>75%</th>\n",
       "      <td>9.000000e+04</td>\n",
       "      <td>0.000000</td>\n",
       "      <td>0.000000</td>\n",
       "      <td>24.630000</td>\n",
       "      <td>10.000000</td>\n",
       "      <td>0.000000</td>\n",
       "      <td>1.000000</td>\n",
       "      <td>578.420000</td>\n",
       "      <td>15.610000</td>\n",
       "      <td>20000.000000</td>\n",
       "      <td>...</td>\n",
       "      <td>1.000000</td>\n",
       "      <td>0.000000</td>\n",
       "      <td>0.000000</td>\n",
       "      <td>0.000000</td>\n",
       "      <td>0.000000</td>\n",
       "      <td>0.000000</td>\n",
       "      <td>0.000000</td>\n",
       "      <td>0.000000</td>\n",
       "      <td>0.000000</td>\n",
       "      <td>0.000000</td>\n",
       "    </tr>\n",
       "    <tr>\n",
       "      <th>max</th>\n",
       "      <td>7.500000e+06</td>\n",
       "      <td>4.000000</td>\n",
       "      <td>22.000000</td>\n",
       "      <td>39.990000</td>\n",
       "      <td>10.000000</td>\n",
       "      <td>1.000000</td>\n",
       "      <td>6.000000</td>\n",
       "      <td>1408.130000</td>\n",
       "      <td>26.060000</td>\n",
       "      <td>35000.000000</td>\n",
       "      <td>...</td>\n",
       "      <td>1.000000</td>\n",
       "      <td>1.000000</td>\n",
       "      <td>1.000000</td>\n",
       "      <td>1.000000</td>\n",
       "      <td>1.000000</td>\n",
       "      <td>1.000000</td>\n",
       "      <td>1.000000</td>\n",
       "      <td>1.000000</td>\n",
       "      <td>1.000000</td>\n",
       "      <td>1.000000</td>\n",
       "    </tr>\n",
       "  </tbody>\n",
       "</table>\n",
       "<p>8 rows × 28 columns</p>\n",
       "</div>"
      ],
      "text/plain": [
       "         annual_inc  chargeoff_within_12_mths   delinq_2yrs           dti  \\\n",
       "count  9.469000e+04              94690.000000  94690.000000  94690.000000   \n",
       "mean   7.606553e+04                  0.010212      0.347745     18.687679   \n",
       "std    5.886480e+04                  0.110832      0.911898      8.500398   \n",
       "min    4.000000e+03                  0.000000      0.000000      0.000000   \n",
       "25%    4.600000e+04                  0.000000      0.000000     12.270000   \n",
       "50%    6.500000e+04                  0.000000      0.000000     18.120000   \n",
       "75%    9.000000e+04                  0.000000      0.000000     24.630000   \n",
       "max    7.500000e+06                  4.000000     22.000000     39.990000   \n",
       "\n",
       "         emp_length  home_ownership  inq_last_6mths   installment  \\\n",
       "count  94690.000000    94690.000000    94690.000000  94690.000000   \n",
       "mean       6.148474        0.098363        0.622537    441.369827   \n",
       "std        3.549330        0.297807        0.915039    244.765605   \n",
       "min        1.000000        0.000000        0.000000     30.420000   \n",
       "25%        3.000000        0.000000        0.000000    264.460000   \n",
       "50%        7.000000        0.000000        0.000000    384.340000   \n",
       "75%       10.000000        0.000000        1.000000    578.420000   \n",
       "max       10.000000        1.000000        6.000000   1408.130000   \n",
       "\n",
       "           int_rate     loan_amnt  ...  purpose_debt_consolidation  \\\n",
       "count  94690.000000  94690.000000  ...                94690.000000   \n",
       "mean      13.257025  15053.951051  ...                    0.620541   \n",
       "std        4.391573   8518.500573  ...                    0.485255   \n",
       "min        6.000000   1000.000000  ...                    0.000000   \n",
       "25%       10.150000   8400.000000  ...                    0.000000   \n",
       "50%       12.990000  13512.500000  ...                    1.000000   \n",
       "75%       15.610000  20000.000000  ...                    1.000000   \n",
       "max       26.060000  35000.000000  ...                    1.000000   \n",
       "\n",
       "       purpose_home_improvement  purpose_house  purpose_major_purchase  \\\n",
       "count              94690.000000   94690.000000            94690.000000   \n",
       "mean                   0.050713       0.003337                0.016697   \n",
       "std                    0.219412       0.057672                0.128133   \n",
       "min                    0.000000       0.000000                0.000000   \n",
       "25%                    0.000000       0.000000                0.000000   \n",
       "50%                    0.000000       0.000000                0.000000   \n",
       "75%                    0.000000       0.000000                0.000000   \n",
       "max                    1.000000       1.000000                1.000000   \n",
       "\n",
       "       purpose_medical  purpose_moving  purpose_other  \\\n",
       "count     94690.000000    94690.000000   94690.000000   \n",
       "mean          0.009505        0.006400       0.047101   \n",
       "std           0.097028        0.079743       0.211856   \n",
       "min           0.000000        0.000000       0.000000   \n",
       "25%           0.000000        0.000000       0.000000   \n",
       "50%           0.000000        0.000000       0.000000   \n",
       "75%           0.000000        0.000000       0.000000   \n",
       "max           1.000000        1.000000       1.000000   \n",
       "\n",
       "       purpose_renewable_energy  purpose_small_business  purpose_vacation  \n",
       "count              94690.000000            94690.000000      94690.000000  \n",
       "mean                   0.000708                0.008977          0.004721  \n",
       "std                    0.026591                0.094320          0.068545  \n",
       "min                    0.000000                0.000000          0.000000  \n",
       "25%                    0.000000                0.000000          0.000000  \n",
       "50%                    0.000000                0.000000          0.000000  \n",
       "75%                    0.000000                0.000000          0.000000  \n",
       "max                    1.000000                1.000000          1.000000  \n",
       "\n",
       "[8 rows x 28 columns]"
      ]
     },
     "execution_count": 41,
     "metadata": {},
     "output_type": "execute_result"
    }
   ],
   "source": [
    "df.describe()"
   ]
  },
  {
   "cell_type": "code",
   "execution_count": 42,
   "id": "60ae82d4",
   "metadata": {},
   "outputs": [],
   "source": [
    "train, test = train_test_split(df, train_size=0.80, random_state=1)\n",
    "train = train.fillna(0)\n",
    "test = test.fillna(0)\n",
    "X = train.drop(columns=['loan_status'])\n",
    "# Normalize Data (Using min max)\n",
    "X = normalize(X)\n",
    "# Note: Could also try multinomial logistic regression since the loan status doesnt necessarily have to be 0 or 1\n",
    "# Perhaps cluster robust estimator by loan purpose or some other variable\n",
    "Y = train['loan_status']"
   ]
  },
  {
   "cell_type": "code",
   "execution_count": 49,
   "id": "d1394c56",
   "metadata": {},
   "outputs": [
    {
     "name": "stdout",
     "output_type": "stream",
     "text": [
      "Accuracy Score: 0.7229087452471483\n",
      "Confusion Matrix: \n",
      "[[12075  3439]\n",
      " [ 1808  1614]]\n",
      "Area Under Curve: 0.6249916272529094\n",
      "Recall score: 0.4716540035067212\n"
     ]
    },
    {
     "name": "stderr",
     "output_type": "stream",
     "text": [
      "/Users/marlonfacey/anaconda3/lib/python3.7/site-packages/sklearn/linear_model/_logistic.py:765: ConvergenceWarning: lbfgs failed to converge (status=1):\n",
      "STOP: TOTAL NO. of ITERATIONS REACHED LIMIT.\n",
      "\n",
      "Increase the number of iterations (max_iter) or scale the data as shown in:\n",
      "    https://scikit-learn.org/stable/modules/preprocessing.html\n",
      "Please also refer to the documentation for alternative solver options:\n",
      "    https://scikit-learn.org/stable/modules/linear_model.html#logistic-regression\n",
      "  extra_warning_msg=_LOGISTIC_SOLVER_CONVERGENCE_MSG)\n"
     ]
    }
   ],
   "source": [
    "X_test = test.drop(columns=['loan_status'])\n",
    "X_test = normalize(X_test)\n",
    "y_test = test['loan_status']\n",
    "w = {0:1, 1:4}\n",
    "clf = LogisticRegression(class_weight = w,)\n",
    "result = clf.fit(X,Y)\n",
    "y_pred = clf.predict(X_test)\n",
    "\n",
    "\n",
    "print(f'Accuracy Score: {accuracy_score(y_test,y_pred)}')\n",
    "print(f'Confusion Matrix: \\n{confusion_matrix(y_test, y_pred)}')\n",
    "print(f'Area Under Curve: {roc_auc_score(y_test, y_pred)}')\n",
    "print(f'Recall score: {recall_score(y_test,y_pred)}')\n"
   ]
  },
  {
   "cell_type": "code",
   "execution_count": 50,
   "id": "8fa5cbee",
   "metadata": {},
   "outputs": [
    {
     "data": {
      "text/plain": [
       "array([[-2.7918511 ,  0.33963565,  0.21769831,  0.78244955, -0.08683234,\n",
       "         0.01887912,  0.29744574,  2.67477414, -0.0355948 ,  1.50502083,\n",
       "        -6.07724677,  0.3348929 , -0.11114135, -0.36316682,  0.05835468,\n",
       "         0.01408967, -0.01466195, -0.36363482,  0.1184521 , -0.01840591,\n",
       "         0.05255761, -0.15990179,  0.38319719,  0.20551671, -0.02636301]])"
      ]
     },
     "execution_count": 50,
     "metadata": {},
     "output_type": "execute_result"
    }
   ],
   "source": [
    "clf.coef_"
   ]
  },
  {
   "cell_type": "code",
   "execution_count": 51,
   "id": "5576838d",
   "metadata": {},
   "outputs": [
    {
     "name": "stdout",
     "output_type": "stream",
     "text": [
      "Logistic: f1=0.381 auc=0.319\n"
     ]
    },
    {
     "data": {
      "image/png": "[encoded data removed]",
      "text/plain": [
       "<Figure size 432x288 with 1 Axes>"
      ]
     },
     "metadata": {
      "needs_background": "light"
     },
     "output_type": "display_data"
    }
   ],
   "source": [
    "lr_probs = clf.predict_proba(X_test)\n",
    "lr_probs = lr_probs[:, 1]\n",
    "lr_precision, lr_recall, _ = precision_recall_curve(y_test, lr_probs)\n",
    "lr_f1, lr_auc = f1_score(y_test, y_pred), auc(lr_recall, lr_precision)\n",
    "# summarize scores\n",
    "print('Logistic: f1=%.3f auc=%.3f' % (lr_f1, lr_auc))\n",
    "# plot the precision-recall curves\n",
    "no_skill = len(y_test[y_test==1]) / len(y_test)\n",
    "plt.plot([0, 1], [no_skill, no_skill], linestyle='--', label='No Skill')\n",
    "plt.plot(lr_recall, lr_precision, marker='.', label='Logistic')\n",
    "# axis labels\n",
    "plt.xlabel('Recall')\n",
    "plt.ylabel('Precision')\n",
    "# show the legend\n",
    "plt.legend()\n",
    "# show the plot\n",
    "plt.show()"
   ]
  },
  {
   "cell_type": "code",
   "execution_count": 52,
   "id": "8b740732",
   "metadata": {},
   "outputs": [
    {
     "name": "stdout",
     "output_type": "stream",
     "text": [
      "No Skill: ROC AUC=0.500\n",
      "Logistic: ROC AUC=0.620\n"
     ]
    },
    {
     "name": "stderr",
     "output_type": "stream",
     "text": [
      "/Users/marlonfacey/anaconda3/lib/python3.7/site-packages/statsmodels/genmod/generalized_linear_model.py:1323: UserWarning: Elastic net fitting did not converge\n",
      "  warnings.warn(\"Elastic net fitting did not converge\")\n"
     ]
    },
    {
     "data": {
      "image/png": "[encoded data removed]",
      "text/plain": [
       "<Figure size 432x288 with 1 Axes>"
      ]
     },
     "metadata": {
      "needs_background": "light"
     },
     "output_type": "display_data"
    }
   ],
   "source": [
    "freq = (Y == 1)\n",
    "freq[Y==1] = 4\n",
    "freq[Y==0] = 1\n",
    "\n",
    "clf = GLM(Y,X,family=families.Binomial(),freq_weights = freq)\n",
    "res = clf.fit_regularized()\n",
    "ns_probs = [0 for _ in range(len(y_test))]\n",
    "lr_probs = res.predict(X_test)\n",
    "lr_probs = lr_probs.reset_index(drop=True)\n",
    "lr_probs = lr_probs * (lr_probs > .5)\n",
    "ns_auc = roc_auc_score(y_test, ns_probs)\n",
    "lr_auc = roc_auc_score(y_test, lr_probs)\n",
    "print('No Skill: ROC AUC=%.3f' % (ns_auc))\n",
    "print('Logistic: ROC AUC=%.3f' % (lr_auc))\n",
    "# calculate roc curves\n",
    "ns_fpr, ns_tpr, _ = roc_curve(y_test, ns_probs)\n",
    "lr_fpr, lr_tpr, _ = roc_curve(y_test, lr_probs)\n",
    "# plot the roc curve for the model\n",
    "plt.plot(ns_fpr, ns_tpr, linestyle='--', label='No Skill')\n",
    "plt.plot(lr_fpr, lr_tpr, marker='.', label='Logistic')\n",
    "# axis labels\n",
    "plt.xlabel('False Positive Rate')\n",
    "plt.ylabel('True Positive Rate')\n",
    "# show the legend\n",
    "plt.legend()\n",
    "# show the plot\n",
    "plt.show()"
   ]
  },
  {
   "cell_type": "code",
   "execution_count": 53,
   "id": "5661383e",
   "metadata": {},
   "outputs": [
    {
     "data": {
      "text/plain": [
       "annual_inc                    -4.446835\n",
       "chargeoff_within_12_mths       0.306474\n",
       "delinq_2yrs                    0.146122\n",
       "dti                            0.803374\n",
       "emp_length                    -0.075581\n",
       "home_ownership                 0.021869\n",
       "inq_last_6mths                 0.297078\n",
       "int_rate                       2.692678\n",
       "loan_amnt                      0.065571\n",
       "pub_rec_bankruptcies           1.473251\n",
       "revol_bal                    -11.202258\n",
       "term                           0.325531\n",
       "total_acc                      0.011504\n",
       "purpose_car                   -2.055300\n",
       "purpose_credit_card           -1.629303\n",
       "purpose_debt_consolidation    -1.681848\n",
       "purpose_home_improvement      -1.708589\n",
       "purpose_house                 -2.070441\n",
       "purpose_major_purchase        -1.571593\n",
       "purpose_medical               -1.700969\n",
       "purpose_moving                -1.634234\n",
       "purpose_other                 -1.848597\n",
       "purpose_renewable_energy      -1.287763\n",
       "purpose_small_business        -1.487077\n",
       "purpose_vacation              -1.707753\n",
       "dtype: float64"
      ]
     },
     "execution_count": 53,
     "metadata": {},
     "output_type": "execute_result"
    }
   ],
   "source": [
    "res.params"
   ]
  },
  {
   "cell_type": "code",
   "execution_count": 54,
   "id": "73713826",
   "metadata": {},
   "outputs": [
    {
     "name": "stdout",
     "output_type": "stream",
     "text": [
      "Accuracy: 74.40%\n"
     ]
    }
   ],
   "source": [
    "lr_probs = res.predict(X_test)\n",
    "lr_probs = lr_probs.reset_index(drop=True)\n",
    "lr_probs = (lr_probs > .5).astype('int')\n",
    "accuracy = np.mean(y_test.reset_index(drop=True) == lr_probs)\n",
    "\n",
    "print(\"Accuracy: %.2f%%\" % (accuracy * 100.0))"
   ]
  },
  {
   "cell_type": "code",
   "execution_count": 60,
   "id": "551c2122",
   "metadata": {},
   "outputs": [
    {
     "data": {
      "text/plain": [
       "annual_inc                    -4.446835\n",
       "chargeoff_within_12_mths       0.306474\n",
       "delinq_2yrs                    0.146122\n",
       "dti                            0.803374\n",
       "emp_length                    -0.075581\n",
       "home_ownership                 0.021869\n",
       "inq_last_6mths                 0.297078\n",
       "int_rate                       2.692678\n",
       "loan_amnt                      0.065571\n",
       "pub_rec_bankruptcies           1.473251\n",
       "revol_bal                    -11.202258\n",
       "term                           0.325531\n",
       "total_acc                      0.011504\n",
       "purpose_car                   -2.055300\n",
       "purpose_credit_card           -1.629303\n",
       "purpose_debt_consolidation    -1.681848\n",
       "purpose_home_improvement      -1.708589\n",
       "purpose_house                 -2.070441\n",
       "purpose_major_purchase        -1.571593\n",
       "purpose_medical               -1.700969\n",
       "purpose_moving                -1.634234\n",
       "purpose_other                 -1.848597\n",
       "purpose_renewable_energy      -1.287763\n",
       "purpose_small_business        -1.487077\n",
       "purpose_vacation              -1.707753\n",
       "dtype: float64"
      ]
     },
     "execution_count": 60,
     "metadata": {},
     "output_type": "execute_result"
    }
   ],
   "source": [
    "res.params"
   ]
  },
  {
   "cell_type": "code",
   "execution_count": 55,
   "id": "595579cc",
   "metadata": {},
   "outputs": [],
   "source": [
    "top_coefs = abs(res.params) > 2"
   ]
  },
  {
   "cell_type": "code",
   "execution_count": 56,
   "id": "5d3176c6",
   "metadata": {},
   "outputs": [
    {
     "data": {
      "text/plain": [
       "annual_inc                     True\n",
       "chargeoff_within_12_mths      False\n",
       "delinq_2yrs                   False\n",
       "dti                           False\n",
       "emp_length                    False\n",
       "home_ownership                False\n",
       "inq_last_6mths                False\n",
       "int_rate                       True\n",
       "loan_amnt                     False\n",
       "pub_rec_bankruptcies          False\n",
       "revol_bal                      True\n",
       "term                          False\n",
       "total_acc                     False\n",
       "purpose_car                    True\n",
       "purpose_credit_card           False\n",
       "purpose_debt_consolidation    False\n",
       "purpose_home_improvement      False\n",
       "purpose_house                  True\n",
       "purpose_major_purchase        False\n",
       "purpose_medical               False\n",
       "purpose_moving                False\n",
       "purpose_other                 False\n",
       "purpose_renewable_energy      False\n",
       "purpose_small_business        False\n",
       "purpose_vacation              False\n",
       "dtype: bool"
      ]
     },
     "execution_count": 56,
     "metadata": {},
     "output_type": "execute_result"
    }
   ],
   "source": [
    "top_coefs"
   ]
  },
  {
   "cell_type": "code",
   "execution_count": 61,
   "id": "c5772f56",
   "metadata": {},
   "outputs": [
    {
     "name": "stderr",
     "output_type": "stream",
     "text": [
      "/Users/marlonfacey/anaconda3/lib/python3.7/site-packages/statsmodels/genmod/generalized_linear_model.py:1323: UserWarning: Elastic net fitting did not converge\n",
      "  warnings.warn(\"Elastic net fitting did not converge\")\n"
     ]
    },
    {
     "name": "stdout",
     "output_type": "stream",
     "text": [
      "(50, 5)\n"
     ]
    }
   ],
   "source": [
    "tuning_params = 10**np.linspace(5,-5,50)*0.5\n",
    "coefs = []\n",
    "for a in tuning_params:\n",
    "    clf = GLM(Y,X,family=families.Binomial(),freq_weights = freq)\n",
    "    log_reg = clf.fit_regularized(alpha=a, L1_wt=1)\n",
    "    coefs.append(log_reg.params[top_coefs])\n",
    "\n",
    "    \n",
    "print(np.shape(coefs))\n"
   ]
  },
  {
   "cell_type": "code",
   "execution_count": 62,
   "id": "26a0f55d",
   "metadata": {},
   "outputs": [
    {
     "data": {
      "text/plain": [
       "<matplotlib.legend.Legend at 0x1238cb1d0>"
      ]
     },
     "execution_count": 62,
     "metadata": {},
     "output_type": "execute_result"
    },
    {
     "data": {
      "image/png": "[encoded data removed]",
      "text/plain": [
       "<Figure size 432x288 with 1 Axes>"
      ]
     },
     "metadata": {
      "needs_background": "light"
     },
     "output_type": "display_data"
    }
   ],
   "source": [
    "ax = plt.gca()\n",
    "ax.plot(tuning_params, coefs)\n",
    "ax.set_xscale('log')\n",
    "plt.axis('tight')\n",
    "plt.title('Lasso Trace for Y')\n",
    "plt.xlabel('alpha (Lambda)')\n",
    "plt.ylabel('Standardized Betas (weights)')\n",
    "plt.legend(X.columns[top_coefs])"
   ]
  },
  {
   "cell_type": "code",
   "execution_count": 24,
   "id": "e7d7cb2b",
   "metadata": {},
   "outputs": [
    {
     "name": "stdout",
     "output_type": "stream",
     "text": [
      "(50, 6)\n"
     ]
    }
   ],
   "source": [
    "tuning_params = 10**np.linspace(5,-4,50)*0.5\n",
    "coefs = []\n",
    "for a in tuning_params:\n",
    "    clf = GLM(Y,X,family=families.Binomial(),freq_weights = freq)\n",
    "    log_reg = clf.fit_regularized(alpha=a, L1_wt=0)\n",
    "    coefs.append(log_reg.params[top_coeffs])\n",
    "\n",
    "    \n",
    "print(np.shape(coefs))"
   ]
  },
  {
   "cell_type": "code",
   "execution_count": 25,
   "id": "12e5f0b8",
   "metadata": {},
   "outputs": [
    {
     "data": {
      "text/plain": [
       "<matplotlib.legend.Legend at 0x12ac38110>"
      ]
     },
     "execution_count": 25,
     "metadata": {},
     "output_type": "execute_result"
    },
    {
     "data": {
      "image/png": "[encoded data removed]",
      "text/plain": [
       "<Figure size 432x288 with 1 Axes>"
      ]
     },
     "metadata": {
      "needs_background": "light"
     },
     "output_type": "display_data"
    }
   ],
   "source": [
    "ax = plt.gca()\n",
    "ax.plot(tuning_params, coefs)\n",
    "ax.set_xscale('log')\n",
    "plt.axis('tight')\n",
    "plt.title('Ridge Trace for Y')\n",
    "plt.xlabel('alpha (Lambda)')\n",
    "plt.ylabel('Standardized Betas (weights)')\n",
    "plt.legend(X.columns[top_coefs])"
   ]
  },
  {
   "cell_type": "code",
   "execution_count": null,
   "id": "5d1e7250",
   "metadata": {},
   "outputs": [],
   "source": [
    "qda_model = QDA()\n",
    "qda_model.fit(X,Y)\n",
    "y_pred = (y_pred > 0.5).astype('int')\n",
    "y_pred = qda_model.predict(X_test)\n",
    "\n",
    "print(f'Accuracy Score: {accuracy_score(y_test,y_pred)}')\n",
    "print(f'Confusion Matrix: \\n{confusion_matrix(y_test, y_pred)}')\n",
    "print(f'Area Under Curve: {roc_auc_score(y_test, y_pred)}')\n",
    "print(f'Recall score: {recall_score(y_test,y_pred)}')"
   ]
  },
  {
   "cell_type": "code",
   "execution_count": null,
   "id": "55658e47",
   "metadata": {},
   "outputs": [],
   "source": [
    "param_grid = {\n",
    "    'shrinkage': [1.0, 0, 0.1, 0.01, 1e-3, 1e-4, 1e-5, 1e-6, 1e-7, 1e-8],\n",
    "    'solver': ['svd', 'lsqr', 'eigen']\n",
    "}\n",
    "\n",
    "gs = GridSearchCV(\n",
    "    LDA(),\n",
    "    param_grid=param_grid,\n",
    "    verbose=1,\n",
    "    cv=5,\n",
    "    n_jobs=-1\n",
    ")\n",
    "\n",
    "lda_gs_results = gs.fit(X, Y)"
   ]
  },
  {
   "cell_type": "code",
   "execution_count": null,
   "id": "0b1cd628",
   "metadata": {},
   "outputs": [],
   "source": [
    "print(\"%-30s %4.10f\" % (\"LDA Best Score:\", lda_gs_results.best_score_))\n",
    "print(\"%-30s %4s\"    % (\"LDA Best Parameters:\", lda_gs_results.best_params_))"
   ]
  },
  {
   "cell_type": "code",
   "execution_count": null,
   "id": "eb1fed38",
   "metadata": {},
   "outputs": [],
   "source": [
    "lda_model = LDA(shrinkage = 0.001, solver = 'lsqr')\n",
    "ns_probs = [0 for _ in range(len(y_test))]\n",
    "lr_probs = lda_model.fit(X,Y)\n",
    "lr_probs = lda_model.predict_proba(X_test)\n",
    "lr_probs = lr_probs[:,1]\n",
    "ns_auc = roc_auc_score(y_test, ns_probs)\n",
    "lr_auc = roc_auc_score(y_test, lr_probs)\n",
    "print('No Skill: ROC AUC=%.3f' % (ns_auc))\n",
    "print('Logistic: ROC AUC=%.3f' % (lr_auc))\n",
    "# calculate roc curves\n",
    "ns_fpr, ns_tpr, _ = roc_curve(y_test, ns_probs)\n",
    "lr_fpr, lr_tpr, _ = roc_curve(y_test, lr_probs)\n",
    "# plot the roc curve for the model\n",
    "plt.plot(ns_fpr, ns_tpr, linestyle='--', label='No Skill')\n",
    "plt.plot(lr_fpr, lr_tpr, marker='.', label='LDA')\n",
    "# axis labels\n",
    "plt.xlabel('False Positive Rate')\n",
    "plt.ylabel('True Positive Rate')\n",
    "# show the legend\n",
    "plt.legend()\n",
    "# show the plot\n",
    "plt.show()"
   ]
  },
  {
   "cell_type": "code",
   "execution_count": null,
   "id": "276233a6",
   "metadata": {},
   "outputs": [],
   "source": [
    "lda_model = LDA(shrinkage = 0.001, solver = 'lsqr')\n",
    "ns_probs = [0 for _ in range(len(y_test))]\n",
    "lda_model.fit(X,Y)\n",
    "lr_probs = lda_model.predict_proba(X_test)\n",
    "lr_probs = lr_probs[:, 1]\n",
    "lr_precision, lr_recall, _ = precision_recall_curve(y_test, lr_probs)\n",
    "lr_f1, lr_auc = f1_score(y_test, y_pred), auc(lr_recall, lr_precision)\n",
    "# summarize scores\n",
    "print('Logistic: f1=%.3f auc=%.3f' % (lr_f1, lr_auc))\n",
    "# plot the precision-recall curves\n",
    "no_skill = len(y_test[y_test==1]) / len(y_test)\n",
    "plt.plot([0, 1], [no_skill, no_skill], linestyle='--', label='No Skill')\n",
    "plt.plot(lr_recall, lr_precision, marker='.', label='Logistic')\n",
    "# axis labels\n",
    "plt.xlabel('Recall')\n",
    "plt.ylabel('Precision')\n",
    "# show the legend\n",
    "plt.legend()\n",
    "# show the plot\n",
    "plt.show()"
   ]
  },
  {
   "cell_type": "code",
   "execution_count": null,
   "id": "b690cda2",
   "metadata": {},
   "outputs": [],
   "source": [
    "param_grid = {\n",
    "    'reg_param': [0, 0.1, 0.2, 0.4, 0.6, 0.8, 0.9, 1.0, 2.0],\n",
    "    'tol': [0.0001]\n",
    "}\n",
    "\n",
    "gs = GridSearchCV(\n",
    "    QDA(),\n",
    "    param_grid=param_grid,\n",
    "    verbose=1,\n",
    "    cv=5,\n",
    "    n_jobs=-1\n",
    ")\n",
    "\n",
    "qda_gs_results = gs.fit(X, Y)"
   ]
  },
  {
   "cell_type": "code",
   "execution_count": null,
   "id": "0962528d",
   "metadata": {},
   "outputs": [],
   "source": [
    "print(\"%-30s %4.10f\" % (\"QDA Best Score:\", qda_gs_results.best_score_))\n",
    "print(\"%-30s %4s\"    % (\"QDA Best Parameters:\", qda_gs_results.best_params_))"
   ]
  },
  {
   "cell_type": "code",
   "execution_count": null,
   "id": "766389b1",
   "metadata": {},
   "outputs": [],
   "source": [
    "qda_model = QDA()\n",
    "ns_probs = [0 for _ in range(len(y_test))]\n",
    "lr_probs = qda_model.fit(X,Y)\n",
    "lr_probs = qda_model.predict_proba(X_test)\n",
    "lr_probs = lr_probs[:,1]\n",
    "lr_probs = lr_probs*(lr_probs>0.5)\n",
    "ns_auc = roc_auc_score(y_test, ns_probs)\n",
    "lr_auc = roc_auc_score(y_test, lr_probs)\n",
    "print('No Skill: ROC AUC=%.3f' % (ns_auc))\n",
    "print('Logistic: ROC AUC=%.3f' % (lr_auc))\n",
    "# calculate roc curves\n",
    "ns_fpr, ns_tpr, _ = roc_curve(y_test, ns_probs)\n",
    "lr_fpr, lr_tpr, _ = roc_curve(y_test, lr_probs)\n",
    "# plot the roc curve for the model\n",
    "plt.plot(ns_fpr, ns_tpr, linestyle='--', label='No Skill')\n",
    "plt.plot(lr_fpr, lr_tpr, marker='.', label='QDA')\n",
    "# axis labels\n",
    "plt.xlabel('False Positive Rate')\n",
    "plt.ylabel('True Positive Rate')\n",
    "# show the legend\n",
    "plt.legend()\n",
    "# show the plot\n",
    "plt.show()"
   ]
  },
  {
   "cell_type": "code",
   "execution_count": null,
   "id": "40c926c9",
   "metadata": {},
   "outputs": [],
   "source": [
    "log_reg = sm.Logit(Y, X).fit_regularized()\n",
    "pos_coef = np.abs(log_reg.params)\n",
    "interaction = PolynomialFeatures(degree=2,interaction_only=True, include_bias=False)\n",
    "X1 = pd.DataFrame(interaction.fit_transform(X[pos_coef.nlargest(22).index]),columns=interaction.get_feature_names(X.columns.to_list()))\n",
    "X1.index = Y.index\n",
    "X1_test = pd.DataFrame(interaction.fit_transform(X_test[pos_coef.nlargest(22).index]),columns=interaction.get_feature_names(X_test.columns.to_list()))\n",
    "X1_test.index = X_test.index\n",
    "\n",
    "clf = LogisticRegression()\n",
    "clf.fit(X1,Y)\n",
    "ns_probs = [0 for _ in range(len(y_test))]\n",
    "lr_probs = clf.predict_proba(X1_test)\n",
    "lr_probs = lr_probs[:, 1]\n",
    "ns_auc = roc_auc_score(y_test, ns_probs)\n",
    "lr_auc = roc_auc_score(y_test, lr_probs)\n",
    "print('No Skill: ROC AUC=%.3f' % (ns_auc))\n",
    "print('Logistic: ROC AUC=%.3f' % (lr_auc))\n",
    "# calculate roc curves\n",
    "ns_fpr, ns_tpr, _ = roc_curve(y_test, ns_probs)\n",
    "lr_fpr, lr_tpr, _ = roc_curve(y_test, lr_probs)\n",
    "# plot the roc curve for the model\n",
    "plt.plot(ns_fpr, ns_tpr, linestyle='--', label='No Skill')\n",
    "plt.plot(lr_fpr, lr_tpr, marker='.', label='Logistic')\n",
    "# axis labels\n",
    "plt.xlabel('False Positive Rate')\n",
    "plt.ylabel('True Positive Rate')\n",
    "# show the legend\n",
    "plt.legend()\n",
    "# show the plot\n",
    "plt.show()"
   ]
  },
  {
   "cell_type": "code",
   "execution_count": null,
   "id": "bfbba500",
   "metadata": {},
   "outputs": [],
   "source": [
    "log_reg = sm.Logit(Y, X).fit_regularized()\n",
    "pos_coef = np.abs(log_reg.params)\n",
    "interaction = PolynomialFeatures(degree=2,interaction_only=True, include_bias=False)\n",
    "X1 = pd.DataFrame(interaction.fit_transform(X[pos_coef.nlargest(27).index]),columns=interaction.get_feature_names(X.columns.to_list()))\n",
    "X1.index = Y.index\n",
    "X1_test = pd.DataFrame(interaction.fit_transform(X_test[pos_coef.nlargest(27).index]),columns=interaction.get_feature_names(X_test.columns.to_list()))\n",
    "X1_test.index = X_test.index\n",
    "\n",
    "clf = LogisticRegression()\n",
    "clf.fit(X1,Y)\n",
    "ns_probs = [0 for _ in range(len(y_test))]\n",
    "lr_probs = clf.predict_proba(X1_test)\n",
    "lr_probs = lr_probs[:, 1]\n",
    "lr_precision, lr_recall, _ = precision_recall_curve(y_test, lr_probs)\n",
    "lr_f1, lr_auc = f1_score(y_test, y_pred), auc(lr_recall, lr_precision)\n",
    "# summarize scores\n",
    "print('Logistic: f1=%.3f auc=%.3f' % (lr_f1, lr_auc))\n",
    "# plot the precision-recall curves\n",
    "no_skill = len(y_test[y_test==1]) / len(y_test)\n",
    "plt.plot([0, 1], [no_skill, no_skill], linestyle='--', label='No Skill')\n",
    "plt.plot(lr_recall, lr_precision, marker='.', label='Logistic')\n",
    "# axis labels\n",
    "plt.xlabel('Recall')\n",
    "plt.ylabel('Precision')\n",
    "# show the legend\n",
    "plt.legend()\n",
    "# show the plot\n",
    "plt.show()"
   ]
  },
  {
   "cell_type": "code",
   "execution_count": null,
   "id": "e71e1a14",
   "metadata": {},
   "outputs": [],
   "source": [
    "for k in range(X1.shape[1]):\n",
    "    if np.sum(X1.iloc[:,k]) == 0:\n",
    "        X1.drop(X1.columns[k], axis=1)"
   ]
  },
  {
   "cell_type": "code",
   "execution_count": null,
   "id": "93fb322e",
   "metadata": {},
   "outputs": [],
   "source": [
    "# summarize class distribution\n",
    "counter = Counter(Y)\n",
    "print(counter)\n",
    "# transform the dataset\n",
    "oversample = SMOTE()\n",
    "X2, Y2 = oversample.fit_resample(X, Y)\n",
    "# summarize the new class distribution\n",
    "counter = Counter(y2)\n",
    "print(counter)"
   ]
  },
  {
   "cell_type": "code",
   "execution_count": null,
   "id": "b30613d0",
   "metadata": {},
   "outputs": [],
   "source": [
    "qda_model = LDA(shrinkage = 0.001, solver = 'lsqr')\n",
    "ns_probs = [0 for _ in range(len(y_test))]\n",
    "lda_model.fit(X2,Y2)\n",
    "lr_probs = lda_model.predict_proba(X_test)\n",
    "lr_probs = lr_probs[:,1]\n",
    "ns_auc = roc_auc_score(y_test, ns_probs)\n",
    "lr_auc = roc_auc_score(y_test, lr_probs)\n",
    "print('No Skill: ROC AUC=%.3f' % (ns_auc))\n",
    "print('Logistic: ROC AUC=%.3f' % (lr_auc))\n",
    "# calculate roc curves\n",
    "ns_fpr, ns_tpr, _ = roc_curve(y_test, ns_probs)\n",
    "lr_fpr, lr_tpr, _ = roc_curve(y_test, lr_probs)\n",
    "# plot the roc curve for the model\n",
    "plt.plot(ns_fpr, ns_tpr, linestyle='--', label='No Skill')\n",
    "plt.plot(lr_fpr, lr_tpr, marker='.', label='LDA')\n",
    "# axis labels\n",
    "plt.xlabel('False Positive Rate')\n",
    "plt.ylabel('True Positive Rate')\n",
    "# show the legend\n",
    "plt.legend()\n",
    "# show the plot\n",
    "plt.show()"
   ]
  },
  {
   "cell_type": "code",
   "execution_count": null,
   "id": "eeaa7c98",
   "metadata": {},
   "outputs": [],
   "source": [
    "# summarize class distribution\n",
    "counter = Counter(Y)\n",
    "print(counter)\n",
    "# transform the dataset\n",
    "oversample = SMOTE()\n",
    "X2, Y2 = oversample.fit_resample(X, Y)\n",
    "# summarize the new class distribution\n",
    "counter = Counter(y2)\n",
    "print(counter)\n",
    "\n",
    "qda_model = QDA()\n",
    "ns_probs = [0 for _ in range(len(y_test))]\n",
    "qda_model.fit(X2,Y2)\n",
    "lr_probs = qda_model.predict_proba(X_test)\n",
    "lr_probs = lr_probs[:,1]\n",
    "ns_auc = roc_auc_score(y_test, ns_probs)\n",
    "lr_auc = roc_auc_score(y_test, lr_probs)\n",
    "print('No Skill: ROC AUC=%.3f' % (ns_auc))\n",
    "print('Logistic: ROC AUC=%.3f' % (lr_auc))\n",
    "# calculate roc curves\n",
    "ns_fpr, ns_tpr, _ = roc_curve(y_test, ns_probs)\n",
    "lr_fpr, lr_tpr, _ = roc_curve(y_test, lr_probs)\n",
    "# plot the roc curve for the model\n",
    "plt.plot(ns_fpr, ns_tpr, linestyle='--', label='No Skill')\n",
    "plt.plot(lr_fpr, lr_tpr, marker='.', label='QDA')\n",
    "# axis labels\n",
    "plt.xlabel('False Positive Rate')\n",
    "plt.ylabel('True Positive Rate')\n",
    "# show the legend\n",
    "plt.legend()\n",
    "# show the plot\n",
    "plt.show()"
   ]
  }
 ],
 "metadata": {
  "kernelspec": {
   "display_name": "Python 3",
   "language": "python",
   "name": "python3"
  },
  "language_info": {
   "codemirror_mode": {
    "name": "ipython",
    "version": 3
   },
   "file_extension": ".py",
   "mimetype": "text/x-python",
   "name": "python",
   "nbconvert_exporter": "python",
   "pygments_lexer": "ipython3",
   "version": "3.7.6"
  }
 },
 "nbformat": 4,
 "nbformat_minor": 5
}
