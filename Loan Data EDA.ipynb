{
 "cells": [
  {
   "cell_type": "code",
   "execution_count": 1,
   "id": "84bc41f6",
   "metadata": {},
   "outputs": [],
   "source": [
    "import pandas as pd\n",
    "import statsmodels.api as sm\n",
    "import re\n",
    "import numpy as np\n",
    "from sklearn.metrics import roc_auc_score\n",
    "from sklearn.metrics import roc_curve\n",
    "from sklearn.linear_model import LogisticRegression\n",
    "from sklearn.model_selection import train_test_split\n",
    "import matplotlib.pyplot as plt\n",
    "from sklearn import preprocessing\n",
    "import seaborn as sn\n",
    "from sklearn.model_selection import train_test_split, GridSearchCV, cross_val_score, RepeatedStratifiedKFold, StratifiedKFold\n",
    "from sklearn.metrics import accuracy_score, confusion_matrix,roc_curve, roc_auc_score, precision_score, recall_score, precision_recall_curve\n",
    "from sklearn.metrics import f1_score\n",
    "from sklearn.metrics import precision_recall_curve\n",
    "from sklearn.metrics import auc\n",
    "from statsmodels.genmod.generalized_linear_model import GLM\n",
    "from statsmodels.genmod import families\n",
    "from statsmodels.formula.api import logit"
   ]
  },
  {
   "cell_type": "code",
   "execution_count": 2,
   "id": "22b3b06e",
   "metadata": {},
   "outputs": [
    {
     "name": "stderr",
     "output_type": "stream",
     "text": [
      "/Users/marlonfacey/anaconda3/lib/python3.7/site-packages/IPython/core/interactiveshell.py:3166: DtypeWarning: Columns (1,48,58,117,127,128,129,132,133,134,137) have mixed types.Specify dtype option on import or set low_memory=False.\n",
      "  interactivity=interactivity, compiler=compiler, result=result)\n"
     ]
    }
   ],
   "source": [
    "full_dataset = pd.read_csv('archive/Loan_status_2007-2020Q3.gzip')"
   ]
  },
  {
   "cell_type": "code",
   "execution_count": 3,
   "id": "ba7dda81",
   "metadata": {},
   "outputs": [
    {
     "data": {
      "text/plain": [
       "Index(['Unnamed: 0', 'id', 'loan_amnt', 'funded_amnt', 'funded_amnt_inv',\n",
       "       'term', 'int_rate', 'installment', 'grade', 'sub_grade',\n",
       "       ...\n",
       "       'hardship_start_date', 'hardship_end_date', 'payment_plan_start_date',\n",
       "       'hardship_length', 'hardship_dpd', 'hardship_loan_status',\n",
       "       'orig_projected_additional_accrued_interest',\n",
       "       'hardship_payoff_balance_amount', 'hardship_last_payment_amount',\n",
       "       'debt_settlement_flag'],\n",
       "      dtype='object', length=142)"
      ]
     },
     "execution_count": 3,
     "metadata": {},
     "output_type": "execute_result"
    }
   ],
   "source": [
    "full_dataset.columns"
   ]
  },
  {
   "cell_type": "code",
   "execution_count": 4,
   "id": "299bba27",
   "metadata": {},
   "outputs": [],
   "source": [
    "full_dataset['issue_d'] = pd.to_datetime(full_dataset['issue_d'])\n",
    "mask = (full_dataset['issue_d'] > '2014-01-01') & (full_dataset['issue_d'] <= '2015-01-01')\n",
    "small_dataset = full_dataset[mask]"
   ]
  },
  {
   "cell_type": "code",
   "execution_count": 5,
   "id": "5e08c84d",
   "metadata": {},
   "outputs": [],
   "source": [
    "columns = ['annual_inc', 'chargeoff_within_12_mths', 'delinq_2yrs', 'dti', 'emp_length', 'emp_title', 'funded_amnt', \n",
    "           'home_ownership', 'inq_last_6mths', 'installment', 'int_rate', 'issue_d', 'loan_amnt', 'pub_rec',\n",
    "           'pub_rec_bankruptcies', 'purpose', 'revol_bal', 'term', 'total_acc', 'verification_status', 'loan_status']\n",
    "df = small_dataset[columns]\n"
   ]
  },
  {
   "cell_type": "code",
   "execution_count": 6,
   "id": "58548227",
   "metadata": {},
   "outputs": [
    {
     "data": {
      "text/plain": [
       "array(['Charged Off', 'Fully Paid', 'Current', 'Late (31-120 days)',\n",
       "       'Default', 'In Grace Period'], dtype=object)"
      ]
     },
     "execution_count": 6,
     "metadata": {},
     "output_type": "execute_result"
    }
   ],
   "source": [
    "df['loan_status'].unique()"
   ]
  },
  {
   "cell_type": "code",
   "execution_count": 7,
   "id": "a3c66543",
   "metadata": {},
   "outputs": [
    {
     "data": {
      "text/plain": [
       "array(['credit_card', 'debt_consolidation', 'car', 'house',\n",
       "       'home_improvement', 'other', 'medical', 'major_purchase', 'moving',\n",
       "       'vacation', 'small_business', 'renewable_energy', 'wedding'],\n",
       "      dtype=object)"
      ]
     },
     "execution_count": 7,
     "metadata": {},
     "output_type": "execute_result"
    }
   ],
   "source": [
    "df['purpose'].unique()"
   ]
  },
  {
   "cell_type": "code",
   "execution_count": 8,
   "id": "d68362f0",
   "metadata": {},
   "outputs": [],
   "source": [
    "def clean_data(X):\n",
    "    X = X.dropna()\n",
    "    X['emp_length'] = [float(re.sub('[a-zA-Z +<]*', '', str(string))) for string in X['emp_length']]\n",
    "    X['int_rate'] = [float(re.sub('[a-zA-Z %]*', '', str(string))) for string in X['int_rate']]\n",
    "    X['term'] = [float(re.sub('[a-zA-Z ]*', '', str(string))) for string in X['term']]\n",
    "    X['home_ownership'] = (X['home_ownership'] == 'OWN').astype('int')\n",
    "    X['verification_status'] = (X['verification_status'] != 'Verified') | (X['verification_status'] != 'Source Verified')\n",
    "    X['verification_status'] = X['verification_status'].astype('int')\n",
    "    # Remove emp title, issue_d before regression is run, can also try get_dummies for emp_title (Maybe just a few professions or types)\n",
    "    # Drop funded amount since it is equal to loan amount for our data (Makes matrix singular), all are verified \n",
    "    X = X.drop(columns=['emp_title', 'issue_d','funded_amnt', 'verification_status'])\n",
    "    \n",
    "    \n",
    "    #X['loan_status'] = (X['loan_status'] == 'Current') | (X['loan_status'] == 'Fully Paid') | (X['loan_status'] == 'In Grace Period')\n",
    "    \n",
    "#     There are so few defaults that instead I think we should do if the loan is paid/current\n",
    "    mask = (X['loan_status'] == 'Default') | (X['loan_status'] == 'Fully Paid') | (X['loan_status'] == 'Charged Off')\n",
    "    X = X[mask]\n",
    "    X['loan_status'] = (X['loan_status'] == 'Default') | (X['loan_status'] == 'Charged Off')\n",
    "    X['loan_status'] = X['loan_status'].astype('int')\n",
    "    \n",
    "    \n",
    "    \n",
    "    #Just select the categorical variables\n",
    "    cat_vars = ['purpose']\n",
    "\n",
    "    #Create dummy variables for each cat. variable\n",
    "    for var in cat_vars:\n",
    "        cat_list = pd.get_dummies(X[var], prefix=var)\n",
    "        # Categorical variables that have low count are making matrix singular\n",
    "        for col in cat_list.columns:\n",
    "            if sum(cat_list[col]) <= 50:\n",
    "                cat_list = cat_list.drop(columns=[col])\n",
    "        X=X.join(cat_list)\n",
    "        \n",
    "        \n",
    "\n",
    "    X = X.drop(columns = cat_vars)\n",
    "    \n",
    "    return X\n",
    "  \n"
   ]
  },
  {
   "cell_type": "code",
   "execution_count": 9,
   "id": "fc1733cd",
   "metadata": {},
   "outputs": [],
   "source": [
    "# Wrote own function to preserve column names\n",
    "def normalize(X):\n",
    "    return (X-X.min())/(X.max()-X.min())"
   ]
  },
  {
   "cell_type": "code",
   "execution_count": 10,
   "id": "3ddbcd9a",
   "metadata": {},
   "outputs": [
    {
     "name": "stderr",
     "output_type": "stream",
     "text": [
      "/Users/marlonfacey/anaconda3/lib/python3.7/site-packages/ipykernel_launcher.py:3: SettingWithCopyWarning: \n",
      "A value is trying to be set on a copy of a slice from a DataFrame.\n",
      "Try using .loc[row_indexer,col_indexer] = value instead\n",
      "\n",
      "See the caveats in the documentation: https://pandas.pydata.org/pandas-docs/stable/user_guide/indexing.html#returning-a-view-versus-a-copy\n",
      "  This is separate from the ipykernel package so we can avoid doing imports until\n",
      "/Users/marlonfacey/anaconda3/lib/python3.7/site-packages/ipykernel_launcher.py:4: SettingWithCopyWarning: \n",
      "A value is trying to be set on a copy of a slice from a DataFrame.\n",
      "Try using .loc[row_indexer,col_indexer] = value instead\n",
      "\n",
      "See the caveats in the documentation: https://pandas.pydata.org/pandas-docs/stable/user_guide/indexing.html#returning-a-view-versus-a-copy\n",
      "  after removing the cwd from sys.path.\n",
      "/Users/marlonfacey/anaconda3/lib/python3.7/site-packages/ipykernel_launcher.py:5: SettingWithCopyWarning: \n",
      "A value is trying to be set on a copy of a slice from a DataFrame.\n",
      "Try using .loc[row_indexer,col_indexer] = value instead\n",
      "\n",
      "See the caveats in the documentation: https://pandas.pydata.org/pandas-docs/stable/user_guide/indexing.html#returning-a-view-versus-a-copy\n",
      "  \"\"\"\n",
      "/Users/marlonfacey/anaconda3/lib/python3.7/site-packages/ipykernel_launcher.py:6: SettingWithCopyWarning: \n",
      "A value is trying to be set on a copy of a slice from a DataFrame.\n",
      "Try using .loc[row_indexer,col_indexer] = value instead\n",
      "\n",
      "See the caveats in the documentation: https://pandas.pydata.org/pandas-docs/stable/user_guide/indexing.html#returning-a-view-versus-a-copy\n",
      "  \n",
      "/Users/marlonfacey/anaconda3/lib/python3.7/site-packages/ipykernel_launcher.py:7: SettingWithCopyWarning: \n",
      "A value is trying to be set on a copy of a slice from a DataFrame.\n",
      "Try using .loc[row_indexer,col_indexer] = value instead\n",
      "\n",
      "See the caveats in the documentation: https://pandas.pydata.org/pandas-docs/stable/user_guide/indexing.html#returning-a-view-versus-a-copy\n",
      "  import sys\n",
      "/Users/marlonfacey/anaconda3/lib/python3.7/site-packages/ipykernel_launcher.py:8: SettingWithCopyWarning: \n",
      "A value is trying to be set on a copy of a slice from a DataFrame.\n",
      "Try using .loc[row_indexer,col_indexer] = value instead\n",
      "\n",
      "See the caveats in the documentation: https://pandas.pydata.org/pandas-docs/stable/user_guide/indexing.html#returning-a-view-versus-a-copy\n",
      "  \n"
     ]
    }
   ],
   "source": [
    "df = clean_data(df[:100000])"
   ]
  },
  {
   "cell_type": "code",
   "execution_count": 462,
   "id": "f64b3043",
   "metadata": {},
   "outputs": [
    {
     "data": {
      "text/html": [
       "<div>\n",
       "<style scoped>\n",
       "    .dataframe tbody tr th:only-of-type {\n",
       "        vertical-align: middle;\n",
       "    }\n",
       "\n",
       "    .dataframe tbody tr th {\n",
       "        vertical-align: top;\n",
       "    }\n",
       "\n",
       "    .dataframe thead th {\n",
       "        text-align: right;\n",
       "    }\n",
       "</style>\n",
       "<table border=\"1\" class=\"dataframe\">\n",
       "  <thead>\n",
       "    <tr style=\"text-align: right;\">\n",
       "      <th></th>\n",
       "      <th>annual_inc</th>\n",
       "      <th>chargeoff_within_12_mths</th>\n",
       "      <th>delinq_2yrs</th>\n",
       "      <th>dti</th>\n",
       "      <th>emp_length</th>\n",
       "      <th>home_ownership</th>\n",
       "      <th>inq_last_6mths</th>\n",
       "      <th>installment</th>\n",
       "      <th>int_rate</th>\n",
       "      <th>loan_amnt</th>\n",
       "      <th>...</th>\n",
       "      <th>purpose_debt_consolidation</th>\n",
       "      <th>purpose_home_improvement</th>\n",
       "      <th>purpose_house</th>\n",
       "      <th>purpose_major_purchase</th>\n",
       "      <th>purpose_medical</th>\n",
       "      <th>purpose_moving</th>\n",
       "      <th>purpose_other</th>\n",
       "      <th>purpose_renewable_energy</th>\n",
       "      <th>purpose_small_business</th>\n",
       "      <th>purpose_vacation</th>\n",
       "    </tr>\n",
       "  </thead>\n",
       "  <tbody>\n",
       "    <tr>\n",
       "      <th>1485415</th>\n",
       "      <td>58000.0</td>\n",
       "      <td>0.0</td>\n",
       "      <td>0.0</td>\n",
       "      <td>14.92</td>\n",
       "      <td>8.0</td>\n",
       "      <td>0</td>\n",
       "      <td>2.0</td>\n",
       "      <td>321.08</td>\n",
       "      <td>6.99</td>\n",
       "      <td>10400.0</td>\n",
       "      <td>...</td>\n",
       "      <td>0</td>\n",
       "      <td>0</td>\n",
       "      <td>0</td>\n",
       "      <td>0</td>\n",
       "      <td>0</td>\n",
       "      <td>0</td>\n",
       "      <td>0</td>\n",
       "      <td>0</td>\n",
       "      <td>0</td>\n",
       "      <td>0</td>\n",
       "    </tr>\n",
       "    <tr>\n",
       "      <th>1485416</th>\n",
       "      <td>78000.0</td>\n",
       "      <td>0.0</td>\n",
       "      <td>0.0</td>\n",
       "      <td>12.03</td>\n",
       "      <td>10.0</td>\n",
       "      <td>0</td>\n",
       "      <td>0.0</td>\n",
       "      <td>336.64</td>\n",
       "      <td>12.39</td>\n",
       "      <td>15000.0</td>\n",
       "      <td>...</td>\n",
       "      <td>1</td>\n",
       "      <td>0</td>\n",
       "      <td>0</td>\n",
       "      <td>0</td>\n",
       "      <td>0</td>\n",
       "      <td>0</td>\n",
       "      <td>0</td>\n",
       "      <td>0</td>\n",
       "      <td>0</td>\n",
       "      <td>0</td>\n",
       "    </tr>\n",
       "    <tr>\n",
       "      <th>1485417</th>\n",
       "      <td>69000.0</td>\n",
       "      <td>0.0</td>\n",
       "      <td>0.0</td>\n",
       "      <td>25.81</td>\n",
       "      <td>10.0</td>\n",
       "      <td>0</td>\n",
       "      <td>0.0</td>\n",
       "      <td>326.53</td>\n",
       "      <td>13.66</td>\n",
       "      <td>9600.0</td>\n",
       "      <td>...</td>\n",
       "      <td>1</td>\n",
       "      <td>0</td>\n",
       "      <td>0</td>\n",
       "      <td>0</td>\n",
       "      <td>0</td>\n",
       "      <td>0</td>\n",
       "      <td>0</td>\n",
       "      <td>0</td>\n",
       "      <td>0</td>\n",
       "      <td>0</td>\n",
       "    </tr>\n",
       "    <tr>\n",
       "      <th>1485418</th>\n",
       "      <td>125000.0</td>\n",
       "      <td>0.0</td>\n",
       "      <td>1.0</td>\n",
       "      <td>8.31</td>\n",
       "      <td>10.0</td>\n",
       "      <td>0</td>\n",
       "      <td>0.0</td>\n",
       "      <td>319.08</td>\n",
       "      <td>17.14</td>\n",
       "      <td>12800.0</td>\n",
       "      <td>...</td>\n",
       "      <td>0</td>\n",
       "      <td>0</td>\n",
       "      <td>0</td>\n",
       "      <td>0</td>\n",
       "      <td>0</td>\n",
       "      <td>0</td>\n",
       "      <td>0</td>\n",
       "      <td>0</td>\n",
       "      <td>0</td>\n",
       "      <td>0</td>\n",
       "    </tr>\n",
       "    <tr>\n",
       "      <th>1485419</th>\n",
       "      <td>63800.0</td>\n",
       "      <td>0.0</td>\n",
       "      <td>0.0</td>\n",
       "      <td>18.49</td>\n",
       "      <td>6.0</td>\n",
       "      <td>0</td>\n",
       "      <td>0.0</td>\n",
       "      <td>516.36</td>\n",
       "      <td>15.59</td>\n",
       "      <td>21425.0</td>\n",
       "      <td>...</td>\n",
       "      <td>0</td>\n",
       "      <td>0</td>\n",
       "      <td>0</td>\n",
       "      <td>0</td>\n",
       "      <td>0</td>\n",
       "      <td>0</td>\n",
       "      <td>0</td>\n",
       "      <td>0</td>\n",
       "      <td>0</td>\n",
       "      <td>0</td>\n",
       "    </tr>\n",
       "    <tr>\n",
       "      <th>...</th>\n",
       "      <td>...</td>\n",
       "      <td>...</td>\n",
       "      <td>...</td>\n",
       "      <td>...</td>\n",
       "      <td>...</td>\n",
       "      <td>...</td>\n",
       "      <td>...</td>\n",
       "      <td>...</td>\n",
       "      <td>...</td>\n",
       "      <td>...</td>\n",
       "      <td>...</td>\n",
       "      <td>...</td>\n",
       "      <td>...</td>\n",
       "      <td>...</td>\n",
       "      <td>...</td>\n",
       "      <td>...</td>\n",
       "      <td>...</td>\n",
       "      <td>...</td>\n",
       "      <td>...</td>\n",
       "      <td>...</td>\n",
       "      <td>...</td>\n",
       "    </tr>\n",
       "    <tr>\n",
       "      <th>1585410</th>\n",
       "      <td>73000.0</td>\n",
       "      <td>0.0</td>\n",
       "      <td>0.0</td>\n",
       "      <td>16.95</td>\n",
       "      <td>7.0</td>\n",
       "      <td>0</td>\n",
       "      <td>0.0</td>\n",
       "      <td>626.90</td>\n",
       "      <td>15.61</td>\n",
       "      <td>26000.0</td>\n",
       "      <td>...</td>\n",
       "      <td>1</td>\n",
       "      <td>0</td>\n",
       "      <td>0</td>\n",
       "      <td>0</td>\n",
       "      <td>0</td>\n",
       "      <td>0</td>\n",
       "      <td>0</td>\n",
       "      <td>0</td>\n",
       "      <td>0</td>\n",
       "      <td>0</td>\n",
       "    </tr>\n",
       "    <tr>\n",
       "      <th>1585411</th>\n",
       "      <td>48000.0</td>\n",
       "      <td>0.0</td>\n",
       "      <td>0.0</td>\n",
       "      <td>12.25</td>\n",
       "      <td>10.0</td>\n",
       "      <td>0</td>\n",
       "      <td>0.0</td>\n",
       "      <td>261.64</td>\n",
       "      <td>14.99</td>\n",
       "      <td>11000.0</td>\n",
       "      <td>...</td>\n",
       "      <td>0</td>\n",
       "      <td>0</td>\n",
       "      <td>0</td>\n",
       "      <td>0</td>\n",
       "      <td>0</td>\n",
       "      <td>0</td>\n",
       "      <td>0</td>\n",
       "      <td>0</td>\n",
       "      <td>0</td>\n",
       "      <td>0</td>\n",
       "    </tr>\n",
       "    <tr>\n",
       "      <th>1585412</th>\n",
       "      <td>96000.0</td>\n",
       "      <td>0.0</td>\n",
       "      <td>0.0</td>\n",
       "      <td>9.74</td>\n",
       "      <td>2.0</td>\n",
       "      <td>0</td>\n",
       "      <td>0.0</td>\n",
       "      <td>694.20</td>\n",
       "      <td>11.67</td>\n",
       "      <td>21000.0</td>\n",
       "      <td>...</td>\n",
       "      <td>0</td>\n",
       "      <td>0</td>\n",
       "      <td>0</td>\n",
       "      <td>0</td>\n",
       "      <td>0</td>\n",
       "      <td>0</td>\n",
       "      <td>0</td>\n",
       "      <td>0</td>\n",
       "      <td>0</td>\n",
       "      <td>0</td>\n",
       "    </tr>\n",
       "    <tr>\n",
       "      <th>1585413</th>\n",
       "      <td>85000.0</td>\n",
       "      <td>0.0</td>\n",
       "      <td>0.0</td>\n",
       "      <td>20.40</td>\n",
       "      <td>1.0</td>\n",
       "      <td>0</td>\n",
       "      <td>0.0</td>\n",
       "      <td>274.97</td>\n",
       "      <td>10.99</td>\n",
       "      <td>8400.0</td>\n",
       "      <td>...</td>\n",
       "      <td>0</td>\n",
       "      <td>0</td>\n",
       "      <td>0</td>\n",
       "      <td>0</td>\n",
       "      <td>0</td>\n",
       "      <td>0</td>\n",
       "      <td>1</td>\n",
       "      <td>0</td>\n",
       "      <td>0</td>\n",
       "      <td>0</td>\n",
       "    </tr>\n",
       "    <tr>\n",
       "      <th>1585414</th>\n",
       "      <td>50000.0</td>\n",
       "      <td>0.0</td>\n",
       "      <td>2.0</td>\n",
       "      <td>2.62</td>\n",
       "      <td>10.0</td>\n",
       "      <td>0</td>\n",
       "      <td>0.0</td>\n",
       "      <td>293.75</td>\n",
       "      <td>19.52</td>\n",
       "      <td>11200.0</td>\n",
       "      <td>...</td>\n",
       "      <td>1</td>\n",
       "      <td>0</td>\n",
       "      <td>0</td>\n",
       "      <td>0</td>\n",
       "      <td>0</td>\n",
       "      <td>0</td>\n",
       "      <td>0</td>\n",
       "      <td>0</td>\n",
       "      <td>0</td>\n",
       "      <td>0</td>\n",
       "    </tr>\n",
       "  </tbody>\n",
       "</table>\n",
       "<p>94680 rows × 28 columns</p>\n",
       "</div>"
      ],
      "text/plain": [
       "         annual_inc  chargeoff_within_12_mths  delinq_2yrs    dti  emp_length  \\\n",
       "1485415     58000.0                       0.0          0.0  14.92         8.0   \n",
       "1485416     78000.0                       0.0          0.0  12.03        10.0   \n",
       "1485417     69000.0                       0.0          0.0  25.81        10.0   \n",
       "1485418    125000.0                       0.0          1.0   8.31        10.0   \n",
       "1485419     63800.0                       0.0          0.0  18.49         6.0   \n",
       "...             ...                       ...          ...    ...         ...   \n",
       "1585410     73000.0                       0.0          0.0  16.95         7.0   \n",
       "1585411     48000.0                       0.0          0.0  12.25        10.0   \n",
       "1585412     96000.0                       0.0          0.0   9.74         2.0   \n",
       "1585413     85000.0                       0.0          0.0  20.40         1.0   \n",
       "1585414     50000.0                       0.0          2.0   2.62        10.0   \n",
       "\n",
       "         home_ownership  inq_last_6mths  installment  int_rate  loan_amnt  \\\n",
       "1485415               0             2.0       321.08      6.99    10400.0   \n",
       "1485416               0             0.0       336.64     12.39    15000.0   \n",
       "1485417               0             0.0       326.53     13.66     9600.0   \n",
       "1485418               0             0.0       319.08     17.14    12800.0   \n",
       "1485419               0             0.0       516.36     15.59    21425.0   \n",
       "...                 ...             ...          ...       ...        ...   \n",
       "1585410               0             0.0       626.90     15.61    26000.0   \n",
       "1585411               0             0.0       261.64     14.99    11000.0   \n",
       "1585412               0             0.0       694.20     11.67    21000.0   \n",
       "1585413               0             0.0       274.97     10.99     8400.0   \n",
       "1585414               0             0.0       293.75     19.52    11200.0   \n",
       "\n",
       "         ...  purpose_debt_consolidation  purpose_home_improvement  \\\n",
       "1485415  ...                           0                         0   \n",
       "1485416  ...                           1                         0   \n",
       "1485417  ...                           1                         0   \n",
       "1485418  ...                           0                         0   \n",
       "1485419  ...                           0                         0   \n",
       "...      ...                         ...                       ...   \n",
       "1585410  ...                           1                         0   \n",
       "1585411  ...                           0                         0   \n",
       "1585412  ...                           0                         0   \n",
       "1585413  ...                           0                         0   \n",
       "1585414  ...                           1                         0   \n",
       "\n",
       "         purpose_house  purpose_major_purchase  purpose_medical  \\\n",
       "1485415              0                       0                0   \n",
       "1485416              0                       0                0   \n",
       "1485417              0                       0                0   \n",
       "1485418              0                       0                0   \n",
       "1485419              0                       0                0   \n",
       "...                ...                     ...              ...   \n",
       "1585410              0                       0                0   \n",
       "1585411              0                       0                0   \n",
       "1585412              0                       0                0   \n",
       "1585413              0                       0                0   \n",
       "1585414              0                       0                0   \n",
       "\n",
       "         purpose_moving  purpose_other  purpose_renewable_energy  \\\n",
       "1485415               0              0                         0   \n",
       "1485416               0              0                         0   \n",
       "1485417               0              0                         0   \n",
       "1485418               0              0                         0   \n",
       "1485419               0              0                         0   \n",
       "...                 ...            ...                       ...   \n",
       "1585410               0              0                         0   \n",
       "1585411               0              0                         0   \n",
       "1585412               0              0                         0   \n",
       "1585413               0              1                         0   \n",
       "1585414               0              0                         0   \n",
       "\n",
       "         purpose_small_business  purpose_vacation  \n",
       "1485415                       0                 0  \n",
       "1485416                       0                 0  \n",
       "1485417                       0                 0  \n",
       "1485418                       0                 0  \n",
       "1485419                       0                 0  \n",
       "...                         ...               ...  \n",
       "1585410                       0                 0  \n",
       "1585411                       0                 0  \n",
       "1585412                       0                 0  \n",
       "1585413                       0                 0  \n",
       "1585414                       0                 0  \n",
       "\n",
       "[94680 rows x 28 columns]"
      ]
     },
     "execution_count": 462,
     "metadata": {},
     "output_type": "execute_result"
    }
   ],
   "source": [
    "df"
   ]
  },
  {
   "cell_type": "code",
   "execution_count": 463,
   "id": "362311a2",
   "metadata": {},
   "outputs": [
    {
     "data": {
      "image/png": "[encoded data removed]",
      "text/plain": [
       "<Figure size 432x288 with 2 Axes>"
      ]
     },
     "metadata": {
      "needs_background": "light"
     },
     "output_type": "display_data"
    }
   ],
   "source": [
    "corrMatrix = df.corr()\n",
    "sn.heatmap(corrMatrix, cmap=\"YlGnBu\")\n",
    "plt.show()"
   ]
  },
  {
   "cell_type": "code",
   "execution_count": 464,
   "id": "c8927fcb",
   "metadata": {},
   "outputs": [
    {
     "data": {
      "image/png": "[encoded data removed]",
      "text/plain": [
       "<Figure size 432x288 with 1 Axes>"
      ]
     },
     "metadata": {
      "needs_background": "light"
     },
     "output_type": "display_data"
    }
   ],
   "source": [
    "plt.hist(df['loan_amnt'], bins=25)\n",
    "plt.show()"
   ]
  },
  {
   "cell_type": "code",
   "execution_count": 465,
   "id": "743e7c59",
   "metadata": {},
   "outputs": [
    {
     "data": {
      "image/png": "[encoded data removed]",
      "text/plain": [
       "<Figure size 432x288 with 1 Axes>"
      ]
     },
     "metadata": {
      "needs_background": "light"
     },
     "output_type": "display_data"
    }
   ],
   "source": [
    "ax = sn.boxplot(y=df['loan_amnt'], x=df['loan_status'])"
   ]
  },
  {
   "cell_type": "code",
   "execution_count": 466,
   "id": "1b2ddba7",
   "metadata": {},
   "outputs": [
    {
     "data": {
      "image/png": "[encoded data removed]",
      "text/plain": [
       "<Figure size 432x288 with 1 Axes>"
      ]
     },
     "metadata": {
      "needs_background": "light"
     },
     "output_type": "display_data"
    }
   ],
   "source": [
    "boxplot_df = df[df['annual_inc'] < 2*10**5] \n",
    "ax = sn.boxplot(y=boxplot_df['annual_inc'], x=boxplot_df['loan_status'])"
   ]
  },
  {
   "cell_type": "code",
   "execution_count": 467,
   "id": "6fc30ef7",
   "metadata": {},
   "outputs": [
    {
     "data": {
      "image/png": "[encoded data removed]",
      "text/plain": [
       "<Figure size 432x288 with 1 Axes>"
      ]
     },
     "metadata": {
      "needs_background": "light"
     },
     "output_type": "display_data"
    }
   ],
   "source": [
    "ax = sn.boxplot(y=df['emp_length'], x=df['loan_status'])"
   ]
  },
  {
   "cell_type": "code",
   "execution_count": 468,
   "id": "a6b374bb",
   "metadata": {},
   "outputs": [
    {
     "data": {
      "text/plain": [
       "<seaborn.axisgrid.FacetGrid at 0x1ff36ba90>"
      ]
     },
     "execution_count": 468,
     "metadata": {},
     "output_type": "execute_result"
    },
    {
     "data": {
      "image/png": "[encoded data removed]",
      "text/plain": [
       "<Figure size 360x360 with 1 Axes>"
      ]
     },
     "metadata": {
      "needs_background": "light"
     },
     "output_type": "display_data"
    }
   ],
   "source": [
    "ax = sn.catplot(x=\"purpose\", kind=\"count\", data=small_dataset[(small_dataset[\"loan_status\"] == \"Charged Off\") | (small_dataset[\"loan_status\"] == \"Default\")])\n",
    "ax.set_xticklabels(rotation=90)"
   ]
  },
  {
   "cell_type": "code",
   "execution_count": 41,
   "id": "26dab2eb",
   "metadata": {},
   "outputs": [
    {
     "data": {
      "text/html": [
       "<div>\n",
       "<style scoped>\n",
       "    .dataframe tbody tr th:only-of-type {\n",
       "        vertical-align: middle;\n",
       "    }\n",
       "\n",
       "    .dataframe tbody tr th {\n",
       "        vertical-align: top;\n",
       "    }\n",
       "\n",
       "    .dataframe thead th {\n",
       "        text-align: right;\n",
       "    }\n",
       "</style>\n",
       "<table border=\"1\" class=\"dataframe\">\n",
       "  <thead>\n",
       "    <tr style=\"text-align: right;\">\n",
       "      <th></th>\n",
       "      <th>annual_inc</th>\n",
       "      <th>chargeoff_within_12_mths</th>\n",
       "      <th>delinq_2yrs</th>\n",
       "      <th>dti</th>\n",
       "      <th>emp_length</th>\n",
       "      <th>home_ownership</th>\n",
       "      <th>inq_last_6mths</th>\n",
       "      <th>installment</th>\n",
       "      <th>int_rate</th>\n",
       "      <th>loan_amnt</th>\n",
       "      <th>...</th>\n",
       "      <th>purpose_debt_consolidation</th>\n",
       "      <th>purpose_home_improvement</th>\n",
       "      <th>purpose_house</th>\n",
       "      <th>purpose_major_purchase</th>\n",
       "      <th>purpose_medical</th>\n",
       "      <th>purpose_moving</th>\n",
       "      <th>purpose_other</th>\n",
       "      <th>purpose_renewable_energy</th>\n",
       "      <th>purpose_small_business</th>\n",
       "      <th>purpose_vacation</th>\n",
       "    </tr>\n",
       "  </thead>\n",
       "  <tbody>\n",
       "    <tr>\n",
       "      <th>count</th>\n",
       "      <td>9.469000e+04</td>\n",
       "      <td>94690.000000</td>\n",
       "      <td>94690.000000</td>\n",
       "      <td>94690.000000</td>\n",
       "      <td>94690.000000</td>\n",
       "      <td>94690.000000</td>\n",
       "      <td>94690.000000</td>\n",
       "      <td>94690.000000</td>\n",
       "      <td>94690.000000</td>\n",
       "      <td>94690.000000</td>\n",
       "      <td>...</td>\n",
       "      <td>94690.000000</td>\n",
       "      <td>94690.000000</td>\n",
       "      <td>94690.000000</td>\n",
       "      <td>94690.000000</td>\n",
       "      <td>94690.000000</td>\n",
       "      <td>94690.000000</td>\n",
       "      <td>94690.000000</td>\n",
       "      <td>94690.000000</td>\n",
       "      <td>94690.000000</td>\n",
       "      <td>94690.000000</td>\n",
       "    </tr>\n",
       "    <tr>\n",
       "      <th>mean</th>\n",
       "      <td>7.606553e+04</td>\n",
       "      <td>0.010212</td>\n",
       "      <td>0.347745</td>\n",
       "      <td>18.687679</td>\n",
       "      <td>6.148474</td>\n",
       "      <td>0.098363</td>\n",
       "      <td>0.622537</td>\n",
       "      <td>441.369827</td>\n",
       "      <td>13.257025</td>\n",
       "      <td>15053.951051</td>\n",
       "      <td>...</td>\n",
       "      <td>0.620541</td>\n",
       "      <td>0.050713</td>\n",
       "      <td>0.003337</td>\n",
       "      <td>0.016697</td>\n",
       "      <td>0.009505</td>\n",
       "      <td>0.006400</td>\n",
       "      <td>0.047101</td>\n",
       "      <td>0.000708</td>\n",
       "      <td>0.008977</td>\n",
       "      <td>0.004721</td>\n",
       "    </tr>\n",
       "    <tr>\n",
       "      <th>std</th>\n",
       "      <td>5.886480e+04</td>\n",
       "      <td>0.110832</td>\n",
       "      <td>0.911898</td>\n",
       "      <td>8.500398</td>\n",
       "      <td>3.549330</td>\n",
       "      <td>0.297807</td>\n",
       "      <td>0.915039</td>\n",
       "      <td>244.765605</td>\n",
       "      <td>4.391573</td>\n",
       "      <td>8518.500573</td>\n",
       "      <td>...</td>\n",
       "      <td>0.485255</td>\n",
       "      <td>0.219412</td>\n",
       "      <td>0.057672</td>\n",
       "      <td>0.128133</td>\n",
       "      <td>0.097028</td>\n",
       "      <td>0.079743</td>\n",
       "      <td>0.211856</td>\n",
       "      <td>0.026591</td>\n",
       "      <td>0.094320</td>\n",
       "      <td>0.068545</td>\n",
       "    </tr>\n",
       "    <tr>\n",
       "      <th>min</th>\n",
       "      <td>4.000000e+03</td>\n",
       "      <td>0.000000</td>\n",
       "      <td>0.000000</td>\n",
       "      <td>0.000000</td>\n",
       "      <td>1.000000</td>\n",
       "      <td>0.000000</td>\n",
       "      <td>0.000000</td>\n",
       "      <td>30.420000</td>\n",
       "      <td>6.000000</td>\n",
       "      <td>1000.000000</td>\n",
       "      <td>...</td>\n",
       "      <td>0.000000</td>\n",
       "      <td>0.000000</td>\n",
       "      <td>0.000000</td>\n",
       "      <td>0.000000</td>\n",
       "      <td>0.000000</td>\n",
       "      <td>0.000000</td>\n",
       "      <td>0.000000</td>\n",
       "      <td>0.000000</td>\n",
       "      <td>0.000000</td>\n",
       "      <td>0.000000</td>\n",
       "    </tr>\n",
       "    <tr>\n",
       "      <th>25%</th>\n",
       "      <td>4.600000e+04</td>\n",
       "      <td>0.000000</td>\n",
       "      <td>0.000000</td>\n",
       "      <td>12.270000</td>\n",
       "      <td>3.000000</td>\n",
       "      <td>0.000000</td>\n",
       "      <td>0.000000</td>\n",
       "      <td>264.460000</td>\n",
       "      <td>10.150000</td>\n",
       "      <td>8400.000000</td>\n",
       "      <td>...</td>\n",
       "      <td>0.000000</td>\n",
       "      <td>0.000000</td>\n",
       "      <td>0.000000</td>\n",
       "      <td>0.000000</td>\n",
       "      <td>0.000000</td>\n",
       "      <td>0.000000</td>\n",
       "      <td>0.000000</td>\n",
       "      <td>0.000000</td>\n",
       "      <td>0.000000</td>\n",
       "      <td>0.000000</td>\n",
       "    </tr>\n",
       "    <tr>\n",
       "      <th>50%</th>\n",
       "      <td>6.500000e+04</td>\n",
       "      <td>0.000000</td>\n",
       "      <td>0.000000</td>\n",
       "      <td>18.120000</td>\n",
       "      <td>7.000000</td>\n",
       "      <td>0.000000</td>\n",
       "      <td>0.000000</td>\n",
       "      <td>384.340000</td>\n",
       "      <td>12.990000</td>\n",
       "      <td>13512.500000</td>\n",
       "      <td>...</td>\n",
       "      <td>1.000000</td>\n",
       "      <td>0.000000</td>\n",
       "      <td>0.000000</td>\n",
       "      <td>0.000000</td>\n",
       "      <td>0.000000</td>\n",
       "      <td>0.000000</td>\n",
       "      <td>0.000000</td>\n",
       "      <td>0.000000</td>\n",
       "      <td>0.000000</td>\n",
       "      <td>0.000000</td>\n",
       "    </tr>\n",
       "    <tr>\n",
       "      <th>75%</th>\n",
       "      <td>9.000000e+04</td>\n",
       "      <td>0.000000</td>\n",
       "      <td>0.000000</td>\n",
       "      <td>24.630000</td>\n",
       "      <td>10.000000</td>\n",
       "      <td>0.000000</td>\n",
       "      <td>1.000000</td>\n",
       "      <td>578.420000</td>\n",
       "      <td>15.610000</td>\n",
       "      <td>20000.000000</td>\n",
       "      <td>...</td>\n",
       "      <td>1.000000</td>\n",
       "      <td>0.000000</td>\n",
       "      <td>0.000000</td>\n",
       "      <td>0.000000</td>\n",
       "      <td>0.000000</td>\n",
       "      <td>0.000000</td>\n",
       "      <td>0.000000</td>\n",
       "      <td>0.000000</td>\n",
       "      <td>0.000000</td>\n",
       "      <td>0.000000</td>\n",
       "    </tr>\n",
       "    <tr>\n",
       "      <th>max</th>\n",
       "      <td>7.500000e+06</td>\n",
       "      <td>4.000000</td>\n",
       "      <td>22.000000</td>\n",
       "      <td>39.990000</td>\n",
       "      <td>10.000000</td>\n",
       "      <td>1.000000</td>\n",
       "      <td>6.000000</td>\n",
       "      <td>1408.130000</td>\n",
       "      <td>26.060000</td>\n",
       "      <td>35000.000000</td>\n",
       "      <td>...</td>\n",
       "      <td>1.000000</td>\n",
       "      <td>1.000000</td>\n",
       "      <td>1.000000</td>\n",
       "      <td>1.000000</td>\n",
       "      <td>1.000000</td>\n",
       "      <td>1.000000</td>\n",
       "      <td>1.000000</td>\n",
       "      <td>1.000000</td>\n",
       "      <td>1.000000</td>\n",
       "      <td>1.000000</td>\n",
       "    </tr>\n",
       "  </tbody>\n",
       "</table>\n",
       "<p>8 rows × 28 columns</p>\n",
       "</div>"
      ],
      "text/plain": [
       "         annual_inc  chargeoff_within_12_mths   delinq_2yrs           dti  \\\n",
       "count  9.469000e+04              94690.000000  94690.000000  94690.000000   \n",
       "mean   7.606553e+04                  0.010212      0.347745     18.687679   \n",
       "std    5.886480e+04                  0.110832      0.911898      8.500398   \n",
       "min    4.000000e+03                  0.000000      0.000000      0.000000   \n",
       "25%    4.600000e+04                  0.000000      0.000000     12.270000   \n",
       "50%    6.500000e+04                  0.000000      0.000000     18.120000   \n",
       "75%    9.000000e+04                  0.000000      0.000000     24.630000   \n",
       "max    7.500000e+06                  4.000000     22.000000     39.990000   \n",
       "\n",
       "         emp_length  home_ownership  inq_last_6mths   installment  \\\n",
       "count  94690.000000    94690.000000    94690.000000  94690.000000   \n",
       "mean       6.148474        0.098363        0.622537    441.369827   \n",
       "std        3.549330        0.297807        0.915039    244.765605   \n",
       "min        1.000000        0.000000        0.000000     30.420000   \n",
       "25%        3.000000        0.000000        0.000000    264.460000   \n",
       "50%        7.000000        0.000000        0.000000    384.340000   \n",
       "75%       10.000000        0.000000        1.000000    578.420000   \n",
       "max       10.000000        1.000000        6.000000   1408.130000   \n",
       "\n",
       "           int_rate     loan_amnt  ...  purpose_debt_consolidation  \\\n",
       "count  94690.000000  94690.000000  ...                94690.000000   \n",
       "mean      13.257025  15053.951051  ...                    0.620541   \n",
       "std        4.391573   8518.500573  ...                    0.485255   \n",
       "min        6.000000   1000.000000  ...                    0.000000   \n",
       "25%       10.150000   8400.000000  ...                    0.000000   \n",
       "50%       12.990000  13512.500000  ...                    1.000000   \n",
       "75%       15.610000  20000.000000  ...                    1.000000   \n",
       "max       26.060000  35000.000000  ...                    1.000000   \n",
       "\n",
       "       purpose_home_improvement  purpose_house  purpose_major_purchase  \\\n",
       "count              94690.000000   94690.000000            94690.000000   \n",
       "mean                   0.050713       0.003337                0.016697   \n",
       "std                    0.219412       0.057672                0.128133   \n",
       "min                    0.000000       0.000000                0.000000   \n",
       "25%                    0.000000       0.000000                0.000000   \n",
       "50%                    0.000000       0.000000                0.000000   \n",
       "75%                    0.000000       0.000000                0.000000   \n",
       "max                    1.000000       1.000000                1.000000   \n",
       "\n",
       "       purpose_medical  purpose_moving  purpose_other  \\\n",
       "count     94690.000000    94690.000000   94690.000000   \n",
       "mean          0.009505        0.006400       0.047101   \n",
       "std           0.097028        0.079743       0.211856   \n",
       "min           0.000000        0.000000       0.000000   \n",
       "25%           0.000000        0.000000       0.000000   \n",
       "50%           0.000000        0.000000       0.000000   \n",
       "75%           0.000000        0.000000       0.000000   \n",
       "max           1.000000        1.000000       1.000000   \n",
       "\n",
       "       purpose_renewable_energy  purpose_small_business  purpose_vacation  \n",
       "count              94690.000000            94690.000000      94690.000000  \n",
       "mean                   0.000708                0.008977          0.004721  \n",
       "std                    0.026591                0.094320          0.068545  \n",
       "min                    0.000000                0.000000          0.000000  \n",
       "25%                    0.000000                0.000000          0.000000  \n",
       "50%                    0.000000                0.000000          0.000000  \n",
       "75%                    0.000000                0.000000          0.000000  \n",
       "max                    1.000000                1.000000          1.000000  \n",
       "\n",
       "[8 rows x 28 columns]"
      ]
     },
     "execution_count": 41,
     "metadata": {},
     "output_type": "execute_result"
    }
   ],
   "source": [
    "df.describe()"
   ]
  },
  {
   "cell_type": "code",
   "execution_count": 11,
   "id": "60ae82d4",
   "metadata": {},
   "outputs": [
    {
     "name": "stdout",
     "output_type": "stream",
     "text": [
      "Optimization terminated successfully    (Exit mode 0)\n",
      "            Current function value: 0.43257996993963826\n",
      "            Iterations: 237\n",
      "            Function evaluations: 237\n",
      "            Gradient evaluations: 237\n"
     ]
    },
    {
     "name": "stderr",
     "output_type": "stream",
     "text": [
      "/Users/marlonfacey/anaconda3/lib/python3.7/site-packages/sklearn/linear_model/_logistic.py:765: ConvergenceWarning: lbfgs failed to converge (status=1):\n",
      "STOP: TOTAL NO. of ITERATIONS REACHED LIMIT.\n",
      "\n",
      "Increase the number of iterations (max_iter) or scale the data as shown in:\n",
      "    https://scikit-learn.org/stable/modules/preprocessing.html\n",
      "Please also refer to the documentation for alternative solver options:\n",
      "    https://scikit-learn.org/stable/modules/linear_model.html#logistic-regression\n",
      "  extra_warning_msg=_LOGISTIC_SOLVER_CONVERGENCE_MSG)\n"
     ]
    }
   ],
   "source": [
    "train, test = train_test_split(df, train_size=0.80, random_state=1)\n",
    "train = train.fillna(0)\n",
    "test = test.fillna(0)\n",
    "X = train.drop(columns=['loan_status'])\n",
    "# Normalize Data (Using min max)\n",
    "X = normalize(X)\n",
    "# Note: Could also try multinomial logistic regression since the loan status doesnt necessarily have to be 0 or 1\n",
    "# Perhaps cluster robust estimator by loan purpose or some other variable\n",
    "Y = train['loan_status']\n",
    "# Add regulariztion since otherwise with the normalized variables it wont converge\n",
    "log_reg = sm.Logit(Y, X).fit_regularized()\n",
    "clf = LogisticRegression(class_weight = 'balanced').fit(X,Y)\n",
    "# results = log_reg"
   ]
  },
  {
   "cell_type": "code",
   "execution_count": 12,
   "id": "654b58cd",
   "metadata": {},
   "outputs": [
    {
     "data": {
      "text/html": [
       "<table class=\"simpletable\">\n",
       "<caption>Logit Regression Results</caption>\n",
       "<tr>\n",
       "  <th>Dep. Variable:</th>      <td>loan_status</td>   <th>  No. Observations:  </th>  <td> 75744</td> \n",
       "</tr>\n",
       "<tr>\n",
       "  <th>Model:</th>                 <td>Logit</td>      <th>  Df Residuals:      </th>  <td> 75717</td> \n",
       "</tr>\n",
       "<tr>\n",
       "  <th>Method:</th>                 <td>MLE</td>       <th>  Df Model:          </th>  <td>    26</td> \n",
       "</tr>\n",
       "<tr>\n",
       "  <th>Date:</th>            <td>Mon, 10 May 2021</td> <th>  Pseudo R-squ.:     </th>  <td>0.07611</td>\n",
       "</tr>\n",
       "<tr>\n",
       "  <th>Time:</th>                <td>20:12:04</td>     <th>  Log-Likelihood:    </th> <td> -32765.</td>\n",
       "</tr>\n",
       "<tr>\n",
       "  <th>converged:</th>             <td>True</td>       <th>  LL-Null:           </th> <td> -35465.</td>\n",
       "</tr>\n",
       "<tr>\n",
       "  <th>Covariance Type:</th>     <td>nonrobust</td>    <th>  LLR p-value:       </th>  <td> 0.000</td> \n",
       "</tr>\n",
       "</table>\n",
       "<table class=\"simpletable\">\n",
       "<tr>\n",
       "               <td></td>                 <th>coef</th>     <th>std err</th>      <th>z</th>      <th>P>|z|</th>  <th>[0.025</th>    <th>0.975]</th>  \n",
       "</tr>\n",
       "<tr>\n",
       "  <th>annual_inc</th>                 <td>   -5.9826</td> <td>    2.212</td> <td>   -2.704</td> <td> 0.007</td> <td>  -10.319</td> <td>   -1.647</td>\n",
       "</tr>\n",
       "<tr>\n",
       "  <th>chargeoff_within_12_mths</th>   <td>    0.3378</td> <td>    0.339</td> <td>    0.996</td> <td> 0.319</td> <td>   -0.327</td> <td>    1.002</td>\n",
       "</tr>\n",
       "<tr>\n",
       "  <th>delinq_2yrs</th>                <td>    0.1491</td> <td>    0.240</td> <td>    0.622</td> <td> 0.534</td> <td>   -0.321</td> <td>    0.619</td>\n",
       "</tr>\n",
       "<tr>\n",
       "  <th>dti</th>                        <td>    0.8017</td> <td>    0.052</td> <td>   15.335</td> <td> 0.000</td> <td>    0.699</td> <td>    0.904</td>\n",
       "</tr>\n",
       "<tr>\n",
       "  <th>emp_length</th>                 <td>   -0.0769</td> <td>    0.025</td> <td>   -3.023</td> <td> 0.003</td> <td>   -0.127</td> <td>   -0.027</td>\n",
       "</tr>\n",
       "<tr>\n",
       "  <th>home_ownership</th>             <td>   -0.0020</td> <td>    0.033</td> <td>   -0.060</td> <td> 0.952</td> <td>   -0.067</td> <td>    0.063</td>\n",
       "</tr>\n",
       "<tr>\n",
       "  <th>inq_last_6mths</th>             <td>    0.2956</td> <td>    0.065</td> <td>    4.572</td> <td> 0.000</td> <td>    0.169</td> <td>    0.422</td>\n",
       "</tr>\n",
       "<tr>\n",
       "  <th>installment</th>                <td>    1.5148</td> <td>    0.353</td> <td>    4.287</td> <td> 0.000</td> <td>    0.822</td> <td>    2.207</td>\n",
       "</tr>\n",
       "<tr>\n",
       "  <th>int_rate</th>                   <td>    2.2932</td> <td>    0.067</td> <td>   34.162</td> <td> 0.000</td> <td>    2.162</td> <td>    2.425</td>\n",
       "</tr>\n",
       "<tr>\n",
       "  <th>loan_amnt</th>                  <td>   -1.0712</td> <td>    0.273</td> <td>   -3.929</td> <td> 0.000</td> <td>   -1.606</td> <td>   -0.537</td>\n",
       "</tr>\n",
       "<tr>\n",
       "  <th>pub_rec</th>                    <td>    0.9732</td> <td>    0.394</td> <td>    2.468</td> <td> 0.014</td> <td>    0.200</td> <td>    1.746</td>\n",
       "</tr>\n",
       "<tr>\n",
       "  <th>pub_rec_bankruptcies</th>       <td>    0.6729</td> <td>    0.408</td> <td>    1.650</td> <td> 0.099</td> <td>   -0.127</td> <td>    1.472</td>\n",
       "</tr>\n",
       "<tr>\n",
       "  <th>revol_bal</th>                  <td>  -12.1973</td> <td>    1.722</td> <td>   -7.083</td> <td> 0.000</td> <td>  -15.573</td> <td>   -8.822</td>\n",
       "</tr>\n",
       "<tr>\n",
       "  <th>term</th>                       <td>    0.5395</td> <td>    0.052</td> <td>   10.351</td> <td> 0.000</td> <td>    0.437</td> <td>    0.642</td>\n",
       "</tr>\n",
       "<tr>\n",
       "  <th>total_acc</th>                  <td>   -0.0851</td> <td>    0.109</td> <td>   -0.779</td> <td> 0.436</td> <td>   -0.299</td> <td>    0.129</td>\n",
       "</tr>\n",
       "<tr>\n",
       "  <th>purpose_car</th>                <td>   -3.3290</td> <td>    0.138</td> <td>  -24.175</td> <td> 0.000</td> <td>   -3.599</td> <td>   -3.059</td>\n",
       "</tr>\n",
       "<tr>\n",
       "  <th>purpose_credit_card</th>        <td>   -2.8813</td> <td>    0.044</td> <td>  -64.888</td> <td> 0.000</td> <td>   -2.968</td> <td>   -2.794</td>\n",
       "</tr>\n",
       "<tr>\n",
       "  <th>purpose_debt_consolidation</th> <td>   -2.9236</td> <td>    0.043</td> <td>  -67.844</td> <td> 0.000</td> <td>   -3.008</td> <td>   -2.839</td>\n",
       "</tr>\n",
       "<tr>\n",
       "  <th>purpose_home_improvement</th>   <td>   -2.9513</td> <td>    0.061</td> <td>  -48.152</td> <td> 0.000</td> <td>   -3.071</td> <td>   -2.831</td>\n",
       "</tr>\n",
       "<tr>\n",
       "  <th>purpose_house</th>              <td>   -3.2965</td> <td>    0.166</td> <td>  -19.829</td> <td> 0.000</td> <td>   -3.622</td> <td>   -2.971</td>\n",
       "</tr>\n",
       "<tr>\n",
       "  <th>purpose_major_purchase</th>     <td>   -2.8136</td> <td>    0.085</td> <td>  -32.966</td> <td> 0.000</td> <td>   -2.981</td> <td>   -2.646</td>\n",
       "</tr>\n",
       "<tr>\n",
       "  <th>purpose_medical</th>            <td>   -2.9460</td> <td>    0.108</td> <td>  -27.380</td> <td> 0.000</td> <td>   -3.157</td> <td>   -2.735</td>\n",
       "</tr>\n",
       "<tr>\n",
       "  <th>purpose_moving</th>             <td>   -2.8392</td> <td>    0.120</td> <td>  -23.625</td> <td> 0.000</td> <td>   -3.075</td> <td>   -2.604</td>\n",
       "</tr>\n",
       "<tr>\n",
       "  <th>purpose_other</th>              <td>   -3.0733</td> <td>    0.061</td> <td>  -49.980</td> <td> 0.000</td> <td>   -3.194</td> <td>   -2.953</td>\n",
       "</tr>\n",
       "<tr>\n",
       "  <th>purpose_renewable_energy</th>   <td>   -2.4524</td> <td>    0.308</td> <td>   -7.965</td> <td> 0.000</td> <td>   -3.056</td> <td>   -1.849</td>\n",
       "</tr>\n",
       "<tr>\n",
       "  <th>purpose_small_business</th>     <td>   -2.7329</td> <td>    0.099</td> <td>  -27.486</td> <td> 0.000</td> <td>   -2.928</td> <td>   -2.538</td>\n",
       "</tr>\n",
       "<tr>\n",
       "  <th>purpose_vacation</th>           <td>   -2.9149</td> <td>    0.148</td> <td>  -19.704</td> <td> 0.000</td> <td>   -3.205</td> <td>   -2.625</td>\n",
       "</tr>\n",
       "</table>"
      ],
      "text/plain": [
       "<class 'statsmodels.iolib.summary.Summary'>\n",
       "\"\"\"\n",
       "                           Logit Regression Results                           \n",
       "==============================================================================\n",
       "Dep. Variable:            loan_status   No. Observations:                75744\n",
       "Model:                          Logit   Df Residuals:                    75717\n",
       "Method:                           MLE   Df Model:                           26\n",
       "Date:                Mon, 10 May 2021   Pseudo R-squ.:                 0.07611\n",
       "Time:                        20:12:04   Log-Likelihood:                -32765.\n",
       "converged:                       True   LL-Null:                       -35465.\n",
       "Covariance Type:            nonrobust   LLR p-value:                     0.000\n",
       "==============================================================================================\n",
       "                                 coef    std err          z      P>|z|      [0.025      0.975]\n",
       "----------------------------------------------------------------------------------------------\n",
       "annual_inc                    -5.9826      2.212     -2.704      0.007     -10.319      -1.647\n",
       "chargeoff_within_12_mths       0.3378      0.339      0.996      0.319      -0.327       1.002\n",
       "delinq_2yrs                    0.1491      0.240      0.622      0.534      -0.321       0.619\n",
       "dti                            0.8017      0.052     15.335      0.000       0.699       0.904\n",
       "emp_length                    -0.0769      0.025     -3.023      0.003      -0.127      -0.027\n",
       "home_ownership                -0.0020      0.033     -0.060      0.952      -0.067       0.063\n",
       "inq_last_6mths                 0.2956      0.065      4.572      0.000       0.169       0.422\n",
       "installment                    1.5148      0.353      4.287      0.000       0.822       2.207\n",
       "int_rate                       2.2932      0.067     34.162      0.000       2.162       2.425\n",
       "loan_amnt                     -1.0712      0.273     -3.929      0.000      -1.606      -0.537\n",
       "pub_rec                        0.9732      0.394      2.468      0.014       0.200       1.746\n",
       "pub_rec_bankruptcies           0.6729      0.408      1.650      0.099      -0.127       1.472\n",
       "revol_bal                    -12.1973      1.722     -7.083      0.000     -15.573      -8.822\n",
       "term                           0.5395      0.052     10.351      0.000       0.437       0.642\n",
       "total_acc                     -0.0851      0.109     -0.779      0.436      -0.299       0.129\n",
       "purpose_car                   -3.3290      0.138    -24.175      0.000      -3.599      -3.059\n",
       "purpose_credit_card           -2.8813      0.044    -64.888      0.000      -2.968      -2.794\n",
       "purpose_debt_consolidation    -2.9236      0.043    -67.844      0.000      -3.008      -2.839\n",
       "purpose_home_improvement      -2.9513      0.061    -48.152      0.000      -3.071      -2.831\n",
       "purpose_house                 -3.2965      0.166    -19.829      0.000      -3.622      -2.971\n",
       "purpose_major_purchase        -2.8136      0.085    -32.966      0.000      -2.981      -2.646\n",
       "purpose_medical               -2.9460      0.108    -27.380      0.000      -3.157      -2.735\n",
       "purpose_moving                -2.8392      0.120    -23.625      0.000      -3.075      -2.604\n",
       "purpose_other                 -3.0733      0.061    -49.980      0.000      -3.194      -2.953\n",
       "purpose_renewable_energy      -2.4524      0.308     -7.965      0.000      -3.056      -1.849\n",
       "purpose_small_business        -2.7329      0.099    -27.486      0.000      -2.928      -2.538\n",
       "purpose_vacation              -2.9149      0.148    -19.704      0.000      -3.205      -2.625\n",
       "==============================================================================================\n",
       "\"\"\""
      ]
     },
     "execution_count": 12,
     "metadata": {},
     "output_type": "execute_result"
    }
   ],
   "source": [
    "log_reg.summary()"
   ]
  },
  {
   "cell_type": "code",
   "execution_count": 13,
   "id": "9d605a20",
   "metadata": {},
   "outputs": [
    {
     "name": "stdout",
     "output_type": "stream",
     "text": [
      "No Skill: ROC AUC=0.500\n",
      "Logistic: ROC AUC=0.505\n"
     ]
    },
    {
     "data": {
      "image/png": "[encoded data removed]",
      "text/plain": [
       "<Figure size 432x288 with 1 Axes>"
      ]
     },
     "metadata": {
      "needs_background": "light"
     },
     "output_type": "display_data"
    }
   ],
   "source": [
    "# TO-DO: Precision Recall is better since we have a large class imbalance \n",
    "X_test = test.drop(columns=['loan_status'])\n",
    "X_test = normalize(X_test)\n",
    "y_test = test['loan_status']\n",
    "ns_probs = [0 for _ in range(len(y_test))]\n",
    "lr_probs = log_reg.predict(X_test)\n",
    "lr_probs = lr_probs.reset_index(drop=True)\n",
    "lr_probs = lr_probs * (lr_probs > .5)\n",
    "ns_auc = roc_auc_score(y_test, ns_probs)\n",
    "lr_auc = roc_auc_score(y_test, lr_probs)\n",
    "print('No Skill: ROC AUC=%.3f' % (ns_auc))\n",
    "print('Logistic: ROC AUC=%.3f' % (lr_auc))\n",
    "# calculate roc curves\n",
    "ns_fpr, ns_tpr, _ = roc_curve(y_test, ns_probs)\n",
    "lr_fpr, lr_tpr, _ = roc_curve(y_test, lr_probs)\n",
    "# plot the roc curve for the model\n",
    "plt.plot(ns_fpr, ns_tpr, linestyle='--', label='No Skill')\n",
    "plt.plot(lr_fpr, lr_tpr, marker='.', label='Logistic')\n",
    "# axis labels\n",
    "plt.xlabel('False Positive Rate')\n",
    "plt.ylabel('True Positive Rate')\n",
    "# show the legend\n",
    "plt.legend()\n",
    "# show the plot\n",
    "plt.show()"
   ]
  },
  {
   "cell_type": "code",
   "execution_count": 143,
   "id": "78b5ac9f",
   "metadata": {},
   "outputs": [
    {
     "data": {
      "text/plain": [
       "6793"
      ]
     },
     "execution_count": 143,
     "metadata": {},
     "output_type": "execute_result"
    }
   ],
   "source": [
    "np.sum(y_pred)"
   ]
  },
  {
   "cell_type": "code",
   "execution_count": 515,
   "id": "d1394c56",
   "metadata": {},
   "outputs": [
    {
     "name": "stdout",
     "output_type": "stream",
     "text": [
      "Accuracy Score: 0.725126742712294\n",
      "Confusion Matrix: \n",
      "[[12097  3417]\n",
      " [ 1788  1634]]\n",
      "Area Under Curve: 0.6286229319314686\n",
      "Recall score: 0.4774985388661601\n"
     ]
    },
    {
     "name": "stderr",
     "output_type": "stream",
     "text": [
      "/Users/marlonfacey/anaconda3/lib/python3.7/site-packages/sklearn/linear_model/_logistic.py:765: ConvergenceWarning: lbfgs failed to converge (status=1):\n",
      "STOP: TOTAL NO. of ITERATIONS REACHED LIMIT.\n",
      "\n",
      "Increase the number of iterations (max_iter) or scale the data as shown in:\n",
      "    https://scikit-learn.org/stable/modules/preprocessing.html\n",
      "Please also refer to the documentation for alternative solver options:\n",
      "    https://scikit-learn.org/stable/modules/linear_model.html#logistic-regression\n",
      "  extra_warning_msg=_LOGISTIC_SOLVER_CONVERGENCE_MSG)\n"
     ]
    }
   ],
   "source": [
    "w = {0:1, 1:4}\n",
    "clf = LogisticRegression(class_weight = w,)\n",
    "result = clf.fit(X,Y)\n",
    "y_pred = clf.predict(X_test)\n",
    "\n",
    "\n",
    "print(f'Accuracy Score: {accuracy_score(y_test,y_pred)}')\n",
    "print(f'Confusion Matrix: \\n{confusion_matrix(y_test, y_pred)}')\n",
    "print(f'Area Under Curve: {roc_auc_score(y_test, y_pred)}')\n",
    "print(f'Recall score: {recall_score(y_test,y_pred)}')\n"
   ]
  },
  {
   "cell_type": "code",
   "execution_count": 516,
   "id": "8fa5cbee",
   "metadata": {},
   "outputs": [
    {
     "data": {
      "text/plain": [
       "array([[-2.5706758 ,  0.16194835,  0.17319858,  0.78769997, -0.08946624,\n",
       "         0.01827081,  0.26859471,  1.30146622,  2.53942676, -1.0303203 ,\n",
       "         1.07071243,  0.81275505, -5.37296086,  0.50971267, -0.0836118 ,\n",
       "        -0.33618832,  0.06349469,  0.01672612, -0.01151858, -0.36727203,\n",
       "         0.130853  , -0.03224254,  0.06646013, -0.1462593 ,  0.25511119,\n",
       "         0.19922716, -0.02942738]])"
      ]
     },
     "execution_count": 516,
     "metadata": {},
     "output_type": "execute_result"
    }
   ],
   "source": [
    "clf.coef_"
   ]
  },
  {
   "cell_type": "code",
   "execution_count": 489,
   "id": "5576838d",
   "metadata": {},
   "outputs": [
    {
     "name": "stdout",
     "output_type": "stream",
     "text": [
      "Logistic: f1=0.386 auc=0.324\n"
     ]
    },
    {
     "data": {
      "image/png": "[encoded data removed]",
      "text/plain": [
       "<Figure size 432x288 with 1 Axes>"
      ]
     },
     "metadata": {
      "needs_background": "light"
     },
     "output_type": "display_data"
    }
   ],
   "source": [
    "lr_probs = clf.predict_proba(X_test)\n",
    "lr_probs = lr_probs[:, 1]\n",
    "lr_precision, lr_recall, _ = precision_recall_curve(y_test, lr_probs)\n",
    "lr_f1, lr_auc = f1_score(y_test, y_pred), auc(lr_recall, lr_precision)\n",
    "# summarize scores\n",
    "print('Logistic: f1=%.3f auc=%.3f' % (lr_f1, lr_auc))\n",
    "# plot the precision-recall curves\n",
    "no_skill = len(y_test[y_test==1]) / len(y_test)\n",
    "pyplot.plot([0, 1], [no_skill, no_skill], linestyle='--', label='No Skill')\n",
    "pyplot.plot(lr_recall, lr_precision, marker='.', label='Logistic')\n",
    "# axis labels\n",
    "pyplot.xlabel('Recall')\n",
    "pyplot.ylabel('Precision')\n",
    "# show the legend\n",
    "pyplot.legend()\n",
    "# show the plot\n",
    "pyplot.show()"
   ]
  },
  {
   "cell_type": "code",
   "execution_count": 14,
   "id": "8b740732",
   "metadata": {},
   "outputs": [
    {
     "name": "stderr",
     "output_type": "stream",
     "text": [
      "/Users/marlonfacey/anaconda3/lib/python3.7/site-packages/statsmodels/genmod/generalized_linear_model.py:1323: UserWarning: Elastic net fitting did not converge\n",
      "  warnings.warn(\"Elastic net fitting did not converge\")\n"
     ]
    },
    {
     "name": "stdout",
     "output_type": "stream",
     "text": [
      "No Skill: ROC AUC=0.500\n",
      "Logistic: ROC AUC=0.625\n"
     ]
    },
    {
     "data": {
      "image/png": "[encoded data removed]",
      "text/plain": [
       "<Figure size 432x288 with 1 Axes>"
      ]
     },
     "metadata": {
      "needs_background": "light"
     },
     "output_type": "display_data"
    }
   ],
   "source": [
    "freq = (Y == 1)\n",
    "freq[Y==1] = 4\n",
    "freq[Y==0] = 1\n",
    "\n",
    "clf = GLM(Y,X,family=families.Binomial(),freq_weights = freq)\n",
    "res = clf.fit_regularized()\n",
    "ns_probs = [0 for _ in range(len(y_test))]\n",
    "lr_probs = res.predict(X_test)\n",
    "lr_probs = lr_probs.reset_index(drop=True)\n",
    "lr_probs = lr_probs * (lr_probs > .5)\n",
    "ns_auc = roc_auc_score(y_test, ns_probs)\n",
    "lr_auc = roc_auc_score(y_test, lr_probs)\n",
    "print('No Skill: ROC AUC=%.3f' % (ns_auc))\n",
    "print('Logistic: ROC AUC=%.3f' % (lr_auc))\n",
    "# calculate roc curves\n",
    "ns_fpr, ns_tpr, _ = roc_curve(y_test, ns_probs)\n",
    "lr_fpr, lr_tpr, _ = roc_curve(y_test, lr_probs)\n",
    "# plot the roc curve for the model\n",
    "plt.plot(ns_fpr, ns_tpr, linestyle='--', label='No Skill')\n",
    "plt.plot(lr_fpr, lr_tpr, marker='.', label='Logistic')\n",
    "# axis labels\n",
    "plt.xlabel('False Positive Rate')\n",
    "plt.ylabel('True Positive Rate')\n",
    "# show the legend\n",
    "plt.legend()\n",
    "# show the plot\n",
    "plt.show()"
   ]
  },
  {
   "cell_type": "code",
   "execution_count": 15,
   "id": "5661383e",
   "metadata": {},
   "outputs": [
    {
     "data": {
      "text/plain": [
       "annual_inc                    -4.094423\n",
       "chargeoff_within_12_mths       0.301519\n",
       "delinq_2yrs                    0.137373\n",
       "dti                            0.823733\n",
       "emp_length                    -0.074708\n",
       "home_ownership                 0.019872\n",
       "inq_last_6mths                 0.297514\n",
       "installment                    2.532803\n",
       "int_rate                       2.412158\n",
       "loan_amnt                     -1.870546\n",
       "pub_rec                        1.078394\n",
       "pub_rec_bankruptcies           0.710988\n",
       "revol_bal                    -10.581260\n",
       "term                           0.667432\n",
       "total_acc                     -0.037898\n",
       "purpose_car                   -2.026137\n",
       "purpose_credit_card           -1.604164\n",
       "purpose_debt_consolidation    -1.660519\n",
       "purpose_home_improvement      -1.685902\n",
       "purpose_house                 -2.037839\n",
       "purpose_major_purchase        -1.542952\n",
       "purpose_medical               -1.652735\n",
       "purpose_moving                -1.570382\n",
       "purpose_other                 -1.809381\n",
       "purpose_renewable_energy      -1.248963\n",
       "purpose_small_business        -1.479636\n",
       "purpose_vacation              -1.647707\n",
       "dtype: float64"
      ]
     },
     "execution_count": 15,
     "metadata": {},
     "output_type": "execute_result"
    }
   ],
   "source": [
    "res.params"
   ]
  },
  {
   "cell_type": "code",
   "execution_count": 16,
   "id": "73713826",
   "metadata": {},
   "outputs": [
    {
     "name": "stdout",
     "output_type": "stream",
     "text": [
      "Accuracy: 74.46%\n"
     ]
    }
   ],
   "source": [
    "lr_probs = res.predict(X_test)\n",
    "lr_probs = lr_probs.reset_index(drop=True)\n",
    "lr_probs = (lr_probs > .5).astype('int')\n",
    "accuracy = np.mean(y_test.reset_index(drop=True) == lr_probs)\n",
    "\n",
    "print(\"Accuracy: %.2f%%\" % (accuracy * 100.0))"
   ]
  },
  {
   "cell_type": "code",
   "execution_count": 17,
   "id": "595579cc",
   "metadata": {},
   "outputs": [],
   "source": [
    "top_coeffs = abs(res.params) > 2"
   ]
  },
  {
   "cell_type": "code",
   "execution_count": 18,
   "id": "5d3176c6",
   "metadata": {},
   "outputs": [
    {
     "data": {
      "text/plain": [
       "annual_inc                     True\n",
       "chargeoff_within_12_mths      False\n",
       "delinq_2yrs                   False\n",
       "dti                           False\n",
       "emp_length                    False\n",
       "home_ownership                False\n",
       "inq_last_6mths                False\n",
       "installment                    True\n",
       "int_rate                       True\n",
       "loan_amnt                     False\n",
       "pub_rec                       False\n",
       "pub_rec_bankruptcies          False\n",
       "revol_bal                      True\n",
       "term                          False\n",
       "total_acc                     False\n",
       "purpose_car                    True\n",
       "purpose_credit_card           False\n",
       "purpose_debt_consolidation    False\n",
       "purpose_home_improvement      False\n",
       "purpose_house                  True\n",
       "purpose_major_purchase        False\n",
       "purpose_medical               False\n",
       "purpose_moving                False\n",
       "purpose_other                 False\n",
       "purpose_renewable_energy      False\n",
       "purpose_small_business        False\n",
       "purpose_vacation              False\n",
       "dtype: bool"
      ]
     },
     "execution_count": 18,
     "metadata": {},
     "output_type": "execute_result"
    }
   ],
   "source": [
    "top_coeffs"
   ]
  },
  {
   "cell_type": "code",
   "execution_count": 21,
   "id": "c5772f56",
   "metadata": {},
   "outputs": [
    {
     "name": "stderr",
     "output_type": "stream",
     "text": [
      "/Users/marlonfacey/anaconda3/lib/python3.7/site-packages/statsmodels/genmod/generalized_linear_model.py:1323: UserWarning: Elastic net fitting did not converge\n",
      "  warnings.warn(\"Elastic net fitting did not converge\")\n"
     ]
    },
    {
     "name": "stdout",
     "output_type": "stream",
     "text": [
      "(50, 6)\n"
     ]
    }
   ],
   "source": [
    "tuning_params = 10**np.linspace(5,-4,50)*0.5\n",
    "coefs = []\n",
    "for a in tuning_params:\n",
    "    clf = GLM(Y,X,family=families.Binomial(),freq_weights = freq)\n",
    "    log_reg = clf.fit_regularized(alpha=a, L1_wt=1)\n",
    "    coefs.append(log_reg.params[top_coeffs])\n",
    "\n",
    "    \n",
    "print(np.shape(coefs))\n"
   ]
  },
  {
   "cell_type": "code",
   "execution_count": null,
   "id": "5651e7c2",
   "metadata": {},
   "outputs": [],
   "source": []
  },
  {
   "cell_type": "code",
   "execution_count": 22,
   "id": "26a0f55d",
   "metadata": {},
   "outputs": [
    {
     "data": {
      "text/plain": [
       "<matplotlib.legend.Legend at 0x123a95a50>"
      ]
     },
     "execution_count": 22,
     "metadata": {},
     "output_type": "execute_result"
    },
    {
     "data": {
      "image/png": "[encoded data removed]",
      "text/plain": [
       "<Figure size 432x288 with 1 Axes>"
      ]
     },
     "metadata": {
      "needs_background": "light"
     },
     "output_type": "display_data"
    }
   ],
   "source": [
    "ax = plt.gca()\n",
    "ax.plot(tuning_params, coefs)\n",
    "ax.set_xscale('log')\n",
    "plt.axis('tight')\n",
    "plt.title('Lasso Trace for Y')\n",
    "plt.xlabel('alpha (Lambda)')\n",
    "plt.ylabel('Standardized Betas (weights)')\n",
    "plt.legend(X.columns[top_coeffs])"
   ]
  },
  {
   "cell_type": "code",
   "execution_count": 24,
   "id": "e7d7cb2b",
   "metadata": {},
   "outputs": [
    {
     "name": "stdout",
     "output_type": "stream",
     "text": [
      "(50, 6)\n"
     ]
    }
   ],
   "source": [
    "tuning_params = 10**np.linspace(5,-4,50)*0.5\n",
    "coefs = []\n",
    "for a in tuning_params:\n",
    "    clf = GLM(Y,X,family=families.Binomial(),freq_weights = freq)\n",
    "    log_reg = clf.fit_regularized(alpha=a, L1_wt=0)\n",
    "    coefs.append(log_reg.params[top_coeffs])\n",
    "\n",
    "    \n",
    "print(np.shape(coefs))"
   ]
  },
  {
   "cell_type": "code",
   "execution_count": 25,
   "id": "12e5f0b8",
   "metadata": {},
   "outputs": [
    {
     "data": {
      "text/plain": [
       "<matplotlib.legend.Legend at 0x12ac38110>"
      ]
     },
     "execution_count": 25,
     "metadata": {},
     "output_type": "execute_result"
    },
    {
     "data": {
      "image/png": "[encoded data removed]",
      "text/plain": [
       "<Figure size 432x288 with 1 Axes>"
      ]
     },
     "metadata": {
      "needs_background": "light"
     },
     "output_type": "display_data"
    }
   ],
   "source": [
    "ax = plt.gca()\n",
    "ax.plot(tuning_params, coefs)\n",
    "ax.set_xscale('log')\n",
    "plt.axis('tight')\n",
    "plt.title('Lasso Trace for Y')\n",
    "plt.xlabel('alpha (Lambda)')\n",
    "plt.ylabel('Standardized Betas (weights)')\n",
    "plt.legend(X.columns[top_coeffs])"
   ]
  },
  {
   "cell_type": "code",
   "execution_count": null,
   "id": "5d1e7250",
   "metadata": {},
   "outputs": [],
   "source": []
  }
 ],
 "metadata": {
  "kernelspec": {
   "display_name": "Python 3",
   "language": "python",
   "name": "python3"
  },
  "language_info": {
   "codemirror_mode": {
    "name": "ipython",
    "version": 3
   },
   "file_extension": ".py",
   "mimetype": "text/x-python",
   "name": "python",
   "nbconvert_exporter": "python",
   "pygments_lexer": "ipython3",
   "version": "3.7.6"
  }
 },
 "nbformat": 4,
 "nbformat_minor": 5
}
